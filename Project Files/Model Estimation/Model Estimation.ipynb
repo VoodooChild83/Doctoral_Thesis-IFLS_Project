{
 "cells": [
  {
   "cell_type": "markdown",
   "metadata": {},
   "source": [
    "# Estimation of Model in Chapter 2 of Thesis"
   ]
  },
  {
   "cell_type": "code",
   "execution_count": 2,
   "metadata": {
    "collapsed": true
   },
   "outputs": [],
   "source": [
    "import pandas as pd\n",
    "import numpy as np\n",
    "from scipy.optimize import minimize as MIN, show_options as SO\n",
    "import time\n",
    "from collections import Counter\n",
    "%load_ext Cython"
   ]
  },
  {
   "cell_type": "markdown",
   "metadata": {},
   "source": [
    "### File Names for the dataframe"
   ]
  },
  {
   "cell_type": "code",
   "execution_count": 3,
   "metadata": {
    "collapsed": true
   },
   "outputs": [],
   "source": [
    "#File path of STATA dataset\n",
    "\n",
    "Path_Data = \"/Users/idiosyncrasy58/Dropbox/Documents/College/\"+ \\\n",
    "            \"Universitat Autonoma de Barcelona/IDEA - Economics/\"+ \\\n",
    "            \"Doctoral Thesis Ideas/Migration/IFLS/Project Files/\"+ \\\n",
    "            \"Temp Files/Longitudinal Adult Children Data for Estimation.dta\""
   ]
  },
  {
   "cell_type": "code",
   "execution_count": 4,
   "metadata": {},
   "outputs": [
    {
     "data": {
      "text/html": [
       "<div>\n",
       "<table border=\"1\" class=\"dataframe\">\n",
       "  <thead>\n",
       "    <tr style=\"text-align: right;\">\n",
       "      <th></th>\n",
       "      <th>Household</th>\n",
       "      <th>sex</th>\n",
       "      <th>age</th>\n",
       "      <th>MaxSchYrs</th>\n",
       "      <th>ParentalSchAvg</th>\n",
       "      <th>MarketCode</th>\n",
       "      <th>InterMarket_FamilyMig</th>\n",
       "      <th>Skill_Level_2</th>\n",
       "      <th>Skill_Level_2_Parents</th>\n",
       "      <th>Wage_2_HH</th>\n",
       "      <th>Educ_3</th>\n",
       "    </tr>\n",
       "  </thead>\n",
       "  <tbody>\n",
       "    <tr>\n",
       "      <th>0</th>\n",
       "      <td>001220003</td>\n",
       "      <td>1.0</td>\n",
       "      <td>19</td>\n",
       "      <td>13</td>\n",
       "      <td>3.0</td>\n",
       "      <td>1</td>\n",
       "      <td>0</td>\n",
       "      <td>1</td>\n",
       "      <td>0</td>\n",
       "      <td>1.047</td>\n",
       "      <td>1</td>\n",
       "    </tr>\n",
       "    <tr>\n",
       "      <th>1</th>\n",
       "      <td>001250003</td>\n",
       "      <td>1.0</td>\n",
       "      <td>14</td>\n",
       "      <td>3</td>\n",
       "      <td>4.0</td>\n",
       "      <td>1</td>\n",
       "      <td>0</td>\n",
       "      <td>0</td>\n",
       "      <td>0</td>\n",
       "      <td>1.047</td>\n",
       "      <td>0</td>\n",
       "    </tr>\n",
       "    <tr>\n",
       "      <th>2</th>\n",
       "      <td>001290003</td>\n",
       "      <td>3.0</td>\n",
       "      <td>14</td>\n",
       "      <td>4</td>\n",
       "      <td>0.0</td>\n",
       "      <td>1</td>\n",
       "      <td>0</td>\n",
       "      <td>0</td>\n",
       "      <td>0</td>\n",
       "      <td>1.047</td>\n",
       "      <td>0</td>\n",
       "    </tr>\n",
       "    <tr>\n",
       "      <th>3</th>\n",
       "      <td>002010007</td>\n",
       "      <td>3.0</td>\n",
       "      <td>17</td>\n",
       "      <td>13</td>\n",
       "      <td>7.0</td>\n",
       "      <td>1</td>\n",
       "      <td>0</td>\n",
       "      <td>1</td>\n",
       "      <td>0</td>\n",
       "      <td>1.047</td>\n",
       "      <td>1</td>\n",
       "    </tr>\n",
       "    <tr>\n",
       "      <th>4</th>\n",
       "      <td>002040003</td>\n",
       "      <td>3.0</td>\n",
       "      <td>14</td>\n",
       "      <td>6</td>\n",
       "      <td>0.5</td>\n",
       "      <td>1</td>\n",
       "      <td>0</td>\n",
       "      <td>0</td>\n",
       "      <td>0</td>\n",
       "      <td>1.047</td>\n",
       "      <td>0</td>\n",
       "    </tr>\n",
       "  </tbody>\n",
       "</table>\n",
       "</div>"
      ],
      "text/plain": [
       "   Household  sex  age  MaxSchYrs  ParentalSchAvg  MarketCode  \\\n",
       "0  001220003  1.0   19         13             3.0           1   \n",
       "1  001250003  1.0   14          3             4.0           1   \n",
       "2  001290003  3.0   14          4             0.0           1   \n",
       "3  002010007  3.0   17         13             7.0           1   \n",
       "4  002040003  3.0   14          6             0.5           1   \n",
       "\n",
       "   InterMarket_FamilyMig  Skill_Level_2  Skill_Level_2_Parents  Wage_2_HH  \\\n",
       "0                      0              1                      0      1.047   \n",
       "1                      0              0                      0      1.047   \n",
       "2                      0              0                      0      1.047   \n",
       "3                      0              1                      0      1.047   \n",
       "4                      0              0                      0      1.047   \n",
       "\n",
       "   Educ_3  \n",
       "0       1  \n",
       "1       0  \n",
       "2       0  \n",
       "3       1  \n",
       "4       0  "
      ]
     },
     "execution_count": 4,
     "metadata": {},
     "output_type": "execute_result"
    }
   ],
   "source": [
    "index = {1:'Low-Skilled, Everywhere Else',2:'Low-Skilled, Java',\n",
    "         3:'High-Skilled, Everywhere Else',4:'High-Skilled, Java'}\n",
    " \n",
    "col_keep = ['pidlink','sex','age','MaxSchYrs','ParentalSchAvg','MarketCode','InterMarket_FamilyMig',\n",
    "            'Skill_Level_2','Skill_Level_2_Parents','Wage_2_HH','Educ_3']\n",
    "\n",
    "#Read in the file\n",
    "Data = pd.read_stata(Path_Data,columns=col_keep).rename(columns={'pidlink':'Household'})\n",
    "\n",
    "Data.head()"
   ]
  },
  {
   "cell_type": "code",
   "execution_count": 5,
   "metadata": {
    "collapsed": true
   },
   "outputs": [],
   "source": [
    "#Create the Variables highlighting where the parents moved to\n",
    "\n",
    "def Market_Move(Curr_Loc, Choice):\n",
    "    \n",
    "    if Curr_Loc==1 and Choice==1:\n",
    "        Move = 2\n",
    "    elif Curr_Loc==2 and Choice==1:\n",
    "        Move = 1\n",
    "    elif Choice==0:\n",
    "        Move = Curr_Loc\n",
    "    \n",
    "    return Move\n",
    "    \n",
    "def State_Def(Loc, Skill):\n",
    "    \n",
    "    if Loc==1 and Skill==0:\n",
    "        State = 1\n",
    "    elif Loc==1 and Skill==1:\n",
    "        State = 3\n",
    "    elif Loc==2 and Skill==0:\n",
    "        State = 2\n",
    "    else: State = 4\n",
    "        \n",
    "    return State\n",
    "\n",
    "def Dec_Def(Loc_Choice, Educ_Choice):\n",
    "    \n",
    "    if Loc_Choice==0 and Educ_Choice==0:\n",
    "        Decision = 1\n",
    "    elif Loc_Choice==0 and Educ_Choice==1:\n",
    "        Decision = 2\n",
    "    elif Loc_Choice==1 and Educ_Choice==0:\n",
    "        Decision = 3\n",
    "    else: Decision = 4\n",
    "        \n",
    "    return Decision\n",
    "\n",
    "Data['MarketCode_Move'] = Data.apply(lambda row: \n",
    "                                     Market_Move(row['MarketCode'],row['InterMarket_FamilyMig']), \n",
    "                                     axis=1)\n",
    "\n",
    "Data['Parent_State'] = Data.apply(lambda row: \n",
    "                                     State_Def(row['MarketCode'],row['Skill_Level_2_Parents']), \n",
    "                                     axis=1)\n",
    "\n",
    "Data['Decision'] = Data.apply(lambda row: \n",
    "                                     Dec_Def(row['InterMarket_FamilyMig'],row['Educ_3']), \n",
    "                                     axis=1)"
   ]
  },
  {
   "cell_type": "markdown",
   "metadata": {},
   "source": [
    "### Test the States for the Transition Functions\n",
    "\n",
    "For the simple model we will consider the possibility that children are educated but since the 'amount' of education parents invested in their child may not reach compulsory education (up to grade 9 or more), then those who do not reach this threshold are considered 'low skilled' --> so that parents' education decision may not lead to a high skilled outcome. \n",
    "\n",
    "That being said, if parents give their child less than 9 years of education, then they should necessarily know that these children are not going to be high skilled. In which case, this is not ex ante expected but a deterministic outcome. If, on the other hand, I use the child's occupational choice to determine the skill of the child (through the ONET dataset), then parents can form an expectation on the child's skill level outcome from education, since some children with lower education may end up in a high skilled job, some children with more education may end up in a low skilled job. \n",
    "\n",
    "**Solution**: Go with the deterministic to make it simple"
   ]
  },
  {
   "cell_type": "code",
   "execution_count": 6,
   "metadata": {},
   "outputs": [
    {
     "data": {
      "text/plain": [
       "Skill_Level_2_Parents  MarketCode  MarketCode_Move  Educ_3\n",
       "0                      1           1                0         0\n",
       "                                                    1         1\n",
       "                       2           2                0         0\n",
       "                                                    1         1\n",
       "1                      1           1                0         0\n",
       "                                                    1         1\n",
       "                       2           2                0         0\n",
       "                                                    1         1\n",
       "Name: Skill_Level_2, dtype: int8"
      ]
     },
     "execution_count": 6,
     "metadata": {},
     "output_type": "execute_result"
    }
   ],
   "source": [
    "Data.loc[Data.InterMarket_FamilyMig==0].groupby(['Skill_Level_2_Parents','MarketCode','MarketCode_Move','Educ_3'])['Skill_Level_2'].mean()"
   ]
  },
  {
   "cell_type": "code",
   "execution_count": 7,
   "metadata": {},
   "outputs": [
    {
     "data": {
      "text/plain": [
       "Skill_Level_2_Parents  MarketCode  MarketCode_Move  Educ_3\n",
       "0                      1           2                0         0\n",
       "                                                    1         1\n",
       "                       2           1                0         0\n",
       "                                                    1         1\n",
       "1                      1           2                0         0\n",
       "                                                    1         1\n",
       "                       2           1                0         0\n",
       "                                                    1         1\n",
       "Name: Skill_Level_2, dtype: int8"
      ]
     },
     "execution_count": 7,
     "metadata": {},
     "output_type": "execute_result"
    }
   ],
   "source": [
    "Data.loc[Data.InterMarket_FamilyMig==1].groupby(['Skill_Level_2_Parents','MarketCode','MarketCode_Move','Educ_3'])['Skill_Level_2'].mean()"
   ]
  },
  {
   "cell_type": "markdown",
   "metadata": {},
   "source": [
    "### Econometric Model Code\n",
    "\n",
    "The following cells generate the estimation of the model. Likely, where possible, code will be written in Cython when necessary (for example: the inner loop and the maximization via GSL).\n",
    "\n",
    "##### Model\n",
    "I write the following value function from the point of view of the old-age agent, indexed by $(d,g,t=2)$ (dynasty $d$, generation $g$, and period of life $t$):\n",
    "\\begin{equation}\n",
    "V_{d,g,t=2}(z,\\varepsilon) = \\max_{I_k\\in I} \\text{  } \\sum_k I_{k}\\left\\{v_{d,g,t=2}(z,k) + \\varepsilon_{k} \\right\\} \\end{equation}\n",
    "where\n",
    "\\begin{equation}\n",
    "v_{d,g,t=2}(z,k)=u(c)+\\alpha \\text{E}\\left[V_{d,g',t=2}(z',\\varepsilon')\\big|z,I_{k}=1\\right]\n",
    "\\end{equation}\n",
    "\n",
    "and utility, being linear and the same across generations, is $u(c)=c$.\n",
    "\n",
    "##### Specification\n",
    "The econometric specification of the model is the following:\n",
    "\n",
    "Wages: Agents receieve the median wages offered in each market based on their skill-level (where I take the skill-level of the first generation as pre-determined). Agents choose at the beginning of the period where they want to live and pay the cost to move there. Simultaneously, they choose whether to educate their child or not in their chosen location. \n",
    "\n",
    "The budget constraint is given by:\n",
    "\\begin{equation}\n",
    "c = w^{hh}(h,j) - \\delta\\cdot 1(\\ell\\neq j) - \\phi_{j}\\cdot 1(e=1)\n",
    "\\end{equation}\n",
    "\n",
    "and \n",
    "\\begin{equation}\n",
    "w^{hh}(h,j)=med(w(h,j))\n",
    "\\end{equation}\n",
    "\n",
    "#### Parameters"
   ]
  },
  {
   "cell_type": "code",
   "execution_count": 8,
   "metadata": {
    "collapsed": true
   },
   "outputs": [],
   "source": [
    "#Parameters and parameter vector to pass into function\n",
    "alpha=0.99**18        #altruism parameter = 0.99^18 \n",
    "                          #(18 years old when child is supposed to finish schooling)\n",
    "tot_states=4          #number of states\n",
    "tot_decisions=4       #number of decisions"
   ]
  },
  {
   "cell_type": "markdown",
   "metadata": {},
   "source": [
    "#### State Space Variable"
   ]
  },
  {
   "cell_type": "code",
   "execution_count": 9,
   "metadata": {
    "collapsed": true
   },
   "outputs": [],
   "source": [
    "#Market Adult Wages Array\n",
    "#rows:      regions\n",
    "#columns:   skill levels\n",
    "\n",
    "wage_R1_ls=1.047  #Everywhere Else\n",
    "wage_R1_hs=2.513  #Everywhere Else\n",
    "wage_R2_ls=1      #Island of Java\n",
    "wage_R2_hs=2.626  #Island of Java\n",
    "\n",
    "#Strucutre a wage array for quick access \n",
    "wage_lst=[[wage_R1_ls]*2+[wage_R2_ls]*2,\n",
    "          [wage_R2_ls]*2+[wage_R1_ls]*2,\n",
    "          [wage_R1_hs]*2+[wage_R2_hs]*2,\n",
    "          [wage_R2_hs]*2+[wage_R1_hs]*2]\n",
    "\n",
    "wages = np.array(wage_lst, dtype='d').reshape((tot_states,tot_decisions))"
   ]
  },
  {
   "cell_type": "markdown",
   "metadata": {},
   "source": [
    "#### Transition Function"
   ]
  },
  {
   "cell_type": "code",
   "execution_count": 10,
   "metadata": {
    "collapsed": true
   },
   "outputs": [],
   "source": [
    "tran_st=[[1,0,0,0],[0,0,1,0],[0,1,0,0],[0,0,0,1],\n",
    "         [0,1,0,0],[0,0,0,1],[1,0,0,0],[0,0,1,0],\n",
    "         [1,0,0,0],[0,0,1,0],[0,1,0,0],[0,0,0,1],\n",
    "         [0,1,0,0],[0,0,0,1],[1,0,0,0],[0,0,1,0]]\n",
    "\n",
    "tran_func = np.array(tran_st, dtype='d').reshape((tot_states,tot_decisions,tot_states))"
   ]
  },
  {
   "cell_type": "markdown",
   "metadata": {},
   "source": [
    "#### Function to permute the Costs for vectorization"
   ]
  },
  {
   "cell_type": "code",
   "execution_count": 11,
   "metadata": {
    "collapsed": true
   },
   "outputs": [],
   "source": [
    "def Perm_Param(Param):\n",
    "    \n",
    "    #Education costs\n",
    "    educ_lst=[[0,Param[1],0,Param[2]],\n",
    "              [0,Param[2],0,Param[1]]]*2\n",
    "\n",
    "    educ_cost=np.array(educ_lst, dtype='d').reshape((tot_states,tot_decisions))\n",
    "\n",
    "    #Moving Costs\n",
    "    move_lst=[[0]*2+[Param[0]]*2]\n",
    "\n",
    "    move_cost=np.array(move_lst, dtype='d')\n",
    "    \n",
    "    cost = educ_cost + move_cost #+ educ_cost*move_cost\n",
    "    \n",
    "    return cost"
   ]
  },
  {
   "cell_type": "markdown",
   "metadata": {},
   "source": [
    "#### Function to get the CCPs from the value functions"
   ]
  },
  {
   "cell_type": "code",
   "execution_count": 12,
   "metadata": {
    "collapsed": true
   },
   "outputs": [],
   "source": [
    "def CCP(Param):\n",
    "    \n",
    "    #recast the cost paramaters into arrays\n",
    "    cost = Perm_Param(Param)\n",
    "    \n",
    "    #Calculate the value function\n",
    "    \n",
    "    #Final Period: Expected lifetime Value based on Child(T=1) = Adult(T=2), Adult(T=1) = Effectively Dead\n",
    "\n",
    "    Sum = 0\n",
    "\n",
    "    for t in range(100):\n",
    "        Sum += (1/(1/alpha)**t) * wages[:,0]\n",
    "    \n",
    "    V = np.log(Sum) + np.euler_gamma\n",
    "    \n",
    "    #V = np.log(np.exp(wages).sum(axis=1)) + np.euler_gamma\n",
    "    \n",
    "    #Initial Period: Adult(T=1) = Alive, Child(T=1)\n",
    "    \n",
    "    v = wages + cost + alpha*tran_func.dot(V)\n",
    "    \n",
    "    #Calculate the CCPs\n",
    "    \n",
    "    CCP = np.exp(v)/(np.exp(v).sum(axis=1).reshape(4,1))\n",
    "    \n",
    "    return (CCP,V)"
   ]
  },
  {
   "cell_type": "markdown",
   "metadata": {},
   "source": [
    "#### Map CCPs to the data based on the decisions taken and the states of the individual"
   ]
  },
  {
   "cell_type": "code",
   "execution_count": 13,
   "metadata": {
    "collapsed": true
   },
   "outputs": [],
   "source": [
    "def CCP_Map(State, Decision, CCP):\n",
    "\n",
    "    Choice_Prob = CCP[State-1,Decision-1]\n",
    "\n",
    "    return np.log(Choice_Prob)\n",
    "\n",
    "def CCP_Data(CCP):\n",
    "\n",
    "    Data['CCP'] = Data.apply(lambda row: \n",
    "                             CCP_Map(row['Parent_State'],row['Decision'],CCP), axis=1)"
   ]
  },
  {
   "cell_type": "markdown",
   "metadata": {},
   "source": [
    "#### Calculation of the Log-Likelihood Function"
   ]
  },
  {
   "cell_type": "code",
   "execution_count": 14,
   "metadata": {
    "collapsed": true
   },
   "outputs": [],
   "source": [
    "def LLF(Params, Data):\n",
    "    \n",
    "    #Solve the Dynamic Programming Problem\n",
    "    CCPs, _ = CCP(Params)\n",
    "    \n",
    "    #Map the CCPs to the Data\n",
    "    CCP_Data(CCPs)\n",
    "    \n",
    "    #Calculate the log-likelihood value\n",
    "    LLF = -1*Data.CCP.sum()\n",
    "    \n",
    "    return LLF"
   ]
  },
  {
   "cell_type": "markdown",
   "metadata": {},
   "source": [
    "### Estimation of the Model"
   ]
  },
  {
   "cell_type": "markdown",
   "metadata": {},
   "source": [
    "#### Unconstrained Maximization of the LLF\n",
    "\n",
    "Use the minimization routine with BFGS method."
   ]
  },
  {
   "cell_type": "code",
   "execution_count": 15,
   "metadata": {
    "collapsed": true
   },
   "outputs": [
    {
     "name": "stderr",
     "output_type": "stream",
     "text": [
      "/usr/local/lib/python3.6/site-packages/ipykernel_launcher.py:5: RuntimeWarning: divide by zero encountered in log\n",
      "  \"\"\"\n",
      "/usr/local/lib/python3.6/site-packages/scipy/optimize/optimize.py:628: RuntimeWarning: invalid value encountered in double_scalars\n",
      "  grad[k] = (f(*((xk + d,) + args)) - f0) / d[k]\n",
      "/usr/local/lib/python3.6/site-packages/ipykernel_launcher.py:5: RuntimeWarning: divide by zero encountered in log\n",
      "  \"\"\"\n",
      "/usr/local/lib/python3.6/site-packages/ipykernel_launcher.py:5: RuntimeWarning: divide by zero encountered in log\n",
      "  \"\"\"\n",
      "/usr/local/lib/python3.6/site-packages/scipy/optimize/optimize.py:628: RuntimeWarning: invalid value encountered in double_scalars\n",
      "  grad[k] = (f(*((xk + d,) + args)) - f0) / d[k]\n",
      "/usr/local/lib/python3.6/site-packages/ipykernel_launcher.py:5: RuntimeWarning: divide by zero encountered in log\n",
      "  \"\"\"\n",
      "/usr/local/lib/python3.6/site-packages/scipy/optimize/optimize.py:628: RuntimeWarning: invalid value encountered in double_scalars\n",
      "  grad[k] = (f(*((xk + d,) + args)) - f0) / d[k]\n",
      "/usr/local/lib/python3.6/site-packages/ipykernel_launcher.py:5: RuntimeWarning: divide by zero encountered in log\n",
      "  \"\"\"\n"
     ]
    },
    {
     "name": "stdout",
     "output_type": "stream",
     "text": [
      "Optimization terminated successfully.\n",
      "         Current function value: 2673.486663\n",
      "         Iterations: 21\n",
      "         Function evaluations: 284\n",
      "         Gradient evaluations: 55\n",
      "25.490896940231323 seconds\n"
     ]
    }
   ],
   "source": [
    "time1 = time.time()\n",
    "\n",
    "Param_Final = MIN(LLF, np.random.randn(3)*100, method='BFGS', args=(Data,), options={'disp': True, 'gtol':1e-4})\n",
    "\n",
    "print(str(time.time()-time1)+' seconds')"
   ]
  },
  {
   "cell_type": "markdown",
   "metadata": {},
   "source": [
    "#### Results\n",
    "\n",
    "Optimal Parameters"
   ]
  },
  {
   "cell_type": "code",
   "execution_count": 16,
   "metadata": {},
   "outputs": [
    {
     "name": "stdout",
     "output_type": "stream",
     "text": [
      "[-4.79304101 -0.60968289 -0.72229798]\n"
     ]
    }
   ],
   "source": [
    "print(Param_Final.x)"
   ]
  },
  {
   "cell_type": "markdown",
   "metadata": {},
   "source": [
    "Standard Errors"
   ]
  },
  {
   "cell_type": "code",
   "execution_count": 17,
   "metadata": {},
   "outputs": [
    {
     "name": "stdout",
     "output_type": "stream",
     "text": [
      "[ 0.18870537  0.05290067  0.0450618 ]\n"
     ]
    }
   ],
   "source": [
    "std_err = np.sqrt(np.diag(Param_Final.hess_inv))\n",
    "print(std_err)"
   ]
  },
  {
   "cell_type": "markdown",
   "metadata": {},
   "source": [
    "t-statistics"
   ]
  },
  {
   "cell_type": "code",
   "execution_count": 18,
   "metadata": {},
   "outputs": [
    {
     "name": "stdout",
     "output_type": "stream",
     "text": [
      "[ 25.39960053  11.52505068  16.02905352]\n"
     ]
    }
   ],
   "source": [
    "t = Param_Final.x/std_err\n",
    "print(abs(t))"
   ]
  },
  {
   "cell_type": "markdown",
   "metadata": {},
   "source": [
    "#### Compare the Estimated CCPs with the Empirical CCPs"
   ]
  },
  {
   "cell_type": "code",
   "execution_count": 19,
   "metadata": {},
   "outputs": [
    {
     "data": {
      "text/html": [
       "<div>\n",
       "<table border=\"1\" class=\"dataframe\">\n",
       "  <thead>\n",
       "    <tr style=\"text-align: right;\">\n",
       "      <th></th>\n",
       "      <th>Household</th>\n",
       "      <th>InterMarket_FamilyMig</th>\n",
       "      <th>Educ_3</th>\n",
       "      <th>Prop_in_State</th>\n",
       "    </tr>\n",
       "    <tr>\n",
       "      <th>Parent_State</th>\n",
       "      <th></th>\n",
       "      <th></th>\n",
       "      <th></th>\n",
       "      <th></th>\n",
       "    </tr>\n",
       "  </thead>\n",
       "  <tbody>\n",
       "    <tr>\n",
       "      <th>Low-Skilled, Everywhere Else</th>\n",
       "      <td>1245</td>\n",
       "      <td>0.009639</td>\n",
       "      <td>0.481124</td>\n",
       "      <td>0.344684</td>\n",
       "    </tr>\n",
       "    <tr>\n",
       "      <th>Low-Skilled, Java</th>\n",
       "      <td>1546</td>\n",
       "      <td>0.002587</td>\n",
       "      <td>0.459897</td>\n",
       "      <td>0.428018</td>\n",
       "    </tr>\n",
       "    <tr>\n",
       "      <th>High-Skilled, Everywhere Else</th>\n",
       "      <td>322</td>\n",
       "      <td>0.021739</td>\n",
       "      <td>0.742236</td>\n",
       "      <td>0.089147</td>\n",
       "    </tr>\n",
       "    <tr>\n",
       "      <th>High-Skilled, Java</th>\n",
       "      <td>499</td>\n",
       "      <td>0.014028</td>\n",
       "      <td>0.695391</td>\n",
       "      <td>0.138151</td>\n",
       "    </tr>\n",
       "  </tbody>\n",
       "</table>\n",
       "</div>"
      ],
      "text/plain": [
       "                               Household  InterMarket_FamilyMig    Educ_3  \\\n",
       "Parent_State                                                                \n",
       "Low-Skilled, Everywhere Else        1245               0.009639  0.481124   \n",
       "Low-Skilled, Java                   1546               0.002587  0.459897   \n",
       "High-Skilled, Everywhere Else        322               0.021739  0.742236   \n",
       "High-Skilled, Java                   499               0.014028  0.695391   \n",
       "\n",
       "                               Prop_in_State  \n",
       "Parent_State                                  \n",
       "Low-Skilled, Everywhere Else        0.344684  \n",
       "Low-Skilled, Java                   0.428018  \n",
       "High-Skilled, Everywhere Else       0.089147  \n",
       "High-Skilled, Java                  0.138151  "
      ]
     },
     "execution_count": 19,
     "metadata": {},
     "output_type": "execute_result"
    }
   ],
   "source": [
    "#Group the data according to the states and then collapse the data along the desired dimensions.\n",
    "\n",
    "function = {'Household':'count', 'InterMarket_FamilyMig':'mean', 'Educ_3':'mean'}\n",
    "\n",
    "Stats = Data.groupby('Parent_State').agg(function)\n",
    "\n",
    "Stats['Prop_in_State'] = Stats.Household/len(Data)\n",
    "\n",
    "Stats.rename(index=index)"
   ]
  },
  {
   "cell_type": "markdown",
   "metadata": {},
   "source": [
    "Generate the matrix of the Empirical CCPS from the above.\n",
    "\n",
    "Assumption on mutually independent choices implies that:\n",
    "\n",
    "\\begin{equation}\n",
    "P(Move=\\{0,1\\} \\cap Educ=\\{0,1\\}\\mid State=S)=P(Move=\\{0,1\\}\\mid State=S)\\cdot P(Educ=\\{0,1\\}\\mid Move=\\{0,1\\} \\cap State=S)\n",
    "\\end{equation}\n",
    "\n",
    "So we can multiply the above probabilities for 'InterMarket_FamilyMig' and 'Educ_3' (as well as their respective compliments) since they are conditional on the State due to the grouping."
   ]
  },
  {
   "cell_type": "code",
   "execution_count": 56,
   "metadata": {},
   "outputs": [
    {
     "data": {
      "text/html": [
       "<div>\n",
       "<table border=\"1\" class=\"dataframe\">\n",
       "  <thead>\n",
       "    <tr style=\"text-align: right;\">\n",
       "      <th></th>\n",
       "      <th>NoEduc_NoMig</th>\n",
       "      <th>Educ_NoMig</th>\n",
       "      <th>NoEduc_Mig</th>\n",
       "      <th>Educ_Mig</th>\n",
       "    </tr>\n",
       "  </thead>\n",
       "  <tbody>\n",
       "    <tr>\n",
       "      <th>0</th>\n",
       "      <td>0.514056</td>\n",
       "      <td>0.476305</td>\n",
       "      <td>0.004819</td>\n",
       "      <td>0.004819</td>\n",
       "    </tr>\n",
       "    <tr>\n",
       "      <th>1</th>\n",
       "      <td>0.539457</td>\n",
       "      <td>0.457956</td>\n",
       "      <td>0.000647</td>\n",
       "      <td>0.001940</td>\n",
       "    </tr>\n",
       "    <tr>\n",
       "      <th>2</th>\n",
       "      <td>0.254658</td>\n",
       "      <td>0.723602</td>\n",
       "      <td>0.003106</td>\n",
       "      <td>0.018634</td>\n",
       "    </tr>\n",
       "    <tr>\n",
       "      <th>3</th>\n",
       "      <td>0.300601</td>\n",
       "      <td>0.685371</td>\n",
       "      <td>0.004008</td>\n",
       "      <td>0.010020</td>\n",
       "    </tr>\n",
       "  </tbody>\n",
       "</table>\n",
       "</div>"
      ],
      "text/plain": [
       "   NoEduc_NoMig  Educ_NoMig  NoEduc_Mig  Educ_Mig\n",
       "0      0.514056    0.476305    0.004819  0.004819\n",
       "1      0.539457    0.457956    0.000647  0.001940\n",
       "2      0.254658    0.723602    0.003106  0.018634\n",
       "3      0.300601    0.685371    0.004008  0.010020"
      ]
     },
     "execution_count": 56,
     "metadata": {},
     "output_type": "execute_result"
    }
   ],
   "source": [
    "#Group the data according to the states and then collapse the data along the desired dimensions.\n",
    "\n",
    "#Calculate the first conditional probability P(Educ={0,1} | Move={0,1}, State=S)\n",
    "Educ_DF = Data.groupby(['Parent_State','InterMarket_FamilyMig']).agg({'Educ_3':'mean'})\n",
    "Educ_DF['No_Educ'] = 1 - Educ_DF.Educ_3\n",
    "Educ_DF.sort_index(axis=1, ascending=False, inplace=True)\n",
    "\n",
    "#Calculate the second conditional probability P(Move={0,1}|State=S)\n",
    "Mig_DF = Data.groupby('Parent_State').agg({'InterMarket_FamilyMig':'mean'})\n",
    "Mig_DF['No_Mig'] = 1 - Mig_DF.InterMarket_FamilyMig\n",
    "Mig_DF.sort_index(axis=1, ascending=False, inplace=True)\n",
    "\n",
    "#Get the underlying numpy array from the DataFrame, reshape to broadcast multiplication\n",
    "Mig_Prob = Mig_DF.loc[:,['No_Mig','InterMarket_FamilyMig']].get_values().reshape((8,1))\n",
    "\n",
    "Educ_Prob = Educ_DF.loc[:,['No_Educ','Educ_3']].get_values()\n",
    "\n",
    "#Create the CCP DataFrame\n",
    "Columns = ['NoEduc_NoMig','Educ_NoMig','NoEduc_Mig','Educ_Mig']\n",
    "\n",
    "Emp_CCPs = pd.DataFrame((Educ_Prob*Mig_Prob).reshape((tot_states,tot_decisions)),columns=Columns)\n",
    "\n",
    "Emp_CCPs"
   ]
  },
  {
   "cell_type": "markdown",
   "metadata": {},
   "source": [
    "The estimated CCPs can be obtained by plugging back in the estimated parameters of the model into the function that calculates the CCPs from the value functions"
   ]
  },
  {
   "cell_type": "code",
   "execution_count": 21,
   "metadata": {},
   "outputs": [
    {
     "name": "stdout",
     "output_type": "stream",
     "text": [
      "[[ 0.46631429  0.52628036  0.00354838  0.00385698]\n",
      " [ 0.47479312  0.51608543  0.0042852   0.00483626]\n",
      " [ 0.46571588  0.525605    0.00415872  0.0045204 ]\n",
      " [ 0.47543432  0.5167824   0.00365654  0.00412675]]\n"
     ]
    }
   ],
   "source": [
    "Est_CCPs, V = CCP(Param_Final.x)\n",
    "print(Est_CCPs)"
   ]
  },
  {
   "cell_type": "markdown",
   "metadata": {},
   "source": [
    "The absolute differences between the CCPs"
   ]
  },
  {
   "cell_type": "markdown",
   "metadata": {},
   "source": [
    "## Simulation of the Model"
   ]
  },
  {
   "cell_type": "markdown",
   "metadata": {},
   "source": [
    "### Cython code for generating an array of states based on the given cumulative distribution\n",
    "\n",
    "The below code is just a test to create a Cumulative Distribution Function in Cython/C"
   ]
  },
  {
   "cell_type": "code",
   "execution_count": 22,
   "metadata": {
    "collapsed": true
   },
   "outputs": [],
   "source": [
    "%%cython\n",
    "\n",
    "#!python\n",
    "#cython: boundscheck=False,wraparound=False,nonecheck=False,cdivision=True\n",
    "\n",
    "#Cython function to generate the next state based on a distribution of  probabilities\n",
    "\n",
    "from libc.stdlib cimport rand, RAND_MAX\n",
    "\n",
    "cdef Py_ssize_t tot_states\n",
    "\n",
    "#A random number generator between 0 and 1\n",
    "cdef inline double rand_state() nogil:  \n",
    "    return rand()/<double>RAND_MAX\n",
    "\n",
    "#This function will determine the index of the array of the cumulative \n",
    "#distribution of probabilities \n",
    "cdef unsigned int find_interval(double x, double *arr) nogil:\n",
    "    cdef Py_ssize_t i\n",
    "    \n",
    "    for i in range(tot_states):\n",
    "        if x<arr[i]:\n",
    "            return i\n",
    "            \n",
    "    return 0\n",
    "\n",
    "#This function will generate the state from the sampling distribution of probabilities\n",
    "cdef unsigned int next_state(double[:] tran):\n",
    "    cdef:\n",
    "        double x\n",
    "        unsigned int index\n",
    "        \n",
    "    x = rand_state()\n",
    "\n",
    "    index = find_interval(x, &tran[0]) + 1\n",
    "\n",
    "    return index    \n",
    "\n",
    "#This function will fill in an array with states based on the cumulative sampling distribution \n",
    "#of probabilities\n",
    "def Sim_States(double[:] Sample_Dist, int[:] output):\n",
    "    \n",
    "    global tot_states\n",
    "    \n",
    "    tot_states = Sample_Dist.shape[0]\n",
    "    \n",
    "    cdef:\n",
    "        Py_ssize_t i, HH = output.shape[0]\n",
    "        \n",
    "    #Fill the array with the states\n",
    "    for i in range(HH):\n",
    "        output[i] = next_state(Sample_Dist)        "
   ]
  },
  {
   "cell_type": "markdown",
   "metadata": {},
   "source": [
    "Create the Iniital distribution of households (10,000 households)"
   ]
  },
  {
   "cell_type": "code",
   "execution_count": 23,
   "metadata": {
    "collapsed": true
   },
   "outputs": [],
   "source": [
    "#Initialize the Simulated Household Array\n",
    "Sim_Data = np.zeros(10000, dtype='int32')"
   ]
  },
  {
   "cell_type": "code",
   "execution_count": 24,
   "metadata": {
    "collapsed": true
   },
   "outputs": [],
   "source": [
    "#Pass into the function the values from the Stats dataframe \n",
    "#related to the frequencies of states we observe in the data as a numpy array,\n",
    "#and take the cumulative sum of the array to pass into the Cython function\n",
    "\n",
    "Sim_States(Stats.Prop_in_State.get_values().cumsum(),Sim_Data)"
   ]
  },
  {
   "cell_type": "markdown",
   "metadata": {},
   "source": [
    "Check the distribution of the HH simulated states"
   ]
  },
  {
   "cell_type": "code",
   "execution_count": 25,
   "metadata": {},
   "outputs": [
    {
     "name": "stdout",
     "output_type": "stream",
     "text": [
      "Counter({2: 0.4301, 1: 0.3411, 4: 0.1414, 3: 0.0874})\n"
     ]
    }
   ],
   "source": [
    "c = Counter(Sim_Data.tolist())\n",
    "\n",
    "for key in c:\n",
    "    c[key] = c[key] / float(len(Sim_Data))\n",
    "\n",
    "print(c)"
   ]
  },
  {
   "cell_type": "markdown",
   "metadata": {
    "collapsed": true
   },
   "source": [
    "### Cython Code for Simulation of the model based on the parameters\n",
    "\n",
    "The below code is adapted from the code created in the simulation code folder"
   ]
  },
  {
   "cell_type": "code",
   "execution_count": 26,
   "metadata": {
    "collapsed": true,
    "scrolled": false
   },
   "outputs": [],
   "source": [
    "%%cython -lgsl -lgslcblas\n",
    "\n",
    "#!python\n",
    "#cython: boundscheck=False,wraparound=False,nonecheck=False,cdivision=True\n",
    "\n",
    "# Cython code to optimise in C the Simulation of the model portion of the code\n",
    "\n",
    "##################### Import Modules and math functions ######################\n",
    "\n",
    "#Cython and C functions (this is faster than calling external C function math libs)\n",
    "cimport cython\n",
    "\n",
    "from libc.stdlib cimport rand, RAND_MAX, malloc, calloc, free, abort\n",
    "from libc.math cimport HUGE_VAL\n",
    "\n",
    "#Use the CythonGSL package to get the random number gen at low-level\n",
    "from cython_gsl cimport *\n",
    "\n",
    "####################### Assign the global variables ##########################\n",
    "\n",
    "#These will be passed into functions automatically without \n",
    "#having to call them up explicitely\n",
    "\n",
    "cdef Py_ssize_t HH, tot_states, tot_decisions, Gen\n",
    "\n",
    "##############################################################################\n",
    "####### Define the functions that will assist the simulation module ##########\n",
    "##############################################################################\n",
    "\n",
    "############ Random Numbers, Random States, and Random Shocks functions\n",
    "\n",
    "#Random number generator on interval [0,1]\n",
    "cdef inline double rand_value() nogil:\n",
    "    return rand()/<double>RAND_MAX\n",
    "\n",
    "############# Choice Specific Values assisting functions\n",
    "\n",
    "#Define the inner-array product, releasing the gil of the function\n",
    "cdef double dot( double[:] a, double[:] b ) nogil:\n",
    "    cdef:\n",
    "        double result=0\n",
    "        Py_ssize_t i, dim=a.shape[0]\n",
    "\n",
    "    for i in range(dim):\n",
    "        result += a[i]*b[i]\n",
    "    return result\n",
    "\n",
    "#This function will output the decision based on max value\n",
    "cdef Py_ssize_t Compare(double* arr, Py_ssize_t curr_hh) nogil:\n",
    "    \n",
    "    #declare variable types\n",
    "    cdef:\n",
    "        Py_ssize_t dec=0, i\n",
    "        double v_temp, MAX=(-1)*HUGE_VAL\n",
    "\n",
    "    #grab the max of the choice specific value for the current household:\n",
    "    for i in range(1,tot_decisions+1):\n",
    "        v_temp = arr[(i-1) + curr_hh*tot_decisions]\n",
    "        if v_temp > MAX: \n",
    "            #update the max\n",
    "            MAX = v_temp\n",
    "            #capture current index\n",
    "            dec = i\n",
    "\n",
    "    return dec\n",
    "\n",
    "\n",
    "############### Function and auxiliaries determining the next state\n",
    "\n",
    "#This function rewrites array with the cumulative sum through recursion\n",
    "cdef void cum_sum(double *arr, size_t index=4-1) nogil:\n",
    "    if index<=0: return\n",
    "    cum_sum(arr, index-1)\n",
    "    arr[index] += arr[index-1]\n",
    "\n",
    "#This function will determine the index of the transition function \n",
    "#based on the cumulative probabilities \n",
    "cdef unsigned short find_interval(double x, double *arr) nogil:\n",
    "    cdef Py_ssize_t i\n",
    "    \n",
    "    for i in range(tot_states):\n",
    "        if x<arr[i]:\n",
    "            return <unsigned short>i\n",
    "\n",
    "#This function will generate the next state based on the transition\n",
    "#function probabilites (a discrete value)\n",
    "cdef unsigned short Next_State(double[:] tran) nogil:\n",
    "    cdef:\n",
    "        double x\n",
    "        double *array\n",
    "        unsigned short index\n",
    "        Py_ssize_t i\n",
    "    \n",
    "    array=<double*> calloc(tot_states, sizeof(double))\n",
    "    \n",
    "    if array==NULL: abort()\n",
    "\n",
    "    try:\n",
    "        #generate a random number to help determine the next state\n",
    "        x = rand_value()\n",
    "        \n",
    "        #copy the transition function values into the array to prevent rewrite\n",
    "        for i in range(tot_states):\n",
    "            array[i]=tran[i]\n",
    "        \n",
    "        #rewrite the array into the cumulative sum of the elements\n",
    "        cum_sum(array)\n",
    "        \n",
    "        #the next state is the return value of the function\n",
    "        #(the array index) + 1 to create the next state\n",
    "        index = find_interval(x, array) + 1\n",
    "    \n",
    "        return index\n",
    "\n",
    "    finally:\n",
    "        free(array)  \n",
    "\n",
    "\n",
    "################### Function for filling in the Simulated data array\n",
    "\n",
    "#This function will calculate the frequency of decisions for each generation\n",
    "cdef void Data(unsigned short* Data, Py_ssize_t curr_gen, \n",
    "               Py_ssize_t curr_hh, Py_ssize_t dec, Py_ssize_t state, \n",
    "               unsigned short* next_state_arr) nogil:\n",
    "    \n",
    "    #fill in the state\n",
    "    Data[0 + (curr_hh + curr_gen*HH)*4] = <unsigned short>state\n",
    "    Data[3 + (curr_hh + curr_gen*HH)*4] = next_state_arr[curr_hh]\n",
    "    \n",
    "    #fill in the moving decision\n",
    "    if dec==3 or dec==4:\n",
    "        Data[1 + (curr_hh + curr_gen*HH)*4] = 1\n",
    "    #fill in the education decision\n",
    "    elif dec==2 or dec==4:\n",
    "        Data[2 + (curr_hh + curr_gen*HH)*4] = 1\n",
    "\n",
    "\n",
    "############ Function defining the simulation of the model ################\n",
    "def Sim_Model(double[:] V, double alpha, double[:,:] wages, \n",
    "              double[:,:] cost, double[:,:,:] tranny, \n",
    "              unsigned short[:,:,:] Sim_Data, double[:] init_states):\n",
    "    \n",
    "    #declare and assign the globals\n",
    "    global HH, Gen, tot_states, tot_decisions\n",
    "    \n",
    "    HH = Sim_Data.shape[1]\n",
    "    tot_states = V.shape[0]            #Dimension of the states is given by the number of rows in the V array\n",
    "    tot_decisions = tranny.shape[1]    #Dimension of the decisions is diven by the rows of one of the trans arrays\n",
    "    Gen = Sim_Data.shape[0]\n",
    "    \n",
    "    #declare the types for variables and arrays\n",
    "    cdef:\n",
    "        Py_ssize_t decision, state\n",
    "        \n",
    "        #define array types\n",
    "        unsigned short* states\n",
    "        double* v_sim\n",
    "        \n",
    "        #define the shock array\n",
    "        gsl_rng* r\n",
    "        \n",
    "        #define iterators\n",
    "        Py_ssize_t i, j, k\n",
    "    \n",
    "    #allocate arrays\n",
    "    states = <unsigned short*> calloc(HH, sizeof(unsigned short))\n",
    "    v_sim = <double*> calloc(HH*tot_states, sizeof(double))\n",
    "    r = gsl_rng_alloc(gsl_rng_mt19937) #use the MT19937 algorithm for prng\n",
    "        \n",
    "    #check that memory was allocated:\n",
    "    if states==NULL or v_sim==NULL or r==NULL: abort() \n",
    "        \n",
    "    #simulate the model\n",
    "    try:\n",
    "        #for initial generation, replace with random states generated from given distribution\n",
    "        for j in range(HH):\n",
    "            states[j]=Next_State(init_states) \n",
    "\n",
    "        #outerloop are the generations (make sure that we skip the last generation - they\n",
    "        #make no decisions - so start iterator at 1 and not 0)\n",
    "        for i in range(Gen):\n",
    "\n",
    "            #inner loop the households (should be parallelizable)\n",
    "            for j in range(HH):\n",
    "\n",
    "                #grab the household's state from the matrix\n",
    "                state = states[j]\n",
    "\n",
    "                for k in range(tot_decisions):\n",
    "\n",
    "                    #calculate choice specific value functions\n",
    "                    v_sim[k+j*tot_states] = wages[state-1,k] + cost[state-1,k] + \\\n",
    "                                            gsl_ran_gumbel1(r,1,1) + alpha*dot(tranny[state-1,k,:],V)\n",
    "\n",
    "                #compare values, return the decision (index+1)\n",
    "                decision = Compare(v_sim,j)\n",
    "\n",
    "                #rewrite the state array with the next generation's value:\n",
    "                states[j] = Next_State(tranny[state-1,decision-1,:])\n",
    "        \n",
    "                #save the decisions of the houshold\n",
    "                Data(&Sim_Data[0,0,0],i,j,decision,state,states)\n",
    "\n",
    "    finally:\n",
    "        free(v_sim)\n",
    "        free(states)\n",
    "        gsl_rng_free(r)"
   ]
  },
  {
   "cell_type": "markdown",
   "metadata": {},
   "source": [
    "### Python code for the execution of the simulation\n",
    "\n",
    "Define the inputs of the simulation (use the previously defined functions to generate the cost array and the V array)"
   ]
  },
  {
   "cell_type": "code",
   "execution_count": 27,
   "metadata": {
    "collapsed": true
   },
   "outputs": [],
   "source": [
    "#Define the initial states of the model to follow that of :\n",
    "\n",
    "#Grab the initial distribution of states from the data\n",
    "init_states = Stats.Prop_in_State.get_values() #np.array([0,0,0,1.0])\n",
    "\n",
    "#The cost matrix based on the final parameter values\n",
    "cost = Perm_Param(Param_Final.x)\n",
    "\n",
    "#Define and initialize the simulated Data array that will be filled in with \n",
    "#the results from the simulation\n",
    "\n",
    "#number of generations\n",
    "Gen = 2\n",
    "#number of households\n",
    "HH = 100000\n",
    "\n",
    "#Simulated Data to be filled by the simulator\n",
    "Sim_Data = np.zeros((Gen,HH,4), dtype='uint16')"
   ]
  },
  {
   "cell_type": "markdown",
   "metadata": {},
   "source": [
    "Run the simulation and time it"
   ]
  },
  {
   "cell_type": "code",
   "execution_count": 28,
   "metadata": {},
   "outputs": [
    {
     "name": "stdout",
     "output_type": "stream",
     "text": [
      "The model took 0.08794498443603516 seconds to simulate.\n"
     ]
    }
   ],
   "source": [
    "time1 = time.time()\n",
    "\n",
    "Sim_Model(V,alpha,wages,cost,tran_func,Sim_Data,init_states)\n",
    "\n",
    "print('The model took '+str(time.time()-time1)+' seconds to simulate.')"
   ]
  },
  {
   "cell_type": "markdown",
   "metadata": {},
   "source": [
    "## Analyze Results from Simulation\n",
    "\n",
    "Place the simulated data into a data frame to generate the statistics"
   ]
  },
  {
   "cell_type": "code",
   "execution_count": 29,
   "metadata": {
    "collapsed": true
   },
   "outputs": [],
   "source": [
    "Data_Sim = (pd.DataFrame(Sim_Data[0,:,:], columns=['Parent_State','Migrate','Educate','Child_State'])\n",
    "              .reset_index()\n",
    "              .rename(columns={'index':'Household'}) )"
   ]
  },
  {
   "cell_type": "markdown",
   "metadata": {},
   "source": [
    "### Aggregate Statistics\n",
    "\n",
    "Across whole Simulated dataset"
   ]
  },
  {
   "cell_type": "code",
   "execution_count": 30,
   "metadata": {},
   "outputs": [
    {
     "name": "stdout",
     "output_type": "stream",
     "text": [
      "Migrate    0.00859\n",
      "Educate    0.51870\n",
      "dtype: float64\n"
     ]
    }
   ],
   "source": [
    "print(Data_Sim.loc[:,['Migrate','Educate']].sum(axis=0)/len(Data_Sim))"
   ]
  },
  {
   "cell_type": "markdown",
   "metadata": {},
   "source": [
    "Across the whole Empirical Dataset"
   ]
  },
  {
   "cell_type": "code",
   "execution_count": 31,
   "metadata": {},
   "outputs": [
    {
     "name": "stdout",
     "output_type": "stream",
     "text": [
      "InterMarket_FamilyMig    0.008306\n",
      "Educ_3                   0.524917\n",
      "dtype: float64\n"
     ]
    }
   ],
   "source": [
    "print(Data.loc[:,['InterMarket_FamilyMig','Educ_3']].sum(axis=0)/len(Data))"
   ]
  },
  {
   "cell_type": "markdown",
   "metadata": {},
   "source": [
    "We see that unconditional means are well simulated"
   ]
  },
  {
   "cell_type": "markdown",
   "metadata": {},
   "source": [
    "### By State (Person's Skill and Location)\n",
    "\n",
    "From Simulation"
   ]
  },
  {
   "cell_type": "code",
   "execution_count": 32,
   "metadata": {
    "collapsed": true
   },
   "outputs": [],
   "source": [
    "function = {'Household':'count','Migrate':'mean', 'Educate':'mean'}\n",
    "\n",
    "Sim_Stats = Data_Sim.groupby('Parent_State',as_index=True).agg(function)\n",
    "Sim_Stats['Prop_in_State'] = Sim_Stats.Household/len(Data_Sim)"
   ]
  },
  {
   "cell_type": "markdown",
   "metadata": {},
   "source": [
    "Merge with the original dataset for comparison"
   ]
  },
  {
   "cell_type": "code",
   "execution_count": 33,
   "metadata": {},
   "outputs": [
    {
     "data": {
      "text/html": [
       "<div>\n",
       "<table border=\"1\" class=\"dataframe\">\n",
       "  <thead>\n",
       "    <tr style=\"text-align: right;\">\n",
       "      <th></th>\n",
       "      <th>Migrate</th>\n",
       "      <th>Educate</th>\n",
       "      <th>InterMarket_FamilyMig</th>\n",
       "      <th>Educ_3</th>\n",
       "    </tr>\n",
       "    <tr>\n",
       "      <th>Parent_State</th>\n",
       "      <th></th>\n",
       "      <th></th>\n",
       "      <th></th>\n",
       "      <th></th>\n",
       "    </tr>\n",
       "  </thead>\n",
       "  <tbody>\n",
       "    <tr>\n",
       "      <th>Low-Skilled, Everywhere Else</th>\n",
       "      <td>0.007850</td>\n",
       "      <td>0.524348</td>\n",
       "      <td>0.009639</td>\n",
       "      <td>0.481124</td>\n",
       "    </tr>\n",
       "    <tr>\n",
       "      <th>Low-Skilled, Java</th>\n",
       "      <td>0.009423</td>\n",
       "      <td>0.514508</td>\n",
       "      <td>0.002587</td>\n",
       "      <td>0.459897</td>\n",
       "    </tr>\n",
       "    <tr>\n",
       "      <th>High-Skilled, Everywhere Else</th>\n",
       "      <td>0.009120</td>\n",
       "      <td>0.522411</td>\n",
       "      <td>0.021739</td>\n",
       "      <td>0.742236</td>\n",
       "    </tr>\n",
       "    <tr>\n",
       "      <th>High-Skilled, Java</th>\n",
       "      <td>0.007496</td>\n",
       "      <td>0.515211</td>\n",
       "      <td>0.014028</td>\n",
       "      <td>0.695391</td>\n",
       "    </tr>\n",
       "  </tbody>\n",
       "</table>\n",
       "</div>"
      ],
      "text/plain": [
       "                                Migrate   Educate  InterMarket_FamilyMig  \\\n",
       "Parent_State                                                               \n",
       "Low-Skilled, Everywhere Else   0.007850  0.524348               0.009639   \n",
       "Low-Skilled, Java              0.009423  0.514508               0.002587   \n",
       "High-Skilled, Everywhere Else  0.009120  0.522411               0.021739   \n",
       "High-Skilled, Java             0.007496  0.515211               0.014028   \n",
       "\n",
       "                                 Educ_3  \n",
       "Parent_State                             \n",
       "Low-Skilled, Everywhere Else   0.481124  \n",
       "Low-Skilled, Java              0.459897  \n",
       "High-Skilled, Everywhere Else  0.742236  \n",
       "High-Skilled, Java             0.695391  "
      ]
     },
     "execution_count": 33,
     "metadata": {},
     "output_type": "execute_result"
    }
   ],
   "source": [
    "(Sim_Stats.loc[:,['Migrate','Educate']].merge(Stats.loc[:,['InterMarket_FamilyMig','Educ_3']],\n",
    "                                              left_index=True,right_index=True,copy=False)\n",
    "                                       .rename(index=index))"
   ]
  },
  {
   "cell_type": "markdown",
   "metadata": {},
   "source": [
    "Unfortunately, conditional means on the decisions are note well modeled. Will need to work on this"
   ]
  },
  {
   "cell_type": "markdown",
   "metadata": {},
   "source": [
    "### Next Generation States"
   ]
  },
  {
   "cell_type": "markdown",
   "metadata": {},
   "source": [
    "From the simulation"
   ]
  },
  {
   "cell_type": "code",
   "execution_count": 34,
   "metadata": {
    "collapsed": true
   },
   "outputs": [],
   "source": [
    "Data_Sim_Child = (pd.DataFrame(Sim_Data[-1,:,0], columns={'Child_State':'0'})\n",
    "                    .reset_index()\n",
    "                    .rename(columns={'index':'Household'}) )\n",
    "\n",
    "Sim_Stats_Child = Data_Sim_Child.groupby('Child_State',as_index=True).agg({'Household':'count'})\n",
    "Sim_Stats_Child['Prop_in_State_Sim'] = Sim_Stats_Child.Household/len(Data_Sim_Child)"
   ]
  },
  {
   "cell_type": "markdown",
   "metadata": {},
   "source": [
    "From the data"
   ]
  },
  {
   "cell_type": "code",
   "execution_count": 35,
   "metadata": {
    "collapsed": true
   },
   "outputs": [],
   "source": [
    "Data['Child_State'] = Data.apply(lambda row: \n",
    "                                     State_Def(row['MarketCode_Move'],row['Skill_Level_2']), \n",
    "                                     axis=1)\n",
    "\n",
    "Stats_Child = Data.groupby('Child_State').agg({'Household':'count'})\n",
    "Stats_Child['Prop_in_State_Data'] = Stats_Child.Household/len(Data)"
   ]
  },
  {
   "cell_type": "markdown",
   "metadata": {},
   "source": [
    "Merge restuls"
   ]
  },
  {
   "cell_type": "code",
   "execution_count": 36,
   "metadata": {},
   "outputs": [
    {
     "data": {
      "text/html": [
       "<div>\n",
       "<table border=\"1\" class=\"dataframe\">\n",
       "  <thead>\n",
       "    <tr style=\"text-align: right;\">\n",
       "      <th></th>\n",
       "      <th>Prop_in_State_Sim</th>\n",
       "      <th>Prop_in_State_Data</th>\n",
       "    </tr>\n",
       "    <tr>\n",
       "      <th>Child_State</th>\n",
       "      <th></th>\n",
       "      <th></th>\n",
       "    </tr>\n",
       "  </thead>\n",
       "  <tbody>\n",
       "    <tr>\n",
       "      <th>Low-Skilled, Everywhere Else</th>\n",
       "      <td>0.20534</td>\n",
       "      <td>0.200720</td>\n",
       "    </tr>\n",
       "    <tr>\n",
       "      <th>Low-Skilled, Java</th>\n",
       "      <td>0.27135</td>\n",
       "      <td>0.274363</td>\n",
       "    </tr>\n",
       "    <tr>\n",
       "      <th>High-Skilled, Everywhere Else</th>\n",
       "      <td>0.23009</td>\n",
       "      <td>0.230897</td>\n",
       "    </tr>\n",
       "    <tr>\n",
       "      <th>High-Skilled, Java</th>\n",
       "      <td>0.29322</td>\n",
       "      <td>0.294020</td>\n",
       "    </tr>\n",
       "  </tbody>\n",
       "</table>\n",
       "</div>"
      ],
      "text/plain": [
       "                               Prop_in_State_Sim  Prop_in_State_Data\n",
       "Child_State                                                         \n",
       "Low-Skilled, Everywhere Else             0.20534            0.200720\n",
       "Low-Skilled, Java                        0.27135            0.274363\n",
       "High-Skilled, Everywhere Else            0.23009            0.230897\n",
       "High-Skilled, Java                       0.29322            0.294020"
      ]
     },
     "execution_count": 36,
     "metadata": {},
     "output_type": "execute_result"
    }
   ],
   "source": [
    "(Sim_Stats_Child.merge(Stats_Child,left_index=True,\n",
    "                       right_index=True,copy=False)\n",
    "                .drop(['Household_x','Household_y'], inplace=False, axis=1)\n",
    "                .rename(index=index))"
   ]
  },
  {
   "cell_type": "markdown",
   "metadata": {},
   "source": [
    "The model does capture the conditional distribution of states of the next generation (the children)"
   ]
  },
  {
   "cell_type": "markdown",
   "metadata": {
    "collapsed": true
   },
   "source": [
    "### Transition from Parent States to Child States\n",
    "\n",
    "#### Flattened Transitions"
   ]
  },
  {
   "cell_type": "markdown",
   "metadata": {},
   "source": [
    "Simulation Results"
   ]
  },
  {
   "cell_type": "code",
   "execution_count": 37,
   "metadata": {
    "collapsed": true
   },
   "outputs": [],
   "source": [
    "State_Tran_Sim = ( Data_Sim.groupby(['Parent_State','Child_State'],as_index=True)\n",
    "                           .agg({'Household':'count'})\n",
    "                           .rename(index=index) )\n",
    "\n",
    "State_Tran_Sim['Prop_in_State_Sim'] = State_Tran_Sim.Household/len(Data_Sim)"
   ]
  },
  {
   "cell_type": "markdown",
   "metadata": {},
   "source": [
    "Data Results"
   ]
  },
  {
   "cell_type": "code",
   "execution_count": 38,
   "metadata": {
    "collapsed": true
   },
   "outputs": [],
   "source": [
    "State_Tran_Data = (Data.groupby(['Parent_State','Child_State'],as_index=True)\n",
    "                       .agg({'Household':'count'})\n",
    "                       .rename(index=index) )\n",
    "\n",
    "State_Tran_Data['Prop_in_State_Data'] = State_Tran_Data.Household/len(Data)"
   ]
  },
  {
   "cell_type": "markdown",
   "metadata": {},
   "source": [
    "Merge the results"
   ]
  },
  {
   "cell_type": "code",
   "execution_count": 39,
   "metadata": {},
   "outputs": [
    {
     "data": {
      "text/html": [
       "<div>\n",
       "<table border=\"1\" class=\"dataframe\">\n",
       "  <thead>\n",
       "    <tr style=\"text-align: right;\">\n",
       "      <th></th>\n",
       "      <th></th>\n",
       "      <th>Prop_in_State_Sim</th>\n",
       "      <th>Prop_in_State_Data</th>\n",
       "    </tr>\n",
       "    <tr>\n",
       "      <th>Parent_State</th>\n",
       "      <th>Child_State</th>\n",
       "      <th></th>\n",
       "      <th></th>\n",
       "    </tr>\n",
       "  </thead>\n",
       "  <tbody>\n",
       "    <tr>\n",
       "      <th rowspan=\"4\" valign=\"top\">Low-Skilled, Everywhere Else</th>\n",
       "      <th>Low-Skilled, Everywhere Else</th>\n",
       "      <td>0.16091</td>\n",
       "      <td>0.177187</td>\n",
       "    </tr>\n",
       "    <tr>\n",
       "      <th>Low-Skilled, Java</th>\n",
       "      <td>0.00136</td>\n",
       "      <td>0.001661</td>\n",
       "    </tr>\n",
       "    <tr>\n",
       "      <th>High-Skilled, Everywhere Else</th>\n",
       "      <td>0.18036</td>\n",
       "      <td>0.164175</td>\n",
       "    </tr>\n",
       "    <tr>\n",
       "      <th>High-Skilled, Java</th>\n",
       "      <td>0.00134</td>\n",
       "      <td>0.001661</td>\n",
       "    </tr>\n",
       "    <tr>\n",
       "      <th rowspan=\"4\" valign=\"top\">Low-Skilled, Java</th>\n",
       "      <th>Low-Skilled, Everywhere Else</th>\n",
       "      <td>0.00184</td>\n",
       "      <td>0.000277</td>\n",
       "    </tr>\n",
       "    <tr>\n",
       "      <th>Low-Skilled, Java</th>\n",
       "      <td>0.20410</td>\n",
       "      <td>0.230897</td>\n",
       "    </tr>\n",
       "    <tr>\n",
       "      <th>High-Skilled, Everywhere Else</th>\n",
       "      <td>0.00220</td>\n",
       "      <td>0.000831</td>\n",
       "    </tr>\n",
       "    <tr>\n",
       "      <th>High-Skilled, Java</th>\n",
       "      <td>0.22058</td>\n",
       "      <td>0.196013</td>\n",
       "    </tr>\n",
       "    <tr>\n",
       "      <th rowspan=\"4\" valign=\"top\">High-Skilled, Everywhere Else</th>\n",
       "      <th>Low-Skilled, Everywhere Else</th>\n",
       "      <td>0.04212</td>\n",
       "      <td>0.022702</td>\n",
       "    </tr>\n",
       "    <tr>\n",
       "      <th>Low-Skilled, Java</th>\n",
       "      <td>0.00031</td>\n",
       "      <td>0.000277</td>\n",
       "    </tr>\n",
       "    <tr>\n",
       "      <th>High-Skilled, Everywhere Else</th>\n",
       "      <td>0.04697</td>\n",
       "      <td>0.064507</td>\n",
       "    </tr>\n",
       "    <tr>\n",
       "      <th>High-Skilled, Java</th>\n",
       "      <td>0.00051</td>\n",
       "      <td>0.001661</td>\n",
       "    </tr>\n",
       "    <tr>\n",
       "      <th rowspan=\"4\" valign=\"top\">High-Skilled, Java</th>\n",
       "      <th>Low-Skilled, Everywhere Else</th>\n",
       "      <td>0.00047</td>\n",
       "      <td>0.000554</td>\n",
       "    </tr>\n",
       "    <tr>\n",
       "      <th>Low-Skilled, Java</th>\n",
       "      <td>0.06558</td>\n",
       "      <td>0.041528</td>\n",
       "    </tr>\n",
       "    <tr>\n",
       "      <th>High-Skilled, Everywhere Else</th>\n",
       "      <td>0.00056</td>\n",
       "      <td>0.001384</td>\n",
       "    </tr>\n",
       "    <tr>\n",
       "      <th>High-Skilled, Java</th>\n",
       "      <td>0.07079</td>\n",
       "      <td>0.094684</td>\n",
       "    </tr>\n",
       "  </tbody>\n",
       "</table>\n",
       "</div>"
      ],
      "text/plain": [
       "                                                             Prop_in_State_Sim  \\\n",
       "Parent_State                  Child_State                                        \n",
       "Low-Skilled, Everywhere Else  Low-Skilled, Everywhere Else             0.16091   \n",
       "                              Low-Skilled, Java                        0.00136   \n",
       "                              High-Skilled, Everywhere Else            0.18036   \n",
       "                              High-Skilled, Java                       0.00134   \n",
       "Low-Skilled, Java             Low-Skilled, Everywhere Else             0.00184   \n",
       "                              Low-Skilled, Java                        0.20410   \n",
       "                              High-Skilled, Everywhere Else            0.00220   \n",
       "                              High-Skilled, Java                       0.22058   \n",
       "High-Skilled, Everywhere Else Low-Skilled, Everywhere Else             0.04212   \n",
       "                              Low-Skilled, Java                        0.00031   \n",
       "                              High-Skilled, Everywhere Else            0.04697   \n",
       "                              High-Skilled, Java                       0.00051   \n",
       "High-Skilled, Java            Low-Skilled, Everywhere Else             0.00047   \n",
       "                              Low-Skilled, Java                        0.06558   \n",
       "                              High-Skilled, Everywhere Else            0.00056   \n",
       "                              High-Skilled, Java                       0.07079   \n",
       "\n",
       "                                                             Prop_in_State_Data  \n",
       "Parent_State                  Child_State                                        \n",
       "Low-Skilled, Everywhere Else  Low-Skilled, Everywhere Else             0.177187  \n",
       "                              Low-Skilled, Java                        0.001661  \n",
       "                              High-Skilled, Everywhere Else            0.164175  \n",
       "                              High-Skilled, Java                       0.001661  \n",
       "Low-Skilled, Java             Low-Skilled, Everywhere Else             0.000277  \n",
       "                              Low-Skilled, Java                        0.230897  \n",
       "                              High-Skilled, Everywhere Else            0.000831  \n",
       "                              High-Skilled, Java                       0.196013  \n",
       "High-Skilled, Everywhere Else Low-Skilled, Everywhere Else             0.022702  \n",
       "                              Low-Skilled, Java                        0.000277  \n",
       "                              High-Skilled, Everywhere Else            0.064507  \n",
       "                              High-Skilled, Java                       0.001661  \n",
       "High-Skilled, Java            Low-Skilled, Everywhere Else             0.000554  \n",
       "                              Low-Skilled, Java                        0.041528  \n",
       "                              High-Skilled, Everywhere Else            0.001384  \n",
       "                              High-Skilled, Java                       0.094684  "
      ]
     },
     "execution_count": 39,
     "metadata": {},
     "output_type": "execute_result"
    }
   ],
   "source": [
    "(State_Tran_Sim.merge(State_Tran_Data, how='inner', \n",
    "                      left_index=True, right_index=True, copy=False)\n",
    "                .drop(['Household_x','Household_y'], axis=1, inplace=False))"
   ]
  },
  {
   "cell_type": "markdown",
   "metadata": {
    "collapsed": true
   },
   "source": [
    "#### Using Pandas Crosstabs\n",
    "Repeat the above exercises but using cross tabs to create a comparison table"
   ]
  },
  {
   "cell_type": "code",
   "execution_count": 40,
   "metadata": {
    "collapsed": true
   },
   "outputs": [],
   "source": [
    "Data_Cross = pd.crosstab(Data.Parent_State,Data.Child_State,normalize='index').rename(index=index, columns=index)"
   ]
  },
  {
   "cell_type": "code",
   "execution_count": 41,
   "metadata": {
    "collapsed": true
   },
   "outputs": [],
   "source": [
    "Sim_Cross = pd.crosstab(Data_Sim.Parent_State,Data_Sim.Child_State,normalize='index').rename(index=index, columns=index)"
   ]
  },
  {
   "cell_type": "code",
   "execution_count": 42,
   "metadata": {},
   "outputs": [
    {
     "data": {
      "text/html": [
       "<div>\n",
       "<table border=\"1\" class=\"dataframe\">\n",
       "  <thead>\n",
       "    <tr style=\"text-align: right;\">\n",
       "      <th>Child_State</th>\n",
       "      <th>Low-Skilled, Java_Sim</th>\n",
       "      <th>Low-Skilled, Java_Data</th>\n",
       "      <th>Low-Skilled, Everywhere Else_Sim</th>\n",
       "      <th>Low-Skilled, Everywhere Else_Data</th>\n",
       "      <th>High-Skilled, Java_Sim</th>\n",
       "      <th>High-Skilled, Java_Data</th>\n",
       "      <th>High-Skilled, Everywhere Else_Sim</th>\n",
       "      <th>High-Skilled, Everywhere Else_Data</th>\n",
       "    </tr>\n",
       "    <tr>\n",
       "      <th>Parent_State</th>\n",
       "      <th></th>\n",
       "      <th></th>\n",
       "      <th></th>\n",
       "      <th></th>\n",
       "      <th></th>\n",
       "      <th></th>\n",
       "      <th></th>\n",
       "      <th></th>\n",
       "    </tr>\n",
       "  </thead>\n",
       "  <tbody>\n",
       "    <tr>\n",
       "      <th>Low-Skilled, Java</th>\n",
       "      <td>0.476068</td>\n",
       "      <td>0.539457</td>\n",
       "      <td>0.004292</td>\n",
       "      <td>0.000647</td>\n",
       "      <td>0.514508</td>\n",
       "      <td>0.457956</td>\n",
       "      <td>0.005132</td>\n",
       "      <td>0.001940</td>\n",
       "    </tr>\n",
       "    <tr>\n",
       "      <th>Low-Skilled, Everywhere Else</th>\n",
       "      <td>0.003954</td>\n",
       "      <td>0.004819</td>\n",
       "      <td>0.467802</td>\n",
       "      <td>0.514056</td>\n",
       "      <td>0.003896</td>\n",
       "      <td>0.004819</td>\n",
       "      <td>0.524348</td>\n",
       "      <td>0.476305</td>\n",
       "    </tr>\n",
       "    <tr>\n",
       "      <th>High-Skilled, Java</th>\n",
       "      <td>0.477293</td>\n",
       "      <td>0.300601</td>\n",
       "      <td>0.003421</td>\n",
       "      <td>0.004008</td>\n",
       "      <td>0.515211</td>\n",
       "      <td>0.685371</td>\n",
       "      <td>0.004076</td>\n",
       "      <td>0.010020</td>\n",
       "    </tr>\n",
       "    <tr>\n",
       "      <th>High-Skilled, Everywhere Else</th>\n",
       "      <td>0.003448</td>\n",
       "      <td>0.003106</td>\n",
       "      <td>0.468468</td>\n",
       "      <td>0.254658</td>\n",
       "      <td>0.005672</td>\n",
       "      <td>0.018634</td>\n",
       "      <td>0.522411</td>\n",
       "      <td>0.723602</td>\n",
       "    </tr>\n",
       "  </tbody>\n",
       "</table>\n",
       "</div>"
      ],
      "text/plain": [
       "Child_State                    Low-Skilled, Java_Sim  Low-Skilled, Java_Data  \\\n",
       "Parent_State                                                                   \n",
       "Low-Skilled, Java                           0.476068                0.539457   \n",
       "Low-Skilled, Everywhere Else                0.003954                0.004819   \n",
       "High-Skilled, Java                          0.477293                0.300601   \n",
       "High-Skilled, Everywhere Else               0.003448                0.003106   \n",
       "\n",
       "Child_State                    Low-Skilled, Everywhere Else_Sim  \\\n",
       "Parent_State                                                      \n",
       "Low-Skilled, Java                                      0.004292   \n",
       "Low-Skilled, Everywhere Else                           0.467802   \n",
       "High-Skilled, Java                                     0.003421   \n",
       "High-Skilled, Everywhere Else                          0.468468   \n",
       "\n",
       "Child_State                    Low-Skilled, Everywhere Else_Data  \\\n",
       "Parent_State                                                       \n",
       "Low-Skilled, Java                                       0.000647   \n",
       "Low-Skilled, Everywhere Else                            0.514056   \n",
       "High-Skilled, Java                                      0.004008   \n",
       "High-Skilled, Everywhere Else                           0.254658   \n",
       "\n",
       "Child_State                    High-Skilled, Java_Sim  \\\n",
       "Parent_State                                            \n",
       "Low-Skilled, Java                            0.514508   \n",
       "Low-Skilled, Everywhere Else                 0.003896   \n",
       "High-Skilled, Java                           0.515211   \n",
       "High-Skilled, Everywhere Else                0.005672   \n",
       "\n",
       "Child_State                    High-Skilled, Java_Data  \\\n",
       "Parent_State                                             \n",
       "Low-Skilled, Java                             0.457956   \n",
       "Low-Skilled, Everywhere Else                  0.004819   \n",
       "High-Skilled, Java                            0.685371   \n",
       "High-Skilled, Everywhere Else                 0.018634   \n",
       "\n",
       "Child_State                    High-Skilled, Everywhere Else_Sim  \\\n",
       "Parent_State                                                       \n",
       "Low-Skilled, Java                                       0.005132   \n",
       "Low-Skilled, Everywhere Else                            0.524348   \n",
       "High-Skilled, Java                                      0.004076   \n",
       "High-Skilled, Everywhere Else                           0.522411   \n",
       "\n",
       "Child_State                    High-Skilled, Everywhere Else_Data  \n",
       "Parent_State                                                       \n",
       "Low-Skilled, Java                                        0.001940  \n",
       "Low-Skilled, Everywhere Else                             0.476305  \n",
       "High-Skilled, Java                                       0.010020  \n",
       "High-Skilled, Everywhere Else                            0.723602  "
      ]
     },
     "execution_count": 42,
     "metadata": {},
     "output_type": "execute_result"
    }
   ],
   "source": [
    "Uncond_State_Tran = ( Sim_Cross.merge(Data_Cross,left_index=True, right_index=True,suffixes=('_Sim','_Data'))\n",
    "                             .sort_index(axis=1, ascending=False)\n",
    "                             .sort_index(axis=0, ascending=False) )\n",
    "del Data_Cross, Sim_Cross\n",
    "\n",
    "Uncond_State_Tran"
   ]
  },
  {
   "cell_type": "markdown",
   "metadata": {},
   "source": [
    "The above DataFrame is the persistency between generations. We see that the model generally does will with the low-skilled cohorts in Generation G (the rows), but does not model well the incentive to invest in education among the high skilled cohorts. "
   ]
  },
  {
   "cell_type": "markdown",
   "metadata": {},
   "source": [
    "#### Conditional Transitions: Conditional on Migration (or not Migrating), the Relative Frequencies of Transitions from Parental State to Children entering into the Low or High Skilled States\n",
    "\n",
    "##### Data"
   ]
  },
  {
   "cell_type": "code",
   "execution_count": 43,
   "metadata": {},
   "outputs": [
    {
     "data": {
      "text/plain": [
       "Parent_State                   Child_State                  \n",
       "Low-Skilled, Everywhere Else   Low-Skilled, Java                0.500000\n",
       "                               High-Skilled, Java               0.500000\n",
       "Low-Skilled, Java              Low-Skilled, Everywhere Else     0.250000\n",
       "                               High-Skilled, Everywhere Else    0.750000\n",
       "High-Skilled, Everywhere Else  Low-Skilled, Java                0.142857\n",
       "                               High-Skilled, Java               0.857143\n",
       "High-Skilled, Java             Low-Skilled, Everywhere Else     0.285714\n",
       "                               High-Skilled, Everywhere Else    0.714286\n",
       "Name: Household, dtype: float64"
      ]
     },
     "execution_count": 43,
     "metadata": {},
     "output_type": "execute_result"
    }
   ],
   "source": [
    "#Data: State Transitions Conidtional on Migration, the transition between states\n",
    "((Data[Data.InterMarket_FamilyMig==1]\n",
    " .groupby(['Parent_State','Child_State'],as_index=True)\n",
    " .agg({'Household':'count'})\n",
    " .rename(index=index))\n",
    " .Household) / \\\n",
    "np.repeat(Data[Data.InterMarket_FamilyMig==1]\n",
    "          .groupby(['Parent_State'],as_index=False)\n",
    "          .agg({'Household':'count'})\n",
    "          .Household\n",
    "          .get_values(),[2]*4,axis=0)"
   ]
  },
  {
   "cell_type": "code",
   "execution_count": 44,
   "metadata": {},
   "outputs": [
    {
     "data": {
      "text/plain": [
       "Parent_State                   Child_State                  \n",
       "Low-Skilled, Everywhere Else   Low-Skilled, Everywhere Else     0.519059\n",
       "                               High-Skilled, Everywhere Else    0.480941\n",
       "Low-Skilled, Java              Low-Skilled, Java                0.540856\n",
       "                               High-Skilled, Java               0.459144\n",
       "High-Skilled, Everywhere Else  Low-Skilled, Everywhere Else     0.260317\n",
       "                               High-Skilled, Everywhere Else    0.739683\n",
       "High-Skilled, Java             Low-Skilled, Java                0.304878\n",
       "                               High-Skilled, Java               0.695122\n",
       "Name: Household, dtype: float64"
      ]
     },
     "execution_count": 44,
     "metadata": {},
     "output_type": "execute_result"
    }
   ],
   "source": [
    "#Data: State Transtions Conditional on staying \n",
    "((Data[Data.InterMarket_FamilyMig==0]\n",
    " .groupby(['Parent_State','Child_State'],as_index=True)\n",
    " .agg({'Household':'count'})\n",
    " .rename(index=index))\n",
    " .Household) / \\\n",
    "np.repeat(Data[Data.InterMarket_FamilyMig==0]\n",
    "          .groupby(['Parent_State'],as_index=False)\n",
    "          .agg({'Household':'count'})\n",
    "          .Household\n",
    "          .get_values(),[2]*4,axis=0)"
   ]
  },
  {
   "cell_type": "markdown",
   "metadata": {},
   "source": [
    "Repeat the above using pandas crosstabs"
   ]
  },
  {
   "cell_type": "code",
   "execution_count": 45,
   "metadata": {
    "collapsed": true
   },
   "outputs": [],
   "source": [
    "Data_Cross_Mig = ( pd.crosstab(Data[Data.InterMarket_FamilyMig==1].Parent_State,Data.Child_State,normalize='index')\n",
    "                     .rename(index=index, columns=index) )"
   ]
  },
  {
   "cell_type": "code",
   "execution_count": 46,
   "metadata": {
    "collapsed": true
   },
   "outputs": [],
   "source": [
    "Data_Cross_NoMig = ( pd.crosstab(Data[Data.InterMarket_FamilyMig==0].Parent_State,Data.Child_State,normalize='index')\n",
    "                     .rename(index=index, columns=index) )"
   ]
  },
  {
   "cell_type": "markdown",
   "metadata": {},
   "source": [
    "##### Simulation"
   ]
  },
  {
   "cell_type": "code",
   "execution_count": 47,
   "metadata": {},
   "outputs": [
    {
     "data": {
      "text/plain": [
       "Parent_State                   Child_State                  \n",
       "Low-Skilled, Everywhere Else   Low-Skilled, Java                0.503704\n",
       "                               High-Skilled, Java               0.496296\n",
       "Low-Skilled, Java              Low-Skilled, Everywhere Else     0.455446\n",
       "                               High-Skilled, Everywhere Else    0.544554\n",
       "High-Skilled, Everywhere Else  Low-Skilled, Java                0.378049\n",
       "                               High-Skilled, Java               0.621951\n",
       "High-Skilled, Java             Low-Skilled, Everywhere Else     0.456311\n",
       "                               High-Skilled, Everywhere Else    0.543689\n",
       "Name: Household, dtype: float64"
      ]
     },
     "execution_count": 47,
     "metadata": {},
     "output_type": "execute_result"
    }
   ],
   "source": [
    "#Simulation: State Transitions Conidtional on Migration, the transition between states\n",
    "((Data_Sim[Data_Sim.Migrate==1]\n",
    "  .groupby(['Parent_State','Child_State'],as_index=True)\n",
    "  .agg({'Household':'count'})\n",
    "  .rename(index=index))\n",
    "  .Household) / \\\n",
    "np.repeat(Data_Sim[Data_Sim.Migrate==1]\n",
    "          .groupby(['Parent_State'],as_index=False)\n",
    "          .agg({'Household':'count'})\n",
    "          .Household\n",
    "          .get_values(),[2]*4,axis=0)"
   ]
  },
  {
   "cell_type": "code",
   "execution_count": 48,
   "metadata": {},
   "outputs": [
    {
     "data": {
      "text/plain": [
       "Parent_State                   Child_State                  \n",
       "Low-Skilled, Everywhere Else   Low-Skilled, Everywhere Else     0.471504\n",
       "                               High-Skilled, Everywhere Else    0.528496\n",
       "Low-Skilled, Java              Low-Skilled, Java                0.480597\n",
       "                               High-Skilled, Java               0.519403\n",
       "High-Skilled, Everywhere Else  Low-Skilled, Everywhere Else     0.472780\n",
       "                               High-Skilled, Everywhere Else    0.527220\n",
       "High-Skilled, Java             Low-Skilled, Java                0.480898\n",
       "                               High-Skilled, Java               0.519102\n",
       "Name: Household, dtype: float64"
      ]
     },
     "execution_count": 48,
     "metadata": {},
     "output_type": "execute_result"
    }
   ],
   "source": [
    "#Simulation: State Transitions Conidtional on Migration, the transition between states\n",
    "((Data_Sim[Data_Sim.Migrate==0]\n",
    "  .groupby(['Parent_State','Child_State'],as_index=True)\n",
    "  .agg({'Household':'count'})\n",
    "  .rename(index=index))\n",
    "  .Household) / \\\n",
    "np.repeat(Data_Sim[Data_Sim.Migrate==0]\n",
    "          .groupby(['Parent_State'],as_index=False)\n",
    "          .agg({'Household':'count'})\n",
    "          .Household\n",
    "          .get_values(),[2]*4,axis=0)"
   ]
  },
  {
   "cell_type": "markdown",
   "metadata": {},
   "source": [
    "Repeat the above using pandas crosstabs"
   ]
  },
  {
   "cell_type": "code",
   "execution_count": 49,
   "metadata": {
    "collapsed": true
   },
   "outputs": [],
   "source": [
    "Sim_Cross_Mig = ( pd.crosstab(Data_Sim[Data_Sim.Migrate==1].Parent_State,Data_Sim.Child_State,normalize='index')\n",
    "                     .rename(index=index, columns=index) )"
   ]
  },
  {
   "cell_type": "code",
   "execution_count": 50,
   "metadata": {
    "collapsed": true
   },
   "outputs": [],
   "source": [
    "Sim_Cross_NoMig = ( pd.crosstab(Data_Sim[Data_Sim.Migrate==0].Parent_State,Data_Sim.Child_State,normalize='index')\n",
    "                     .rename(index=index, columns=index) )"
   ]
  },
  {
   "cell_type": "markdown",
   "metadata": {},
   "source": [
    "#### Comparisons"
   ]
  },
  {
   "cell_type": "markdown",
   "metadata": {},
   "source": [
    "Comparison table: Add the two cross tabs to compare between the parents who chose to migrate and those who chose to stay in their current location --> the frequency of the children in the new states"
   ]
  },
  {
   "cell_type": "code",
   "execution_count": 51,
   "metadata": {},
   "outputs": [
    {
     "data": {
      "text/html": [
       "<div>\n",
       "<table border=\"1\" class=\"dataframe\">\n",
       "  <thead>\n",
       "    <tr style=\"text-align: right;\">\n",
       "      <th>Child_State</th>\n",
       "      <th>Low-Skilled, Everywhere Else</th>\n",
       "      <th>Low-Skilled, Java</th>\n",
       "      <th>High-Skilled, Everywhere Else</th>\n",
       "      <th>High-Skilled, Java</th>\n",
       "    </tr>\n",
       "    <tr>\n",
       "      <th>Parent_State</th>\n",
       "      <th></th>\n",
       "      <th></th>\n",
       "      <th></th>\n",
       "      <th></th>\n",
       "    </tr>\n",
       "  </thead>\n",
       "  <tbody>\n",
       "    <tr>\n",
       "      <th>Low-Skilled, Everywhere Else</th>\n",
       "      <td>0.519059</td>\n",
       "      <td>0.500000</td>\n",
       "      <td>0.480941</td>\n",
       "      <td>0.500000</td>\n",
       "    </tr>\n",
       "    <tr>\n",
       "      <th>Low-Skilled, Java</th>\n",
       "      <td>0.250000</td>\n",
       "      <td>0.540856</td>\n",
       "      <td>0.750000</td>\n",
       "      <td>0.459144</td>\n",
       "    </tr>\n",
       "    <tr>\n",
       "      <th>High-Skilled, Everywhere Else</th>\n",
       "      <td>0.260317</td>\n",
       "      <td>0.142857</td>\n",
       "      <td>0.739683</td>\n",
       "      <td>0.857143</td>\n",
       "    </tr>\n",
       "    <tr>\n",
       "      <th>High-Skilled, Java</th>\n",
       "      <td>0.285714</td>\n",
       "      <td>0.304878</td>\n",
       "      <td>0.714286</td>\n",
       "      <td>0.695122</td>\n",
       "    </tr>\n",
       "  </tbody>\n",
       "</table>\n",
       "</div>"
      ],
      "text/plain": [
       "Child_State                    Low-Skilled, Everywhere Else  \\\n",
       "Parent_State                                                  \n",
       "Low-Skilled, Everywhere Else                       0.519059   \n",
       "Low-Skilled, Java                                  0.250000   \n",
       "High-Skilled, Everywhere Else                      0.260317   \n",
       "High-Skilled, Java                                 0.285714   \n",
       "\n",
       "Child_State                    Low-Skilled, Java  \\\n",
       "Parent_State                                       \n",
       "Low-Skilled, Everywhere Else            0.500000   \n",
       "Low-Skilled, Java                       0.540856   \n",
       "High-Skilled, Everywhere Else           0.142857   \n",
       "High-Skilled, Java                      0.304878   \n",
       "\n",
       "Child_State                    High-Skilled, Everywhere Else  \\\n",
       "Parent_State                                                   \n",
       "Low-Skilled, Everywhere Else                        0.480941   \n",
       "Low-Skilled, Java                                   0.750000   \n",
       "High-Skilled, Everywhere Else                       0.739683   \n",
       "High-Skilled, Java                                  0.714286   \n",
       "\n",
       "Child_State                    High-Skilled, Java  \n",
       "Parent_State                                       \n",
       "Low-Skilled, Everywhere Else             0.500000  \n",
       "Low-Skilled, Java                        0.459144  \n",
       "High-Skilled, Everywhere Else            0.857143  \n",
       "High-Skilled, Java                       0.695122  "
      ]
     },
     "execution_count": 51,
     "metadata": {},
     "output_type": "execute_result"
    }
   ],
   "source": [
    "Data_Cross_Mig + Data_Cross_NoMig"
   ]
  },
  {
   "cell_type": "markdown",
   "metadata": {},
   "source": [
    "The above Data State Transitinos show that in the data, we observe more parents educating their children conditional on having chosen to migrate, as there are RELATIVELY more children in the high skilled states in the new location than their counterparts whose parents chose to stay. "
   ]
  },
  {
   "cell_type": "code",
   "execution_count": 52,
   "metadata": {},
   "outputs": [
    {
     "data": {
      "text/html": [
       "<div>\n",
       "<table border=\"1\" class=\"dataframe\">\n",
       "  <thead>\n",
       "    <tr style=\"text-align: right;\">\n",
       "      <th>Child_State</th>\n",
       "      <th>Low-Skilled, Everywhere Else</th>\n",
       "      <th>Low-Skilled, Java</th>\n",
       "      <th>High-Skilled, Everywhere Else</th>\n",
       "      <th>High-Skilled, Java</th>\n",
       "    </tr>\n",
       "    <tr>\n",
       "      <th>Parent_State</th>\n",
       "      <th></th>\n",
       "      <th></th>\n",
       "      <th></th>\n",
       "      <th></th>\n",
       "    </tr>\n",
       "  </thead>\n",
       "  <tbody>\n",
       "    <tr>\n",
       "      <th>Low-Skilled, Everywhere Else</th>\n",
       "      <td>0.471504</td>\n",
       "      <td>0.503704</td>\n",
       "      <td>0.528496</td>\n",
       "      <td>0.496296</td>\n",
       "    </tr>\n",
       "    <tr>\n",
       "      <th>Low-Skilled, Java</th>\n",
       "      <td>0.455446</td>\n",
       "      <td>0.480597</td>\n",
       "      <td>0.544554</td>\n",
       "      <td>0.519403</td>\n",
       "    </tr>\n",
       "    <tr>\n",
       "      <th>High-Skilled, Everywhere Else</th>\n",
       "      <td>0.472780</td>\n",
       "      <td>0.378049</td>\n",
       "      <td>0.527220</td>\n",
       "      <td>0.621951</td>\n",
       "    </tr>\n",
       "    <tr>\n",
       "      <th>High-Skilled, Java</th>\n",
       "      <td>0.456311</td>\n",
       "      <td>0.480898</td>\n",
       "      <td>0.543689</td>\n",
       "      <td>0.519102</td>\n",
       "    </tr>\n",
       "  </tbody>\n",
       "</table>\n",
       "</div>"
      ],
      "text/plain": [
       "Child_State                    Low-Skilled, Everywhere Else  \\\n",
       "Parent_State                                                  \n",
       "Low-Skilled, Everywhere Else                       0.471504   \n",
       "Low-Skilled, Java                                  0.455446   \n",
       "High-Skilled, Everywhere Else                      0.472780   \n",
       "High-Skilled, Java                                 0.456311   \n",
       "\n",
       "Child_State                    Low-Skilled, Java  \\\n",
       "Parent_State                                       \n",
       "Low-Skilled, Everywhere Else            0.503704   \n",
       "Low-Skilled, Java                       0.480597   \n",
       "High-Skilled, Everywhere Else           0.378049   \n",
       "High-Skilled, Java                      0.480898   \n",
       "\n",
       "Child_State                    High-Skilled, Everywhere Else  \\\n",
       "Parent_State                                                   \n",
       "Low-Skilled, Everywhere Else                        0.528496   \n",
       "Low-Skilled, Java                                   0.544554   \n",
       "High-Skilled, Everywhere Else                       0.527220   \n",
       "High-Skilled, Java                                  0.543689   \n",
       "\n",
       "Child_State                    High-Skilled, Java  \n",
       "Parent_State                                       \n",
       "Low-Skilled, Everywhere Else             0.496296  \n",
       "Low-Skilled, Java                        0.519403  \n",
       "High-Skilled, Everywhere Else            0.621951  \n",
       "High-Skilled, Java                       0.519102  "
      ]
     },
     "execution_count": 52,
     "metadata": {},
     "output_type": "execute_result"
    }
   ],
   "source": [
    "Sim_Cross_Mig + Sim_Cross_NoMig"
   ]
  },
  {
   "cell_type": "markdown",
   "metadata": {},
   "source": [
    "The simulated results are not that close to the data, but the basic pattern is captured wherein if the parent chooses to migrate we see a corresponding increase in the proportion of children who are high skilled in the new location relative to those who chose to stay. Put differently, among parents who moved we also observe higher rates of high-skilled children relative to the cohort of children whose parents didn't move. \n",
    "\n",
    "The troublesome part is that the low-skilled parents located elsewhere defy the pattern of the data: low-skilled parents located elsewhere who chose to move (to Java) also choose to decrease the rates at which they educate their children in the new location, so that we see relatively more high-skilled children in the old location vs. the new location (Java). This goes counter to the data and to the overall pattern both in the data and the rest of the simulated outcomes.  "
   ]
  }
 ],
 "metadata": {
  "kernelspec": {
   "display_name": "Python 3",
   "language": "python",
   "name": "python3"
  },
  "language_info": {
   "codemirror_mode": {
    "name": "ipython",
    "version": 3
   },
   "file_extension": ".py",
   "mimetype": "text/x-python",
   "name": "python",
   "nbconvert_exporter": "python",
   "pygments_lexer": "ipython3",
   "version": "3.6.0"
  }
 },
 "nbformat": 4,
 "nbformat_minor": 2
}
