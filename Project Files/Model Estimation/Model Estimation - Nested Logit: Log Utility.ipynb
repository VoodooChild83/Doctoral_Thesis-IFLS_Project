{
 "cells": [
  {
   "cell_type": "markdown",
   "metadata": {},
   "source": [
    "# Estimation of Model in Chapter 2 of Thesis"
   ]
  },
  {
   "cell_type": "code",
   "execution_count": 1,
   "metadata": {},
   "outputs": [],
   "source": [
    "import pandas as pd\n",
    "import numpy as np\n",
    "from scipy.optimize import minimize as MIN, show_options as SO\n",
    "import time\n",
    "import statsmodels.formula.api as sm\n",
    "from statsmodels.iolib.summary2 import summary_col\n",
    "\n",
    "%load_ext Cython"
   ]
  },
  {
   "cell_type": "markdown",
   "metadata": {},
   "source": [
    "### File Names for the dataframe"
   ]
  },
  {
   "cell_type": "code",
   "execution_count": 2,
   "metadata": {},
   "outputs": [],
   "source": [
    "#File path of STATA dataset\n",
    "\n",
    "Path_Data = \"/Users/idiosyncrasy58/Dropbox/Documents/College/\"+ \\\n",
    "            \"Universitat Autonoma de Barcelona/IDEA - Economics/\"+ \\\n",
    "            \"Doctoral Thesis Ideas/Migration/IFLS/Project Files/\"+ \\\n",
    "            \"Temp Files/Longitudinal Adult Children Data for Estimation.dta\""
   ]
  },
  {
   "cell_type": "code",
   "execution_count": 3,
   "metadata": {},
   "outputs": [
    {
     "data": {
      "text/html": [
       "<div>\n",
       "<style>\n",
       "    .dataframe thead tr:only-child th {\n",
       "        text-align: right;\n",
       "    }\n",
       "\n",
       "    .dataframe thead th {\n",
       "        text-align: left;\n",
       "    }\n",
       "\n",
       "    .dataframe tbody tr th {\n",
       "        vertical-align: top;\n",
       "    }\n",
       "</style>\n",
       "<table border=\"1\" class=\"dataframe\">\n",
       "  <thead>\n",
       "    <tr style=\"text-align: right;\">\n",
       "      <th></th>\n",
       "      <th>Household</th>\n",
       "      <th>sex</th>\n",
       "      <th>age</th>\n",
       "      <th>MaxSchYrs</th>\n",
       "      <th>ParentalSchAvg</th>\n",
       "      <th>MarketCode</th>\n",
       "      <th>InterMarket_FamilyMig</th>\n",
       "      <th>Skill_Level_2</th>\n",
       "      <th>Skill_Level_2_Parents</th>\n",
       "      <th>Wage_2_HH</th>\n",
       "      <th>Educ_3</th>\n",
       "    </tr>\n",
       "  </thead>\n",
       "  <tbody>\n",
       "    <tr>\n",
       "      <th>0</th>\n",
       "      <td>001220003</td>\n",
       "      <td>1.0</td>\n",
       "      <td>19.0</td>\n",
       "      <td>13.0</td>\n",
       "      <td>3.0</td>\n",
       "      <td>1</td>\n",
       "      <td>0</td>\n",
       "      <td>1.0</td>\n",
       "      <td>0.0</td>\n",
       "      <td>1.047</td>\n",
       "      <td>1</td>\n",
       "    </tr>\n",
       "    <tr>\n",
       "      <th>1</th>\n",
       "      <td>001250003</td>\n",
       "      <td>1.0</td>\n",
       "      <td>14.0</td>\n",
       "      <td>3.0</td>\n",
       "      <td>4.0</td>\n",
       "      <td>1</td>\n",
       "      <td>0</td>\n",
       "      <td>0.0</td>\n",
       "      <td>0.0</td>\n",
       "      <td>1.047</td>\n",
       "      <td>0</td>\n",
       "    </tr>\n",
       "    <tr>\n",
       "      <th>2</th>\n",
       "      <td>001290003</td>\n",
       "      <td>3.0</td>\n",
       "      <td>14.0</td>\n",
       "      <td>4.0</td>\n",
       "      <td>0.0</td>\n",
       "      <td>1</td>\n",
       "      <td>0</td>\n",
       "      <td>0.0</td>\n",
       "      <td>0.0</td>\n",
       "      <td>1.047</td>\n",
       "      <td>0</td>\n",
       "    </tr>\n",
       "    <tr>\n",
       "      <th>3</th>\n",
       "      <td>002010007</td>\n",
       "      <td>3.0</td>\n",
       "      <td>17.0</td>\n",
       "      <td>13.0</td>\n",
       "      <td>7.0</td>\n",
       "      <td>1</td>\n",
       "      <td>0</td>\n",
       "      <td>1.0</td>\n",
       "      <td>0.0</td>\n",
       "      <td>1.047</td>\n",
       "      <td>1</td>\n",
       "    </tr>\n",
       "    <tr>\n",
       "      <th>4</th>\n",
       "      <td>002040003</td>\n",
       "      <td>3.0</td>\n",
       "      <td>14.0</td>\n",
       "      <td>6.0</td>\n",
       "      <td>0.5</td>\n",
       "      <td>1</td>\n",
       "      <td>0</td>\n",
       "      <td>0.0</td>\n",
       "      <td>0.0</td>\n",
       "      <td>1.047</td>\n",
       "      <td>0</td>\n",
       "    </tr>\n",
       "  </tbody>\n",
       "</table>\n",
       "</div>"
      ],
      "text/plain": [
       "   Household  sex   age  MaxSchYrs  ParentalSchAvg  MarketCode  \\\n",
       "0  001220003  1.0  19.0       13.0             3.0           1   \n",
       "1  001250003  1.0  14.0        3.0             4.0           1   \n",
       "2  001290003  3.0  14.0        4.0             0.0           1   \n",
       "3  002010007  3.0  17.0       13.0             7.0           1   \n",
       "4  002040003  3.0  14.0        6.0             0.5           1   \n",
       "\n",
       "   InterMarket_FamilyMig  Skill_Level_2  Skill_Level_2_Parents  Wage_2_HH  \\\n",
       "0                      0            1.0                    0.0      1.047   \n",
       "1                      0            0.0                    0.0      1.047   \n",
       "2                      0            0.0                    0.0      1.047   \n",
       "3                      0            1.0                    0.0      1.047   \n",
       "4                      0            0.0                    0.0      1.047   \n",
       "\n",
       "   Educ_3  \n",
       "0       1  \n",
       "1       0  \n",
       "2       0  \n",
       "3       1  \n",
       "4       0  "
      ]
     },
     "execution_count": 3,
     "metadata": {},
     "output_type": "execute_result"
    }
   ],
   "source": [
    "index = {1:'Low-Skilled, Everywhere Else',2:'Low-Skilled, Java',\n",
    "         3:'High-Skilled, Everywhere Else',4:'High-Skilled, Java'}\n",
    " \n",
    "col_keep = ['pidlink','sex','age','MaxSchYrs','ParentalSchAvg','MarketCode','InterMarket_FamilyMig',\n",
    "            'Skill_Level_2','Skill_Level_2_Parents','Wage_2_HH','Educ_3']\n",
    "\n",
    "#Read in the file\n",
    "Data = pd.read_stata(Path_Data,columns=col_keep,convert_categoricals=False).rename(columns={'pidlink':'Household'})\n",
    "\n",
    "Data['Educ_3'] = Data.Educ_3.astype('int')\n",
    "\n",
    "Data.head()"
   ]
  },
  {
   "cell_type": "code",
   "execution_count": 4,
   "metadata": {},
   "outputs": [],
   "source": [
    "#Create the Variables highlighting where the parents moved to\n",
    "\n",
    "def Market_Move(Curr_Loc, Choice):\n",
    "    \n",
    "    if Curr_Loc==1 and Choice==1:\n",
    "        Move = 2\n",
    "    elif Curr_Loc==2 and Choice==1:\n",
    "        Move = 1\n",
    "    elif Choice==0:\n",
    "        Move = Curr_Loc\n",
    "    \n",
    "    return Move\n",
    "    \n",
    "def State_Def(Loc, Skill):\n",
    "    \n",
    "    if Loc==1 and Skill==0:\n",
    "        State = 1\n",
    "    elif Loc==1 and Skill==1:\n",
    "        State = 3\n",
    "    elif Loc==2 and Skill==0:\n",
    "        State = 2\n",
    "    else: State = 4\n",
    "        \n",
    "    return State\n",
    "\n",
    "def Dec_Def(Loc_Choice, Educ_Choice):\n",
    "    \n",
    "    if Loc_Choice==0 and Educ_Choice==0:\n",
    "        Decision = 1\n",
    "    elif Loc_Choice==0 and Educ_Choice==1:\n",
    "        Decision = 2\n",
    "    elif Loc_Choice==1 and Educ_Choice==0:\n",
    "        Decision = 3\n",
    "    else: Decision = 4\n",
    "        \n",
    "    return Decision\n",
    "\n",
    "Data['MarketCode_Move'] = Data.apply(lambda row: \n",
    "                                     Market_Move(row['MarketCode'],row['InterMarket_FamilyMig']), \n",
    "                                     axis=1)\n",
    "\n",
    "Data['Parent_State'] = Data.apply(lambda row: \n",
    "                                     State_Def(row['MarketCode'],row['Skill_Level_2_Parents']), \n",
    "                                     axis=1)\n",
    "\n",
    "Data['Decision'] = Data.apply(lambda row: \n",
    "                                     Dec_Def(row['InterMarket_FamilyMig'],row['Educ_3']), \n",
    "                                     axis=1)"
   ]
  },
  {
   "cell_type": "markdown",
   "metadata": {},
   "source": [
    "### Econometric Model Code\n",
    "\n",
    "The following cells generate the estimation of the model. Likely, where possible, code will be written in Cython when necessary (for example: the inner loop and the maximization via GSL).\n",
    "\n",
    "##### Model\n",
    "I write the following value function from the point of view of the old-age agent, indexed by $(d,g,t=2)$ (dynasty $d$, generation $g$, and period of life $t$):\n",
    "\\begin{equation}\n",
    "V_{d,g,t=2}(z,\\varepsilon) = \\max_{I_k\\in I} \\text{  } \\sum_k I_{k}\\left\\{v_{d,g,t=2}(z,k) + \\varepsilon_{k} \\right\\} \\end{equation}\n",
    "where\n",
    "\\begin{equation}\n",
    "v_{d,g,t=2}(z,k)=u(c)+\\alpha \\text{E}\\left[V_{d,g',t=2}(z',\\varepsilon')\\big|z,I_{k}=1\\right]\n",
    "\\end{equation}\n",
    "\n",
    "and utility, being linear and the same across generations, is $u(c)=ln(c)$.\n",
    "\n",
    "##### Specification\n",
    "The econometric specification of the model is the following:\n",
    "\n",
    "Wages: Agents receieve the median wages offered in each market based on their skill-level (where I take the skill-level of the first generation as pre-determined). Agents choose at the beginning of the period where they want to live and pay the cost to move there. Simultaneously, they choose whether to educate their child or not in their chosen location. \n",
    "\n",
    "The budget constraint is given by:\n",
    "\\begin{equation}\n",
    "c = w^{hh}(h,j) - \\delta\\cdot 1(\\ell\\neq j) - \\phi_{j}\\cdot 1(e=1)\n",
    "\\end{equation}\n",
    "\n",
    "and \n",
    "\\begin{equation}\n",
    "w^{hh}(h,j)=med(w(h,j))\n",
    "\\end{equation}\n",
    "\n",
    "#### Parameters"
   ]
  },
  {
   "cell_type": "code",
   "execution_count": 5,
   "metadata": {},
   "outputs": [],
   "source": [
    "#Parameters and parameter vector to pass into function\n",
    "alpha = 0.99**18        #altruism parameter = 0.99^18 \n",
    "                          #(18 years old when child is supposed to finish schooling)\n",
    "tot_states = 4          #number of states\n",
    "tot_decisions = 4       #number of decisions"
   ]
  },
  {
   "cell_type": "markdown",
   "metadata": {},
   "source": [
    "#### State Space Variable"
   ]
  },
  {
   "cell_type": "code",
   "execution_count": 6,
   "metadata": {},
   "outputs": [],
   "source": [
    "#Market Adult Wages Array\n",
    "#rows:      regions\n",
    "#columns:   skill levels\n",
    "\n",
    "wage_R1_ls=1.047  #Everywhere Else\n",
    "wage_R1_hs=2.513  #Everywhere Else\n",
    "wage_R2_ls=1      #Island of Java\n",
    "wage_R2_hs=2.626  #Island of Java\n",
    "\n",
    "#Strucutre a wage array for quick access \n",
    "wage_lst=[[wage_R1_ls]*2+[wage_R2_ls]*2,\n",
    "          [wage_R2_ls]*2+[wage_R1_ls]*2,\n",
    "          [wage_R1_hs]*2+[wage_R2_hs]*2,\n",
    "          [wage_R2_hs]*2+[wage_R1_hs]*2]\n",
    "\n",
    "wages = np.array(wage_lst, dtype='d').reshape((tot_states,tot_decisions))"
   ]
  },
  {
   "cell_type": "markdown",
   "metadata": {},
   "source": [
    "#### Transition Function"
   ]
  },
  {
   "cell_type": "code",
   "execution_count": 7,
   "metadata": {},
   "outputs": [],
   "source": [
    "tran_st=[[1,0,0,0],[0,0,1,0],[0,1,0,0],[0,0,0,1],\n",
    "         [0,1,0,0],[0,0,0,1],[1,0,0,0],[0,0,1,0],\n",
    "         [1,0,0,0],[0,0,1,0],[0,1,0,0],[0,0,0,1],\n",
    "         [0,1,0,0],[0,0,0,1],[1,0,0,0],[0,0,1,0]]\n",
    "\n",
    "tran_func = np.array(tran_st, dtype='d').reshape((tot_states,tot_decisions,tot_states))"
   ]
  },
  {
   "cell_type": "markdown",
   "metadata": {},
   "source": [
    "#### Function to permute the Costs for vectorization"
   ]
  },
  {
   "cell_type": "code",
   "execution_count": 8,
   "metadata": {},
   "outputs": [],
   "source": [
    "def Cost(Param,transform=[0,0]):\n",
    "    \n",
    "    #Education costs\n",
    "    educ_lst=[[0,Param[1],0,Param[2]],\n",
    "              [0,Param[2],0,Param[1]]]*2\n",
    "\n",
    "    educ_cost=np.array(educ_lst, dtype='d').reshape((tot_states,tot_decisions))\n",
    "    \n",
    "    if transform[0]==1:\n",
    "\n",
    "        Trans = np.exp(Param[0])/(1+np.exp(Param[0]))\n",
    "    \n",
    "        #Moving Costs\n",
    "        move_lst=[[0]*2+[Trans]*2]\n",
    "        \n",
    "    else:\n",
    "        \n",
    "        #Moving Costs\n",
    "        move_lst=[[0]*2+[Param[0]]*2]\n",
    "\n",
    "    move_cost=np.array(move_lst, dtype='d')\n",
    "    \n",
    "    #total cost\n",
    "    cost = educ_cost + move_cost \n",
    "    \n",
    "    return cost"
   ]
  },
  {
   "cell_type": "markdown",
   "metadata": {},
   "source": [
    "#### The utility function"
   ]
  },
  {
   "cell_type": "code",
   "execution_count": 9,
   "metadata": {},
   "outputs": [],
   "source": [
    "def Utility(Param,transform=[0,0]):\n",
    "    \n",
    "    cost = Cost(Param,transform)\n",
    "    \n",
    "    consumption = wages - cost\n",
    "    \n",
    "    #replace consumption with something really small if it is negative\n",
    "    consumption[consumption<=0] = 1e-5\n",
    "    \n",
    "    #return the the functional form of the utility as a function of consumption\n",
    "    utility = np.log(consumption) \n",
    "    \n",
    "    return utility"
   ]
  },
  {
   "cell_type": "markdown",
   "metadata": {},
   "source": [
    "#### Function to get the Value Functions and the Branches and Limbs probabilities"
   ]
  },
  {
   "cell_type": "code",
   "execution_count": 10,
   "metadata": {},
   "outputs": [],
   "source": [
    "def Value_Func(Param,transform=[0,0]):\n",
    "    \n",
    "    #generate the utility matrix\n",
    "    utility = Utility(Param,transform)\n",
    "    \n",
    "    #Calculate the value function\n",
    "    \n",
    "    #Final Period: Expected wages based on Child(T=1) = Adult(T=2), Adult(T=1) = Effectively Dead\n",
    "    \n",
    "    Sum = 0\n",
    "\n",
    "    for t in range(100):\n",
    "        Sum += (1/(1/alpha)**t) * wages[:,0]\n",
    "    \n",
    "    V = np.log(Sum) + np.euler_gamma\n",
    "    \n",
    "    #Go back to the original wage array: sum all possible wages\n",
    "    #V = np.log(np.exp(wages-cost).sum(axis=1)) + np.euler_gamma\n",
    "    \n",
    "    #Initial Period: Adult(T=1) = Alive, Child(T=1)\n",
    "    \n",
    "    v = utility + alpha*tran_func.dot(V)\n",
    "    \n",
    "    return (v,V)"
   ]
  },
  {
   "cell_type": "code",
   "execution_count": 11,
   "metadata": {},
   "outputs": [],
   "source": [
    "def Tree(Param,transform=[0,0]):\n",
    "\n",
    "    v = Value_Func(Param,transform)[0]\n",
    "    \n",
    "    if transform[1]==1:\n",
    "        rho_1 = np.exp(Param[3])/(1+np.exp(Param[3])) \n",
    "        rho_2 = np.exp(Param[4])/(1+np.exp(Param[4]))\n",
    "    else:\n",
    "        rho_1 = Param[3] #Educate branch\n",
    "        rho_2 = Param[4] #No Educate branch\n",
    "\n",
    "    #Branches and Limb Numerators and Denominators\n",
    "    \n",
    "    denom_1 = np.exp(v[:,(1,3)]/rho_1).sum(axis=1).reshape(4,1)\n",
    "    denom_2 = np.exp(v[:,(0,2)]/rho_2).sum(axis=1).reshape(4,1)\n",
    "    \n",
    "    branch_1 = np.exp( rho_1 * np.log(denom_1) )\n",
    "    branch_2 = np.exp( rho_2 * np.log(denom_2) )\n",
    "    \n",
    "    branch_denom = branch_1 + branch_2\n",
    "                      \n",
    "    #Calculate the branch probabilities\n",
    "    \n",
    "    p_1 = branch_1/branch_denom #Educate branch\n",
    "    p_2 = branch_2/branch_denom #No Educate branch\n",
    "                      \n",
    "    branches = np.hstack((p_2,p_1))\n",
    "    \n",
    "    #Calculate the limb probabilities\n",
    "    \n",
    "    limbs_1 = np.exp(v[:,(1,3)]/rho_1)/denom_1\n",
    "    limbs_2 = np.exp(v[:,(0,2)]/rho_2)/denom_2\n",
    "    \n",
    "    limbs = np.vstack((limbs_2[:,0],limbs_1[:,0],limbs_2[:,1],limbs_1[:,1])).T\n",
    "    \n",
    "    return (branches, limbs)"
   ]
  },
  {
   "cell_type": "markdown",
   "metadata": {},
   "source": [
    "#### Map Branches and Limbs to the data based on the decisions taken and the states of the individual"
   ]
  },
  {
   "cell_type": "code",
   "execution_count": 12,
   "metadata": {},
   "outputs": [],
   "source": [
    "def Limb_Map(State, Decision, limbs):\n",
    "\n",
    "    Prob = limbs[State-1,Decision-1]\n",
    "\n",
    "    return np.log(Prob)\n",
    "\n",
    "def Branch_Map(State, Educ_Dec, branches):\n",
    "    \n",
    "    Prob = branches[State-1,Educ_Dec]\n",
    "    \n",
    "    return np.log(Prob)\n",
    "\n",
    "def Tree_Data(branches, limbs):\n",
    "\n",
    "    Data['Branches'] = Data.apply(lambda row: \n",
    "                             Branch_Map(row['Parent_State'],row['Educ_3'],branches), axis=1)\n",
    "    \n",
    "    Data['Limbs'] = Data.apply(lambda row: \n",
    "                             Limb_Map(row['Parent_State'],row['Decision'],limbs), axis=1)"
   ]
  },
  {
   "cell_type": "markdown",
   "metadata": {},
   "source": [
    "#### Calculation of the Log-Likelihood Function"
   ]
  },
  {
   "cell_type": "code",
   "execution_count": 13,
   "metadata": {},
   "outputs": [],
   "source": [
    "def LLF(Params, Data, transform=[0,0]):\n",
    "    \n",
    "    #Solve the Dynamic Programming Problem and get the probabilities\n",
    "    branches, limbs = Tree(Params,transform)\n",
    "    \n",
    "    #Map the CCPs to the Data\n",
    "    Tree_Data(branches, limbs)\n",
    "    \n",
    "    #Calculate the log-likelihood value\n",
    "    LLF = -1*( Data.Branches.sum() + Data.Limbs.sum() )\n",
    "    \n",
    "    return LLF"
   ]
  },
  {
   "cell_type": "markdown",
   "metadata": {},
   "source": [
    "#### Calculate the CCPs based on the joint decision"
   ]
  },
  {
   "cell_type": "code",
   "execution_count": 14,
   "metadata": {},
   "outputs": [],
   "source": [
    "def CCP(Params,transform=[0,0]):\n",
    "    \n",
    "    branches, limbs = Tree(Params,transform)\n",
    "    \n",
    "    branch_1 = limbs[:,(0,2)]*branches[:,0].reshape(4,1)\n",
    "    branch_2 = limbs[:,(1,3)]*branches[:,1].reshape(4,1)\n",
    "    \n",
    "    CCP = np.vstack((branch_1,branch_2)).T.reshape(4,4).T\n",
    "    \n",
    "    return CCP"
   ]
  },
  {
   "cell_type": "markdown",
   "metadata": {},
   "source": [
    "### Estimation of the Model"
   ]
  },
  {
   "cell_type": "markdown",
   "metadata": {},
   "source": [
    "#### Unconstrained Maximization of the LLF\n",
    "\n",
    "Use the minimization routine with BFGS method."
   ]
  },
  {
   "cell_type": "code",
   "execution_count": 15,
   "metadata": {
    "scrolled": false
   },
   "outputs": [
    {
     "name": "stdout",
     "output_type": "stream",
     "text": [
      "Optimization terminated successfully.\n",
      "         Current function value: 2779.833530\n",
      "         Iterations: 20\n",
      "         Function evaluations: 189\n",
      "         Gradient evaluations: 27\n",
      "0.5683652798334757 minutes\n"
     ]
    }
   ],
   "source": [
    "time1 = time.time()\n",
    "\n",
    "#Create the start values based on values from the log utility specification (one with most frequent equilibrium obs.)\n",
    "start_val = np.array([2.436,0.629,0.619,0.5,0.5]) #np.hstack((np.random.randn(3),np.random.rand(2)))\n",
    "\n",
    "Param_Final = MIN(LLF, start_val, method='BFGS', args=(Data,), options={'gtol':1e-3, 'maxiter':200, 'disp':True})                                                                                     \n",
    "print(str((time.time()-time1)/60)+' minutes')"
   ]
  },
  {
   "cell_type": "code",
   "execution_count": 16,
   "metadata": {},
   "outputs": [
    {
     "name": "stdout",
     "output_type": "stream",
     "text": [
      "[ 1.802  0.598  0.562  0.723  0.317]\n"
     ]
    }
   ],
   "source": [
    "print(Param_Final.x.round(3))"
   ]
  },
  {
   "cell_type": "markdown",
   "metadata": {},
   "source": [
    "Implied correlations"
   ]
  },
  {
   "cell_type": "code",
   "execution_count": 17,
   "metadata": {},
   "outputs": [
    {
     "name": "stdout",
     "output_type": "stream",
     "text": [
      "[ 0.47723051  0.89941397]\n"
     ]
    }
   ],
   "source": [
    "corr_e1_e2 = 1 - np.array(Param_Final.x[-2:]**2)\n",
    "print(corr_e1_e2)"
   ]
  },
  {
   "cell_type": "markdown",
   "metadata": {},
   "source": [
    "Standard Errors"
   ]
  },
  {
   "cell_type": "code",
   "execution_count": 18,
   "metadata": {},
   "outputs": [
    {
     "name": "stdout",
     "output_type": "stream",
     "text": [
      "[ 0.0736  0.0285  0.021   0.1222  0.1267]\n"
     ]
    }
   ],
   "source": [
    "std_err = np.sqrt(np.diag(Param_Final.hess_inv))\n",
    "print(std_err.round(4))"
   ]
  },
  {
   "cell_type": "markdown",
   "metadata": {},
   "source": [
    "t-statistics"
   ]
  },
  {
   "cell_type": "code",
   "execution_count": 19,
   "metadata": {},
   "outputs": [
    {
     "name": "stdout",
     "output_type": "stream",
     "text": [
      "[ 24.50074941  21.02462394  26.73254434   5.91713534   2.50406443]\n"
     ]
    }
   ],
   "source": [
    "t = Param_Final.x/std_err\n",
    "print(abs(t))"
   ]
  },
  {
   "cell_type": "markdown",
   "metadata": {},
   "source": [
    "Test consistency with utility maximization"
   ]
  },
  {
   "cell_type": "code",
   "execution_count": 20,
   "metadata": {},
   "outputs": [
    {
     "name": "stdout",
     "output_type": "stream",
     "text": [
      "-5.39138171584\n",
      "-2.26669065179\n"
     ]
    }
   ],
   "source": [
    "for i in range(1,3):\n",
    "    Test = (Param_Final.x[-i]-1)/(std_err[-i])\n",
    "    print(Test)"
   ]
  },
  {
   "cell_type": "markdown",
   "metadata": {},
   "source": [
    "#### MC the results to test stability of estimates"
   ]
  },
  {
   "cell_type": "markdown",
   "metadata": {
    "collapsed": true
   },
   "source": [
    "#Test the stability of parameter estimates\n",
    "\n",
    "Loop = 100\n",
    "MC_Loop = np.empty((5,Loop))\n",
    "\n",
    "for i in range(Loop):\n",
    "    start_val = np.hstack((np.random.randn(3),np.random.rand(2)))\n",
    "    Param_Final = MIN(LLF, start_val, method='BFGS', args=(Data,1), options={'gtol':1e-3, 'maxiter':200, 'disp':False})\n",
    "    MC_Loop[:,i] = Param_Final.x"
   ]
  },
  {
   "cell_type": "markdown",
   "metadata": {},
   "source": [
    "Place results into a dataframe"
   ]
  },
  {
   "cell_type": "markdown",
   "metadata": {
    "collapsed": true
   },
   "source": [
    "MC_df = pd.DataFrame(np.round(MC_Loop.T,2),\n",
    "                     columns={'Move_Cost':0,'Educ_Cost_Elsewhere':1,\n",
    "                              'Educ_Cost_Jawa':2,'Scale_Educate':3,\n",
    "                              'Scale_No_Educate':4})\n",
    "\n",
    "MC_df['Count'] = 1"
   ]
  },
  {
   "cell_type": "markdown",
   "metadata": {
    "collapsed": true
   },
   "source": [
    "MC_df = ( MC_df.groupby(['Move_Cost', 'Educ_Cost_Elsewhere','Educ_Cost_Jawa','Scale_No_Educate','Scale_Educate'], as_index=False)\n",
    "               .count()\n",
    "               .sort_values(['Count'], ascending=False) )\n",
    "         \n",
    "MC_df.Count = MC_df.Count/100\n",
    "\n",
    "MC_df.to_csv('MC_Output_Nested_Logit')"
   ]
  },
  {
   "cell_type": "markdown",
   "metadata": {
    "scrolled": false
   },
   "source": [
    "MC_df"
   ]
  },
  {
   "cell_type": "markdown",
   "metadata": {},
   "source": [
    "#### Compare the Estimated CCPs with the Empirical CCPs"
   ]
  },
  {
   "cell_type": "markdown",
   "metadata": {},
   "source": [
    "Generate the matrix of the Empirical CCPS from the above.\n",
    "\n",
    "Assumption on mutually independent choices implies that:\n",
    "\n",
    "\\begin{equation}\n",
    "P(Move=\\{0,1\\} \\cap Educ=\\{0,1\\}\\mid State=S)=P(Move=\\{0,1\\}\\mid State=S)\\cdot P(Educ=\\{0,1\\}\\mid Move=\\{0,1\\} \\cap State=S)\n",
    "\\end{equation}\n",
    "\n",
    "So we can multiply the above probabilities for 'InterMarket_FamilyMig' and 'Educ_3' (as well as their respective compliments) since they are conditional on the State due to the grouping."
   ]
  },
  {
   "cell_type": "code",
   "execution_count": 21,
   "metadata": {},
   "outputs": [
    {
     "data": {
      "text/html": [
       "<div>\n",
       "<style>\n",
       "    .dataframe thead tr:only-child th {\n",
       "        text-align: right;\n",
       "    }\n",
       "\n",
       "    .dataframe thead th {\n",
       "        text-align: left;\n",
       "    }\n",
       "\n",
       "    .dataframe tbody tr th {\n",
       "        vertical-align: top;\n",
       "    }\n",
       "</style>\n",
       "<table border=\"1\" class=\"dataframe\">\n",
       "  <thead>\n",
       "    <tr style=\"text-align: right;\">\n",
       "      <th></th>\n",
       "      <th>NoEduc_NoMig</th>\n",
       "      <th>Educ_NoMig</th>\n",
       "      <th>NoEduc_Mig</th>\n",
       "      <th>Educ_Mig</th>\n",
       "    </tr>\n",
       "  </thead>\n",
       "  <tbody>\n",
       "    <tr>\n",
       "      <th>0</th>\n",
       "      <td>0.512</td>\n",
       "      <td>0.474</td>\n",
       "      <td>0.006</td>\n",
       "      <td>0.008</td>\n",
       "    </tr>\n",
       "    <tr>\n",
       "      <th>1</th>\n",
       "      <td>0.536</td>\n",
       "      <td>0.455</td>\n",
       "      <td>0.003</td>\n",
       "      <td>0.006</td>\n",
       "    </tr>\n",
       "    <tr>\n",
       "      <th>2</th>\n",
       "      <td>0.248</td>\n",
       "      <td>0.706</td>\n",
       "      <td>0.009</td>\n",
       "      <td>0.036</td>\n",
       "    </tr>\n",
       "    <tr>\n",
       "      <th>3</th>\n",
       "      <td>0.296</td>\n",
       "      <td>0.675</td>\n",
       "      <td>0.010</td>\n",
       "      <td>0.020</td>\n",
       "    </tr>\n",
       "  </tbody>\n",
       "</table>\n",
       "</div>"
      ],
      "text/plain": [
       "   NoEduc_NoMig  Educ_NoMig  NoEduc_Mig  Educ_Mig\n",
       "0         0.512       0.474       0.006     0.008\n",
       "1         0.536       0.455       0.003     0.006\n",
       "2         0.248       0.706       0.009     0.036\n",
       "3         0.296       0.675       0.010     0.020"
      ]
     },
     "execution_count": 21,
     "metadata": {},
     "output_type": "execute_result"
    }
   ],
   "source": [
    "#Group the data according to the states and then collapse the data along the desired dimensions.\n",
    "\n",
    "#Calculate the first conditional probability P(Educ={0,1} | Move={0,1}, State=S)\n",
    "Educ_DF = Data.groupby(['Parent_State','InterMarket_FamilyMig']).agg({'Educ_3':'mean'})\n",
    "Educ_DF['No_Educ'] = 1 - Educ_DF.Educ_3\n",
    "Educ_DF.sort_index(axis=1, ascending=False, inplace=True)\n",
    "\n",
    "#Calculate the second conditional probability P(Move={0,1}|State=S)\n",
    "Mig_DF = Data.groupby('Parent_State').agg({'InterMarket_FamilyMig':'mean'})\n",
    "Mig_DF['No_Mig'] = 1 - Mig_DF.InterMarket_FamilyMig\n",
    "Mig_DF.sort_index(axis=1, ascending=False, inplace=True)\n",
    "\n",
    "#Get the underlying numpy array from the DataFrame, reshape to broadcast multiplication\n",
    "Mig_Prob = Mig_DF.loc[:,['No_Mig','InterMarket_FamilyMig']].get_values().reshape((8,1))\n",
    "\n",
    "Educ_Prob = Educ_DF.loc[:,['No_Educ','Educ_3']].get_values()\n",
    "\n",
    "#Create the CCP DataFrame\n",
    "Columns = ['NoEduc_NoMig','Educ_NoMig','NoEduc_Mig','Educ_Mig']\n",
    "\n",
    "Emp_CCPs = pd.DataFrame(np.round(Educ_Prob*Mig_Prob,3).reshape((tot_states,tot_decisions)),columns=Columns)\n",
    "\n",
    "Emp_CCPs"
   ]
  },
  {
   "cell_type": "markdown",
   "metadata": {},
   "source": [
    "The estimated CCPs can be obtained by plugging back in the estimated parameters of the model into the function that calculates the CCPs from the value functions"
   ]
  },
  {
   "cell_type": "code",
   "execution_count": 22,
   "metadata": {},
   "outputs": [
    {
     "name": "stdout",
     "output_type": "stream",
     "text": [
      "[[ 0.529  0.471  0.     0.   ]\n",
      " [ 0.505  0.495  0.     0.   ]\n",
      " [ 0.368  0.583  0.01   0.039]\n",
      " [ 0.354  0.628  0.006  0.011]]\n"
     ]
    }
   ],
   "source": [
    "Est_CCPs = CCP(Param_Final.x) \n",
    "print(Est_CCPs.round(3))"
   ]
  },
  {
   "cell_type": "markdown",
   "metadata": {},
   "source": [
    "## Sensitivity: Test different levels of $\\alpha$"
   ]
  },
  {
   "cell_type": "markdown",
   "metadata": {},
   "source": [
    "alpha_test = [0.5,0.75,0.99**18,0.956]\n",
    "\n",
    "Param_dict = {}\n",
    "Std_Err_dict = {}\n",
    "Like_dict = {}\n",
    "\n",
    "for a in alpha_test:\n",
    "    \n",
    "    alpha = a\n",
    "    \n",
    "    start_val = np.array([3.436,0.629,0.619,0.5,0.5])\n",
    "    Param_Final = MIN(LLF, start_val, method='BFGS', args=(Data,), options={'gtol':1e-3, 'maxiter':200, 'disp':True})\n",
    "    \n",
    "    std_err = np.sqrt(np.diag(Param_Final.hess_inv))\n",
    "    \n",
    "    Param_dict[str(a)] = Param_Final.x.round(3)\n",
    "    Std_Err_dict[str(a)] = std_err.round(3)\n",
    "    \n",
    "    Like_dict[str(a)] = Param_Final.fun"
   ]
  },
  {
   "cell_type": "markdown",
   "metadata": {},
   "source": [
    "print(Param_dict)"
   ]
  },
  {
   "cell_type": "markdown",
   "metadata": {},
   "source": [
    "## Simulation of the Model"
   ]
  },
  {
   "cell_type": "markdown",
   "metadata": {
    "collapsed": true
   },
   "source": [
    "### Cython Code for Simulation of the model based on the Optimal Policy Function (CCP array)\n",
    "\n",
    "The below code is adapted from the code created in the simulation code folder"
   ]
  },
  {
   "cell_type": "code",
   "execution_count": 23,
   "metadata": {
    "scrolled": false
   },
   "outputs": [],
   "source": [
    "%%cython \n",
    "\n",
    "#!python\n",
    "#cython: boundscheck=False,wraparound=False,nonecheck=False,cdivision=True\n",
    "\n",
    "# Cython code to optimise in C the Simulation of the model portion of the code\n",
    "\n",
    "##################### Import Modules and math functions ######################\n",
    "\n",
    "#Cython and C functions (this is faster than calling external C function math libs)\n",
    "cimport cython\n",
    "\n",
    "from libc.stdlib cimport rand, RAND_MAX, calloc, free, abort\n",
    "from libc.math cimport HUGE_VAL, log\n",
    "\n",
    "####################### Assign the global variables ##########################\n",
    "\n",
    "#These will be passed into functions automatically without \n",
    "#having to call them up explicitely\n",
    "\n",
    "cdef Py_ssize_t tot_states, tot_decisions\n",
    "\n",
    "##############################################################################\n",
    "####### Define the functions that will assist the simulation module ##########\n",
    "##############################################################################\n",
    "\n",
    "############ Random Numbers, Random States, and Random Shocks functions\n",
    "\n",
    "#Random number generator on interval [0,1]\n",
    "cdef inline double rand_value() nogil:\n",
    "    return rand()/<double>RAND_MAX\n",
    "\n",
    "############### Function and auxiliaries determining the next state\n",
    "\n",
    "#This function rewrites array with the cumulative sum through recursion\n",
    "cdef void cum_sum(double *arr, size_t index=4-1) nogil:\n",
    "    if index<=0: return\n",
    "    cum_sum(arr, index-1)\n",
    "    arr[index] += arr[index-1]\n",
    "\n",
    "#This function will determine the index of the transition function \n",
    "#based on the cumulative probabilities \n",
    "cdef unsigned short find_interval(double x, double *arr) nogil:\n",
    "    cdef Py_ssize_t i\n",
    "    \n",
    "    for i in range(tot_states):\n",
    "        if x<arr[i]:\n",
    "            return <unsigned short>i\n",
    "\n",
    "#This function will generate the next state based on the transition\n",
    "#function probabilites (a discrete value)\n",
    "cdef unsigned short Next_State(double[:] tran) nogil:\n",
    "    cdef:\n",
    "        double x\n",
    "        double *array\n",
    "        unsigned short index\n",
    "        Py_ssize_t i\n",
    "    \n",
    "    array=<double*> calloc(tot_states, sizeof(double))\n",
    "    \n",
    "    if array==NULL: abort()\n",
    "\n",
    "    try:\n",
    "        #generate a random number to help determine the next state\n",
    "        x = rand_value()\n",
    "        \n",
    "        #copy the transition function values into the array to prevent rewrite\n",
    "        for i in range(tot_states):\n",
    "            array[i]=tran[i]\n",
    "        \n",
    "        #rewrite the array into the cumulative sum of the elements\n",
    "        cum_sum(array)\n",
    "        \n",
    "        #the next state is the return value of the function\n",
    "        #(the array index) + 1 to create the next state\n",
    "        index = find_interval(x, array) + 1\n",
    "    \n",
    "        return index\n",
    "\n",
    "    finally:\n",
    "        free(array)  \n",
    "\n",
    "\n",
    "################### Function for filling in the Simulated data array\n",
    "\n",
    "#This function will calculate the frequency of decisions for each generation\n",
    "cdef void Data(unsigned short* Data, Py_ssize_t curr_hh,\n",
    "               Py_ssize_t dec, Py_ssize_t state, \n",
    "               unsigned short* next_state_arr) nogil:\n",
    "    \n",
    "    #fill in the state\n",
    "    Data[0 + curr_hh*4] = <unsigned short>state\n",
    "    Data[3 + curr_hh*4] = next_state_arr[curr_hh]\n",
    "    \n",
    "    #fill in the moving decision\n",
    "    if dec==3 or dec==4:\n",
    "        Data[1 + curr_hh*4] = 1\n",
    "    #fill in the education decision\n",
    "    if dec==2 or dec==4:\n",
    "        Data[2 + curr_hh*4] = 1\n",
    "\n",
    "\n",
    "############ Function defining the simulation of the model: CCP Distribution ################\n",
    "def Sim_Model_CCP(double[:,:] CCP, double[:,:,:] tranny, \n",
    "                  unsigned short[:,:] Sim_Data, double[:] init_states):\n",
    "    \n",
    "    #declare and assign the globals\n",
    "    global tot_states, tot_decisions\n",
    "    \n",
    "    tot_states = tranny.shape[0]       #Dimension of the states is given by the number of rows in the trans array\n",
    "    tot_decisions = tranny.shape[1]    #Dimension of the decisions is diven by the rows of one of the trans array\n",
    "    \n",
    "    #declare the types for variables and arrays\n",
    "    cdef:\n",
    "        Py_ssize_t decision, state \n",
    "        Py_ssize_t HH = Sim_Data.shape[0] #Number of households is given by the first dimension of the Sim_Data array\n",
    "        \n",
    "        #define iterators\n",
    "        Py_ssize_t j\n",
    "        \n",
    "        #define array types\n",
    "        unsigned short* states\n",
    "        \n",
    "    #allocate arrays\n",
    "    states = <unsigned short*> calloc(HH, sizeof(unsigned short))\n",
    "        \n",
    "    #check that memory was allocated:\n",
    "    if states==NULL: abort()  \n",
    "        \n",
    "    #simulate the model\n",
    "\n",
    "    try:\n",
    "        #inner loop the households (should be parallelizable)\n",
    "        for j in range(HH):\n",
    "\n",
    "            #grab the household's state from the matrix\n",
    "            state = Next_State(init_states)\n",
    "\n",
    "            #compare values, return the decision (index+1)\n",
    "            decision = Next_State(CCP[state-1,:])\n",
    "\n",
    "            #rewrite the state array with the next generation's value:\n",
    "            states[j] = Next_State(tranny[state-1,decision-1,:])\n",
    "\n",
    "            #save the decisions of the houshold\n",
    "            Data(&Sim_Data[0,0],j,decision,state,states)\n",
    "            \n",
    "    finally:\n",
    "        free(states)"
   ]
  },
  {
   "cell_type": "markdown",
   "metadata": {},
   "source": [
    "### Python code for the execution of the simulation\n",
    "\n",
    "Grab the original distribution of the first generation from the data, and use the same number of households as the data"
   ]
  },
  {
   "cell_type": "code",
   "execution_count": 24,
   "metadata": {},
   "outputs": [
    {
     "data": {
      "text/html": [
       "<div>\n",
       "<style>\n",
       "    .dataframe thead tr:only-child th {\n",
       "        text-align: right;\n",
       "    }\n",
       "\n",
       "    .dataframe thead th {\n",
       "        text-align: left;\n",
       "    }\n",
       "\n",
       "    .dataframe tbody tr th {\n",
       "        vertical-align: top;\n",
       "    }\n",
       "</style>\n",
       "<table border=\"1\" class=\"dataframe\">\n",
       "  <thead>\n",
       "    <tr style=\"text-align: right;\">\n",
       "      <th></th>\n",
       "      <th>Household</th>\n",
       "      <th>InterMarket_FamilyMig</th>\n",
       "      <th>Educ_3</th>\n",
       "      <th>Prop_in_State</th>\n",
       "    </tr>\n",
       "    <tr>\n",
       "      <th>Parent_State</th>\n",
       "      <th></th>\n",
       "      <th></th>\n",
       "      <th></th>\n",
       "      <th></th>\n",
       "    </tr>\n",
       "  </thead>\n",
       "  <tbody>\n",
       "    <tr>\n",
       "      <th>Low-Skilled, Everywhere Else</th>\n",
       "      <td>1251</td>\n",
       "      <td>0.014</td>\n",
       "      <td>0.482</td>\n",
       "      <td>0.343</td>\n",
       "    </tr>\n",
       "    <tr>\n",
       "      <th>Low-Skilled, Java</th>\n",
       "      <td>1557</td>\n",
       "      <td>0.010</td>\n",
       "      <td>0.461</td>\n",
       "      <td>0.427</td>\n",
       "    </tr>\n",
       "    <tr>\n",
       "      <th>High-Skilled, Everywhere Else</th>\n",
       "      <td>330</td>\n",
       "      <td>0.045</td>\n",
       "      <td>0.742</td>\n",
       "      <td>0.091</td>\n",
       "    </tr>\n",
       "    <tr>\n",
       "      <th>High-Skilled, Java</th>\n",
       "      <td>507</td>\n",
       "      <td>0.030</td>\n",
       "      <td>0.694</td>\n",
       "      <td>0.139</td>\n",
       "    </tr>\n",
       "  </tbody>\n",
       "</table>\n",
       "</div>"
      ],
      "text/plain": [
       "                               Household  InterMarket_FamilyMig  Educ_3  \\\n",
       "Parent_State                                                              \n",
       "Low-Skilled, Everywhere Else        1251                  0.014   0.482   \n",
       "Low-Skilled, Java                   1557                  0.010   0.461   \n",
       "High-Skilled, Everywhere Else        330                  0.045   0.742   \n",
       "High-Skilled, Java                   507                  0.030   0.694   \n",
       "\n",
       "                               Prop_in_State  \n",
       "Parent_State                                  \n",
       "Low-Skilled, Everywhere Else           0.343  \n",
       "Low-Skilled, Java                      0.427  \n",
       "High-Skilled, Everywhere Else          0.091  \n",
       "High-Skilled, Java                     0.139  "
      ]
     },
     "execution_count": 24,
     "metadata": {},
     "output_type": "execute_result"
    }
   ],
   "source": [
    "#Group the data according to the states and then collapse the data along the desired dimensions.\n",
    "\n",
    "function = {'Household':'count','InterMarket_FamilyMig':'mean', 'Educ_3':'mean'}\n",
    "\n",
    "Stats = Data.groupby('Parent_State').agg(function).round(3)\n",
    "\n",
    "Stats['Prop_in_State'] = (Stats.Household/len(Data)).round(3)\n",
    "\n",
    "Stats.rename(index=index)"
   ]
  },
  {
   "cell_type": "code",
   "execution_count": 25,
   "metadata": {},
   "outputs": [],
   "source": [
    "#Define the initial states of the model to follow that of :\n",
    "\n",
    "#Grab the initial distribution of states from the data\n",
    "init_states = Stats.Prop_in_State.get_values() #np.array([0,0,0,1.0])\n",
    "\n",
    "#number of households\n",
    "HH = len(Data)\n",
    "\n",
    "#Simulated Data to be filled by the simulator\n",
    "Data_Sim = np.zeros((HH,4), dtype='uint16')"
   ]
  },
  {
   "cell_type": "markdown",
   "metadata": {},
   "source": [
    "Run the simulation and time it"
   ]
  },
  {
   "cell_type": "code",
   "execution_count": 26,
   "metadata": {},
   "outputs": [
    {
     "name": "stdout",
     "output_type": "stream",
     "text": [
      "The model took 0.0010519027709960938 seconds to simulate.\n"
     ]
    }
   ],
   "source": [
    "time1 = time.time()\n",
    "\n",
    "Sim_Model_CCP(Est_CCPs,tran_func,Data_Sim,init_states)\n",
    "\n",
    "print('The model took '+str(time.time()-time1)+' seconds to simulate.')"
   ]
  },
  {
   "cell_type": "markdown",
   "metadata": {},
   "source": [
    "## Analyze Results from Simulation\n",
    "\n",
    "Place the simulated data into a data frame to generate the statistics"
   ]
  },
  {
   "cell_type": "code",
   "execution_count": 27,
   "metadata": {},
   "outputs": [],
   "source": [
    "Data_Sim = (pd.DataFrame(Data_Sim, columns=['Parent_State','Migrate','Educate','Child_State'])\n",
    "              .reset_index()\n",
    "              .rename(columns={'index':'Household'}) )"
   ]
  },
  {
   "cell_type": "markdown",
   "metadata": {},
   "source": [
    "### Aggregate Statistics\n",
    "\n",
    "Across whole Simulated dataset"
   ]
  },
  {
   "cell_type": "code",
   "execution_count": 28,
   "metadata": {},
   "outputs": [
    {
     "name": "stdout",
     "output_type": "stream",
     "text": [
      "Migrate    0.006584\n",
      "Educate    0.515226\n",
      "dtype: float64\n"
     ]
    }
   ],
   "source": [
    "print(Data_Sim.loc[:,['Migrate','Educate']].sum(axis=0)/len(Data_Sim))"
   ]
  },
  {
   "cell_type": "markdown",
   "metadata": {},
   "source": [
    "Across the whole Empirical Dataset"
   ]
  },
  {
   "cell_type": "code",
   "execution_count": 29,
   "metadata": {},
   "outputs": [
    {
     "name": "stdout",
     "output_type": "stream",
     "text": [
      "InterMarket_FamilyMig    0.017284\n",
      "Educ_3                   0.526200\n",
      "dtype: float64\n"
     ]
    }
   ],
   "source": [
    "print(Data.loc[:,['InterMarket_FamilyMig','Educ_3']].sum(axis=0)/len(Data))"
   ]
  },
  {
   "cell_type": "markdown",
   "metadata": {},
   "source": [
    "We see that unconditional means are well simulated"
   ]
  },
  {
   "cell_type": "markdown",
   "metadata": {},
   "source": [
    "### By State (Person's Skill and Location)\n",
    "\n",
    "From Simulation"
   ]
  },
  {
   "cell_type": "code",
   "execution_count": 30,
   "metadata": {},
   "outputs": [],
   "source": [
    "function = {'Household':'count','Migrate':'mean', 'Educate':'mean'}\n",
    "\n",
    "Sim_Stats = Data_Sim.groupby('Parent_State',as_index=True).agg(function)\n",
    "Sim_Stats['Prop_in_State'] = Sim_Stats.Household/len(Data_Sim)"
   ]
  },
  {
   "cell_type": "markdown",
   "metadata": {},
   "source": [
    "Merge with the original dataset for comparison"
   ]
  },
  {
   "cell_type": "code",
   "execution_count": 31,
   "metadata": {},
   "outputs": [
    {
     "data": {
      "text/html": [
       "<div>\n",
       "<style>\n",
       "    .dataframe thead tr:only-child th {\n",
       "        text-align: right;\n",
       "    }\n",
       "\n",
       "    .dataframe thead th {\n",
       "        text-align: left;\n",
       "    }\n",
       "\n",
       "    .dataframe tbody tr th {\n",
       "        vertical-align: top;\n",
       "    }\n",
       "</style>\n",
       "<table border=\"1\" class=\"dataframe\">\n",
       "  <thead>\n",
       "    <tr style=\"text-align: right;\">\n",
       "      <th></th>\n",
       "      <th>Migrate</th>\n",
       "      <th>Educate</th>\n",
       "      <th>InterMarket_FamilyMig</th>\n",
       "      <th>Educ_3</th>\n",
       "    </tr>\n",
       "    <tr>\n",
       "      <th>Parent_State</th>\n",
       "      <th></th>\n",
       "      <th></th>\n",
       "      <th></th>\n",
       "      <th></th>\n",
       "    </tr>\n",
       "  </thead>\n",
       "  <tbody>\n",
       "    <tr>\n",
       "      <th>Low-Skilled, Everywhere Else</th>\n",
       "      <td>0.000</td>\n",
       "      <td>0.464</td>\n",
       "      <td>0.014</td>\n",
       "      <td>0.482</td>\n",
       "    </tr>\n",
       "    <tr>\n",
       "      <th>Low-Skilled, Java</th>\n",
       "      <td>0.000</td>\n",
       "      <td>0.496</td>\n",
       "      <td>0.010</td>\n",
       "      <td>0.461</td>\n",
       "    </tr>\n",
       "    <tr>\n",
       "      <th>High-Skilled, Everywhere Else</th>\n",
       "      <td>0.039</td>\n",
       "      <td>0.603</td>\n",
       "      <td>0.045</td>\n",
       "      <td>0.742</td>\n",
       "    </tr>\n",
       "    <tr>\n",
       "      <th>High-Skilled, Java</th>\n",
       "      <td>0.021</td>\n",
       "      <td>0.641</td>\n",
       "      <td>0.030</td>\n",
       "      <td>0.694</td>\n",
       "    </tr>\n",
       "  </tbody>\n",
       "</table>\n",
       "</div>"
      ],
      "text/plain": [
       "                               Migrate  Educate  InterMarket_FamilyMig  Educ_3\n",
       "Parent_State                                                                  \n",
       "Low-Skilled, Everywhere Else     0.000    0.464                  0.014   0.482\n",
       "Low-Skilled, Java                0.000    0.496                  0.010   0.461\n",
       "High-Skilled, Everywhere Else    0.039    0.603                  0.045   0.742\n",
       "High-Skilled, Java               0.021    0.641                  0.030   0.694"
      ]
     },
     "execution_count": 31,
     "metadata": {},
     "output_type": "execute_result"
    }
   ],
   "source": [
    "(Sim_Stats.loc[:,['Migrate','Educate']].round(3).merge(Stats.loc[:,['InterMarket_FamilyMig','Educ_3']].round(3),\n",
    "                                              left_index=True,right_index=True,copy=False)\n",
    "                                       .rename(index=index))"
   ]
  },
  {
   "cell_type": "markdown",
   "metadata": {},
   "source": [
    "#Simulation CCPs\n",
    "\n",
    "#Group the data according to the states and then collapse the data along the desired dimensions.\n",
    "\n",
    "#Calculate the first conditional probability P(Educ={0,1} | Move={0,1}, State=S)\n",
    "Educ_DF = Data_Sim.groupby(['Parent_State','Migrate']).agg({'Educate':'mean'})\n",
    "Educ_DF['No_Educ'] = 1 - Educ_DF.Educate\n",
    "Educ_DF.sort_index(axis=1, ascending=False, inplace=True)\n",
    "\n",
    "#Calculate the second conditional probability P(Move={0,1}|State=S)\n",
    "Mig_DF = Data_Sim.groupby('Parent_State').agg({'Migrate':'mean'})\n",
    "Mig_DF['No_Mig'] = 1 - Mig_DF.Migrate\n",
    "Mig_DF.sort_index(axis=1, ascending=False, inplace=True)\n",
    "\n",
    "#Get the underlying numpy array from the DataFrame, reshape to broadcast multiplication\n",
    "Mig_Prob = Mig_DF.loc[:,['No_Mig','Migrate']].get_values().reshape((8,1))\n",
    "\n",
    "Educ_Prob = Educ_DF.loc[:,['No_Educ','Educate']].get_values()\n",
    "\n",
    "#Create the CCP DataFrame\n",
    "Columns = ['NoEduc_NoMig','Educ_NoMig','NoEduc_Mig','Educ_Mig']\n",
    "\n",
    "Sim_CCPs = pd.DataFrame(np.round(Educ_Prob*Mig_Prob,3).reshape((tot_states,tot_decisions)),columns=Columns)\n",
    "\n",
    "Sim_CCPs"
   ]
  },
  {
   "cell_type": "markdown",
   "metadata": {},
   "source": [
    "Unfortunately, conditional means on the decisions are note well modeled. Will need to work on this"
   ]
  },
  {
   "cell_type": "markdown",
   "metadata": {},
   "source": [
    "### Next Generation States"
   ]
  },
  {
   "cell_type": "markdown",
   "metadata": {},
   "source": [
    "From the simulation"
   ]
  },
  {
   "cell_type": "code",
   "execution_count": 32,
   "metadata": {},
   "outputs": [],
   "source": [
    "Sim_Stats_Child = Data_Sim.groupby('Child_State',as_index=True).agg({'Household':'count'})\n",
    "Sim_Stats_Child['Prop_in_State_Sim'] = Sim_Stats_Child.Household/len(Data_Sim)"
   ]
  },
  {
   "cell_type": "markdown",
   "metadata": {},
   "source": [
    "From the data"
   ]
  },
  {
   "cell_type": "code",
   "execution_count": 33,
   "metadata": {},
   "outputs": [],
   "source": [
    "Data['Child_State'] = Data.apply(lambda row: \n",
    "                                     State_Def(row['MarketCode_Move'],row['Skill_Level_2']), \n",
    "                                     axis=1)\n",
    "\n",
    "Stats_Child = Data.groupby('Child_State').agg({'Household':'count'})\n",
    "Stats_Child['Prop_in_State_Data'] = Stats_Child.Household/len(Data)"
   ]
  },
  {
   "cell_type": "markdown",
   "metadata": {},
   "source": [
    "Merge restuls"
   ]
  },
  {
   "cell_type": "code",
   "execution_count": 34,
   "metadata": {},
   "outputs": [
    {
     "data": {
      "text/html": [
       "<div>\n",
       "<style>\n",
       "    .dataframe thead tr:only-child th {\n",
       "        text-align: right;\n",
       "    }\n",
       "\n",
       "    .dataframe thead th {\n",
       "        text-align: left;\n",
       "    }\n",
       "\n",
       "    .dataframe tbody tr th {\n",
       "        vertical-align: top;\n",
       "    }\n",
       "</style>\n",
       "<table border=\"1\" class=\"dataframe\">\n",
       "  <thead>\n",
       "    <tr style=\"text-align: right;\">\n",
       "      <th></th>\n",
       "      <th>Prop_in_State_Sim</th>\n",
       "      <th>Prop_in_State_Data</th>\n",
       "    </tr>\n",
       "    <tr>\n",
       "      <th>Child_State</th>\n",
       "      <th></th>\n",
       "      <th></th>\n",
       "    </tr>\n",
       "  </thead>\n",
       "  <tbody>\n",
       "    <tr>\n",
       "      <th>Low-Skilled, Everywhere Else</th>\n",
       "      <td>0.221399</td>\n",
       "      <td>0.200823</td>\n",
       "    </tr>\n",
       "    <tr>\n",
       "      <th>Low-Skilled, Java</th>\n",
       "      <td>0.263374</td>\n",
       "      <td>0.272977</td>\n",
       "    </tr>\n",
       "    <tr>\n",
       "      <th>High-Skilled, Everywhere Else</th>\n",
       "      <td>0.213443</td>\n",
       "      <td>0.232099</td>\n",
       "    </tr>\n",
       "    <tr>\n",
       "      <th>High-Skilled, Java</th>\n",
       "      <td>0.301783</td>\n",
       "      <td>0.294102</td>\n",
       "    </tr>\n",
       "  </tbody>\n",
       "</table>\n",
       "</div>"
      ],
      "text/plain": [
       "                               Prop_in_State_Sim  Prop_in_State_Data\n",
       "Child_State                                                         \n",
       "Low-Skilled, Everywhere Else            0.221399            0.200823\n",
       "Low-Skilled, Java                       0.263374            0.272977\n",
       "High-Skilled, Everywhere Else           0.213443            0.232099\n",
       "High-Skilled, Java                      0.301783            0.294102"
      ]
     },
     "execution_count": 34,
     "metadata": {},
     "output_type": "execute_result"
    }
   ],
   "source": [
    "(Sim_Stats_Child.merge(Stats_Child,left_index=True,\n",
    "                       right_index=True,copy=False)\n",
    "                .drop(['Household_x','Household_y'], inplace=False, axis=1)\n",
    "                .rename(index=index))"
   ]
  },
  {
   "cell_type": "markdown",
   "metadata": {},
   "source": [
    "The model does capture the conditional distribution of states of the next generation (the children)"
   ]
  },
  {
   "cell_type": "markdown",
   "metadata": {
    "collapsed": true
   },
   "source": [
    "### Transition from Parent States to Child States\n",
    "\n",
    "#### Flattened Transitions"
   ]
  },
  {
   "cell_type": "markdown",
   "metadata": {},
   "source": [
    "Simulation Results"
   ]
  },
  {
   "cell_type": "code",
   "execution_count": 35,
   "metadata": {},
   "outputs": [],
   "source": [
    "State_Tran_Sim = ( Data_Sim.groupby(['Parent_State','Child_State'],as_index=True)\n",
    "                           .agg({'Household':'count'})\n",
    "                           .rename(index=index) )\n",
    "\n",
    "State_Tran_Sim['Prop_in_State_Sim'] = State_Tran_Sim.Household/len(Data_Sim)"
   ]
  },
  {
   "cell_type": "markdown",
   "metadata": {},
   "source": [
    "Data Results"
   ]
  },
  {
   "cell_type": "code",
   "execution_count": 36,
   "metadata": {},
   "outputs": [],
   "source": [
    "State_Tran_Data = (Data.groupby(['Parent_State','Child_State'],as_index=True)\n",
    "                       .agg({'Household':'count'})\n",
    "                       .rename(index=index) )\n",
    "\n",
    "State_Tran_Data['Prop_in_State_Data'] = State_Tran_Data.Household/len(Data)"
   ]
  },
  {
   "cell_type": "markdown",
   "metadata": {},
   "source": [
    "Merge the results"
   ]
  },
  {
   "cell_type": "code",
   "execution_count": 37,
   "metadata": {},
   "outputs": [
    {
     "data": {
      "text/html": [
       "<div>\n",
       "<style>\n",
       "    .dataframe thead tr:only-child th {\n",
       "        text-align: right;\n",
       "    }\n",
       "\n",
       "    .dataframe thead th {\n",
       "        text-align: left;\n",
       "    }\n",
       "\n",
       "    .dataframe tbody tr th {\n",
       "        vertical-align: top;\n",
       "    }\n",
       "</style>\n",
       "<table border=\"1\" class=\"dataframe\">\n",
       "  <thead>\n",
       "    <tr style=\"text-align: right;\">\n",
       "      <th></th>\n",
       "      <th></th>\n",
       "      <th>Prop_in_State_Sim</th>\n",
       "      <th>Prop_in_State_Data</th>\n",
       "    </tr>\n",
       "    <tr>\n",
       "      <th>Parent_State</th>\n",
       "      <th>Child_State</th>\n",
       "      <th></th>\n",
       "      <th></th>\n",
       "    </tr>\n",
       "  </thead>\n",
       "  <tbody>\n",
       "    <tr>\n",
       "      <th rowspan=\"4\" valign=\"top\">High-Skilled, Everywhere Else</th>\n",
       "      <th>High-Skilled, Everywhere Else</th>\n",
       "      <td>0.053</td>\n",
       "      <td>0.064</td>\n",
       "    </tr>\n",
       "    <tr>\n",
       "      <th>High-Skilled, Java</th>\n",
       "      <td>0.003</td>\n",
       "      <td>0.003</td>\n",
       "    </tr>\n",
       "    <tr>\n",
       "      <th>Low-Skilled, Everywhere Else</th>\n",
       "      <td>0.036</td>\n",
       "      <td>0.022</td>\n",
       "    </tr>\n",
       "    <tr>\n",
       "      <th>Low-Skilled, Java</th>\n",
       "      <td>0.001</td>\n",
       "      <td>0.001</td>\n",
       "    </tr>\n",
       "    <tr>\n",
       "      <th rowspan=\"4\" valign=\"top\">High-Skilled, Java</th>\n",
       "      <th>High-Skilled, Everywhere Else</th>\n",
       "      <td>0.001</td>\n",
       "      <td>0.003</td>\n",
       "    </tr>\n",
       "    <tr>\n",
       "      <th>High-Skilled, Java</th>\n",
       "      <td>0.089</td>\n",
       "      <td>0.094</td>\n",
       "    </tr>\n",
       "    <tr>\n",
       "      <th>Low-Skilled, Everywhere Else</th>\n",
       "      <td>0.002</td>\n",
       "      <td>0.001</td>\n",
       "    </tr>\n",
       "    <tr>\n",
       "      <th>Low-Skilled, Java</th>\n",
       "      <td>0.049</td>\n",
       "      <td>0.041</td>\n",
       "    </tr>\n",
       "    <tr>\n",
       "      <th rowspan=\"4\" valign=\"top\">Low-Skilled, Everywhere Else</th>\n",
       "      <th>High-Skilled, Everywhere Else</th>\n",
       "      <td>0.159</td>\n",
       "      <td>0.163</td>\n",
       "    </tr>\n",
       "    <tr>\n",
       "      <th>High-Skilled, Java</th>\n",
       "      <td>NaN</td>\n",
       "      <td>0.003</td>\n",
       "    </tr>\n",
       "    <tr>\n",
       "      <th>Low-Skilled, Everywhere Else</th>\n",
       "      <td>0.184</td>\n",
       "      <td>0.176</td>\n",
       "    </tr>\n",
       "    <tr>\n",
       "      <th>Low-Skilled, Java</th>\n",
       "      <td>NaN</td>\n",
       "      <td>0.002</td>\n",
       "    </tr>\n",
       "    <tr>\n",
       "      <th rowspan=\"4\" valign=\"top\">Low-Skilled, Java</th>\n",
       "      <th>High-Skilled, Everywhere Else</th>\n",
       "      <td>NaN</td>\n",
       "      <td>0.003</td>\n",
       "    </tr>\n",
       "    <tr>\n",
       "      <th>High-Skilled, Java</th>\n",
       "      <td>0.210</td>\n",
       "      <td>0.194</td>\n",
       "    </tr>\n",
       "    <tr>\n",
       "      <th>Low-Skilled, Everywhere Else</th>\n",
       "      <td>NaN</td>\n",
       "      <td>0.001</td>\n",
       "    </tr>\n",
       "    <tr>\n",
       "      <th>Low-Skilled, Java</th>\n",
       "      <td>0.214</td>\n",
       "      <td>0.229</td>\n",
       "    </tr>\n",
       "  </tbody>\n",
       "</table>\n",
       "</div>"
      ],
      "text/plain": [
       "                                                             Prop_in_State_Sim  \\\n",
       "Parent_State                  Child_State                                        \n",
       "High-Skilled, Everywhere Else High-Skilled, Everywhere Else              0.053   \n",
       "                              High-Skilled, Java                         0.003   \n",
       "                              Low-Skilled, Everywhere Else               0.036   \n",
       "                              Low-Skilled, Java                          0.001   \n",
       "High-Skilled, Java            High-Skilled, Everywhere Else              0.001   \n",
       "                              High-Skilled, Java                         0.089   \n",
       "                              Low-Skilled, Everywhere Else               0.002   \n",
       "                              Low-Skilled, Java                          0.049   \n",
       "Low-Skilled, Everywhere Else  High-Skilled, Everywhere Else              0.159   \n",
       "                              High-Skilled, Java                           NaN   \n",
       "                              Low-Skilled, Everywhere Else               0.184   \n",
       "                              Low-Skilled, Java                            NaN   \n",
       "Low-Skilled, Java             High-Skilled, Everywhere Else                NaN   \n",
       "                              High-Skilled, Java                         0.210   \n",
       "                              Low-Skilled, Everywhere Else                 NaN   \n",
       "                              Low-Skilled, Java                          0.214   \n",
       "\n",
       "                                                             Prop_in_State_Data  \n",
       "Parent_State                  Child_State                                        \n",
       "High-Skilled, Everywhere Else High-Skilled, Everywhere Else               0.064  \n",
       "                              High-Skilled, Java                          0.003  \n",
       "                              Low-Skilled, Everywhere Else                0.022  \n",
       "                              Low-Skilled, Java                           0.001  \n",
       "High-Skilled, Java            High-Skilled, Everywhere Else               0.003  \n",
       "                              High-Skilled, Java                          0.094  \n",
       "                              Low-Skilled, Everywhere Else                0.001  \n",
       "                              Low-Skilled, Java                           0.041  \n",
       "Low-Skilled, Everywhere Else  High-Skilled, Everywhere Else               0.163  \n",
       "                              High-Skilled, Java                          0.003  \n",
       "                              Low-Skilled, Everywhere Else                0.176  \n",
       "                              Low-Skilled, Java                           0.002  \n",
       "Low-Skilled, Java             High-Skilled, Everywhere Else               0.003  \n",
       "                              High-Skilled, Java                          0.194  \n",
       "                              Low-Skilled, Everywhere Else                0.001  \n",
       "                              Low-Skilled, Java                           0.229  "
      ]
     },
     "execution_count": 37,
     "metadata": {},
     "output_type": "execute_result"
    }
   ],
   "source": [
    "(State_Tran_Sim.merge(State_Tran_Data, how='outer', \n",
    "                      left_index=True, right_index=True, copy=False)\n",
    "                .drop(['Household_x','Household_y'], axis=1, inplace=False)).round(3)"
   ]
  },
  {
   "cell_type": "markdown",
   "metadata": {
    "collapsed": true
   },
   "source": [
    "#### Using Pandas Crosstabs\n",
    "Repeat the above exercises but using cross tabs to create a comparison table"
   ]
  },
  {
   "cell_type": "code",
   "execution_count": 38,
   "metadata": {},
   "outputs": [],
   "source": [
    "Data_Cross = pd.crosstab(Data.Parent_State,Data.Child_State,normalize='index').rename(index=index, columns=index)"
   ]
  },
  {
   "cell_type": "code",
   "execution_count": 39,
   "metadata": {},
   "outputs": [],
   "source": [
    "Sim_Cross = pd.crosstab(Data_Sim.Parent_State,Data_Sim.Child_State,normalize='index').rename(index=index, columns=index)"
   ]
  },
  {
   "cell_type": "code",
   "execution_count": 40,
   "metadata": {},
   "outputs": [
    {
     "data": {
      "text/html": [
       "<div>\n",
       "<style>\n",
       "    .dataframe thead tr:only-child th {\n",
       "        text-align: right;\n",
       "    }\n",
       "\n",
       "    .dataframe thead th {\n",
       "        text-align: left;\n",
       "    }\n",
       "\n",
       "    .dataframe tbody tr th {\n",
       "        vertical-align: top;\n",
       "    }\n",
       "</style>\n",
       "<table border=\"1\" class=\"dataframe\">\n",
       "  <thead>\n",
       "    <tr style=\"text-align: right;\">\n",
       "      <th>Child_State</th>\n",
       "      <th>Low-Skilled, Java_Sim</th>\n",
       "      <th>Low-Skilled, Java_Data</th>\n",
       "      <th>Low-Skilled, Everywhere Else_Sim</th>\n",
       "      <th>Low-Skilled, Everywhere Else_Data</th>\n",
       "      <th>High-Skilled, Java_Sim</th>\n",
       "      <th>High-Skilled, Java_Data</th>\n",
       "      <th>High-Skilled, Everywhere Else_Sim</th>\n",
       "      <th>High-Skilled, Everywhere Else_Data</th>\n",
       "    </tr>\n",
       "    <tr>\n",
       "      <th>Parent_State</th>\n",
       "      <th></th>\n",
       "      <th></th>\n",
       "      <th></th>\n",
       "      <th></th>\n",
       "      <th></th>\n",
       "      <th></th>\n",
       "      <th></th>\n",
       "      <th></th>\n",
       "    </tr>\n",
       "  </thead>\n",
       "  <tbody>\n",
       "    <tr>\n",
       "      <th>Low-Skilled, Java</th>\n",
       "      <td>0.504</td>\n",
       "      <td>0.536</td>\n",
       "      <td>0.000</td>\n",
       "      <td>0.003</td>\n",
       "      <td>0.496</td>\n",
       "      <td>0.455</td>\n",
       "      <td>0.000</td>\n",
       "      <td>0.006</td>\n",
       "    </tr>\n",
       "    <tr>\n",
       "      <th>Low-Skilled, Everywhere Else</th>\n",
       "      <td>0.000</td>\n",
       "      <td>0.006</td>\n",
       "      <td>0.536</td>\n",
       "      <td>0.512</td>\n",
       "      <td>0.000</td>\n",
       "      <td>0.008</td>\n",
       "      <td>0.464</td>\n",
       "      <td>0.474</td>\n",
       "    </tr>\n",
       "    <tr>\n",
       "      <th>High-Skilled, Java</th>\n",
       "      <td>0.348</td>\n",
       "      <td>0.296</td>\n",
       "      <td>0.012</td>\n",
       "      <td>0.010</td>\n",
       "      <td>0.631</td>\n",
       "      <td>0.675</td>\n",
       "      <td>0.010</td>\n",
       "      <td>0.020</td>\n",
       "    </tr>\n",
       "    <tr>\n",
       "      <th>High-Skilled, Everywhere Else</th>\n",
       "      <td>0.009</td>\n",
       "      <td>0.009</td>\n",
       "      <td>0.388</td>\n",
       "      <td>0.248</td>\n",
       "      <td>0.030</td>\n",
       "      <td>0.036</td>\n",
       "      <td>0.573</td>\n",
       "      <td>0.706</td>\n",
       "    </tr>\n",
       "  </tbody>\n",
       "</table>\n",
       "</div>"
      ],
      "text/plain": [
       "Child_State                    Low-Skilled, Java_Sim  Low-Skilled, Java_Data  \\\n",
       "Parent_State                                                                   \n",
       "Low-Skilled, Java                              0.504                   0.536   \n",
       "Low-Skilled, Everywhere Else                   0.000                   0.006   \n",
       "High-Skilled, Java                             0.348                   0.296   \n",
       "High-Skilled, Everywhere Else                  0.009                   0.009   \n",
       "\n",
       "Child_State                    Low-Skilled, Everywhere Else_Sim  \\\n",
       "Parent_State                                                      \n",
       "Low-Skilled, Java                                         0.000   \n",
       "Low-Skilled, Everywhere Else                              0.536   \n",
       "High-Skilled, Java                                        0.012   \n",
       "High-Skilled, Everywhere Else                             0.388   \n",
       "\n",
       "Child_State                    Low-Skilled, Everywhere Else_Data  \\\n",
       "Parent_State                                                       \n",
       "Low-Skilled, Java                                          0.003   \n",
       "Low-Skilled, Everywhere Else                               0.512   \n",
       "High-Skilled, Java                                         0.010   \n",
       "High-Skilled, Everywhere Else                              0.248   \n",
       "\n",
       "Child_State                    High-Skilled, Java_Sim  \\\n",
       "Parent_State                                            \n",
       "Low-Skilled, Java                               0.496   \n",
       "Low-Skilled, Everywhere Else                    0.000   \n",
       "High-Skilled, Java                              0.631   \n",
       "High-Skilled, Everywhere Else                   0.030   \n",
       "\n",
       "Child_State                    High-Skilled, Java_Data  \\\n",
       "Parent_State                                             \n",
       "Low-Skilled, Java                                0.455   \n",
       "Low-Skilled, Everywhere Else                     0.008   \n",
       "High-Skilled, Java                               0.675   \n",
       "High-Skilled, Everywhere Else                    0.036   \n",
       "\n",
       "Child_State                    High-Skilled, Everywhere Else_Sim  \\\n",
       "Parent_State                                                       \n",
       "Low-Skilled, Java                                          0.000   \n",
       "Low-Skilled, Everywhere Else                               0.464   \n",
       "High-Skilled, Java                                         0.010   \n",
       "High-Skilled, Everywhere Else                              0.573   \n",
       "\n",
       "Child_State                    High-Skilled, Everywhere Else_Data  \n",
       "Parent_State                                                       \n",
       "Low-Skilled, Java                                           0.006  \n",
       "Low-Skilled, Everywhere Else                                0.474  \n",
       "High-Skilled, Java                                          0.020  \n",
       "High-Skilled, Everywhere Else                               0.706  "
      ]
     },
     "execution_count": 40,
     "metadata": {},
     "output_type": "execute_result"
    }
   ],
   "source": [
    "Uncond_State_Tran = ( Sim_Cross.merge(Data_Cross,left_index=True, right_index=True,suffixes=('_Sim','_Data'))\n",
    "                             .sort_index(axis=1, ascending=False)\n",
    "                             .sort_index(axis=0, ascending=False) ).round(3)\n",
    "del Data_Cross, Sim_Cross\n",
    "\n",
    "Uncond_State_Tran"
   ]
  },
  {
   "cell_type": "markdown",
   "metadata": {},
   "source": [
    "The above DataFrame is the persistency between generations. We see that the model generally does will with the low-skilled cohorts in Generation G (the rows), but does not model well the incentive to invest in education among the high skilled cohorts. "
   ]
  },
  {
   "cell_type": "markdown",
   "metadata": {},
   "source": [
    "# Counterfactuals\n",
    "\n",
    "## Reduction of migration and education cost - Affect channels with \"sudsidies\""
   ]
  },
  {
   "cell_type": "code",
   "execution_count": 41,
   "metadata": {},
   "outputs": [],
   "source": [
    "#Functions for Creating a dummy of parents education into Simulation Datasets\n",
    "\n",
    "def Parent_Educ(State):\n",
    "    \n",
    "    if State==1 or State==2:\n",
    "        Parent_Educ = 0\n",
    "    else: Parent_Educ = 1\n",
    "        \n",
    "    return Parent_Educ\n",
    "\n",
    "def Parent_Location(State):\n",
    "    \n",
    "    if State==1 or State==3: Location = 'Elsewhere'\n",
    "    else: Location = 'Jawa'\n",
    "        \n",
    "    return Location\n",
    "\n",
    "\n",
    "def Add_Info(In_Data):\n",
    "\n",
    "    In_Data['Parent_Educ'] = In_Data.apply(lambda row: \n",
    "                                         Parent_Educ(row['Parent_State']), \n",
    "                                         axis=1)\n",
    "    In_Data['Parent_Loc'] = In_Data.apply(lambda row: \n",
    "                                         Parent_Location(row['Parent_State']), \n",
    "                                         axis=1)\n",
    "    \n",
    "    return(In_Data)"
   ]
  },
  {
   "cell_type": "code",
   "execution_count": 42,
   "metadata": {},
   "outputs": [],
   "source": [
    "#Function creating Statistics Datasets\n",
    "\n",
    "def Stats_Datasets(In_Data):\n",
    "    \n",
    "    function = {'Household':'count','Migrate':'mean', 'Educate':'mean'}\n",
    "    \n",
    "    #Create the proportions datasets \n",
    "    Prop_Stats = In_Data.groupby(['Parent_State','Child_State'],as_index=True).agg({'Household':'count'})\n",
    "    Prop_Stats['Prop_in_State_Sim'] = (Prop_Stats.Household/len(In_Data)).round(3)\n",
    "    \n",
    "    Rates_Stats = In_Data.groupby('Parent_State',as_index=True).agg(function)\n",
    "    Rates_Stats = Rates_Stats.loc[:,['Migrate','Educate']].round(3)\n",
    "    \n",
    "    return(Prop_Stats,Rates_Stats)\n",
    "    "
   ]
  },
  {
   "cell_type": "code",
   "execution_count": 43,
   "metadata": {},
   "outputs": [],
   "source": [
    "#Function generating OLS regressions of the intergenerational transition matrix (persistency between generation states)\n",
    "\n",
    "def Intergen_Mobil(In_Data):\n",
    "    \n",
    "    Mobility = ( sm.ols(formula=\"Educate ~ Parent_Educ\", data=In_Data)\n",
    "                   .fit(cov_type='cluster', cov_kwds={'groups': In_Data['Parent_Loc']}, use_t=True) )\n",
    "    \n",
    "    return Mobility\n",
    "    "
   ]
  },
  {
   "cell_type": "code",
   "execution_count": 44,
   "metadata": {},
   "outputs": [
    {
     "name": "stderr",
     "output_type": "stream",
     "text": [
      "/usr/local/lib/python3.6/site-packages/statsmodels/compat/pandas.py:56: FutureWarning: The pandas.core.datetools module is deprecated and will be removed in a future version. Please use the pandas.tseries module instead.\n",
      "  from pandas.core import datetools\n"
     ]
    }
   ],
   "source": [
    "Mig_Datasets = {}\n",
    "Mig_Prop_Datasets = {}\n",
    "Mig_Rates_Datasets = {}\n",
    "Mig_Educ_Mobility = {}\n",
    "\n",
    "subsidy_mig = [0.3,0.2,0.1,0]\n",
    "\n",
    "Educ_Datasets = {}\n",
    "Educ_Prop_Datasets = {}\n",
    "Educ_Rates_Datasets = {}\n",
    "Educ_Educ_Mobility = {}\n",
    "\n",
    "subsidy_educ = [0.75,0.5,0.25,0]\n",
    "\n",
    "for reduct in subsidy_mig:\n",
    "    \n",
    "    Params = Param_Final.x.copy()\n",
    "\n",
    "    Params[0] = Params[0]*reduct\n",
    "    \n",
    "    Counter_CCPs = CCP(Params)\n",
    "    \n",
    "    #Create Raw simulation datasets\n",
    "    Sim_Counter = np.zeros((HH,4), dtype='uint16')\n",
    "    \n",
    "    Sim_Model_CCP(Counter_CCPs,tran_func,Sim_Counter,init_states)\n",
    "    \n",
    "    Sim_Counter = (pd.DataFrame(Sim_Counter, columns=['Parent_State','Migrate','Educate','Child_State'])\n",
    "                  .reset_index()\n",
    "                  .rename(columns={'index':'Household'}) )\n",
    "    \n",
    "    #Save\n",
    "    Mig_Datasets[reduct] = Add_Info(Sim_Counter)\n",
    "    \n",
    "    #Stats Data\n",
    "    Mig_Prop_Datasets[reduct], Mig_Rates_Datasets[reduct] = Stats_Datasets(Sim_Counter)\n",
    "    \n",
    "    #Run OLS Regressions and grab the paramater values\n",
    "    Mig_Educ_Mobility[reduct] = Intergen_Mobil(Mig_Datasets[reduct])\n",
    "\n",
    "for reduct in subsidy_educ:\n",
    "    \n",
    "    Params = Param_Final.x.copy()\n",
    "\n",
    "    Params[1:3] = Params[1:3]*reduct\n",
    "    \n",
    "    Counter_CCPs = CCP(Params)\n",
    "    \n",
    "    #Create Raw simulation datasets\n",
    "    Sim_Counter = np.zeros((HH,4), dtype='uint16')\n",
    "    \n",
    "    Sim_Model_CCP(Counter_CCPs,tran_func,Sim_Counter,init_states)\n",
    "    \n",
    "    Sim_Counter = (pd.DataFrame(Sim_Counter, columns=['Parent_State','Migrate','Educate','Child_State'])\n",
    "                  .reset_index()\n",
    "                  .rename(columns={'index':'Household'}) )\n",
    "    \n",
    "    #Save\n",
    "    Educ_Datasets[reduct] = Add_Info(Sim_Counter)\n",
    "    \n",
    "    #Stats Data\n",
    "    Educ_Prop_Datasets[reduct], Educ_Rates_Datasets[reduct] = Stats_Datasets(Sim_Counter)\n",
    "    \n",
    "    #Run OLS Regressions and grab the paramater values\n",
    "    Educ_Educ_Mobility[reduct] = Intergen_Mobil(Educ_Datasets[reduct])"
   ]
  },
  {
   "cell_type": "code",
   "execution_count": 45,
   "metadata": {},
   "outputs": [],
   "source": [
    "# Add the parental and child info based on states back into the dataset\n",
    "\n",
    "Data_Sim = Add_Info(Data_Sim)"
   ]
  },
  {
   "cell_type": "code",
   "execution_count": 46,
   "metadata": {},
   "outputs": [],
   "source": [
    "Mobility_Base_line = (sm.ols(formula=\"Educate ~ Parent_Educ\", data=Data_Sim)\n",
    "                             .fit(cov_type='cluster', cov_kwds={'groups': Data_Sim['Parent_Loc']}, use_t=True)) "
   ]
  },
  {
   "cell_type": "code",
   "execution_count": 47,
   "metadata": {},
   "outputs": [],
   "source": [
    "test_1 = summary_col([Mobility_Base_line]+ \\\n",
    "                     [v for k,v in Mig_Educ_Mobility.items()]+ \\\n",
    "                     [v for k,v in Educ_Educ_Mobility.items()],stars=False,float_format='%0.3f')\n"
   ]
  },
  {
   "cell_type": "code",
   "execution_count": 48,
   "metadata": {
    "scrolled": true
   },
   "outputs": [
    {
     "data": {
      "text/html": [
       "<table class=\"simpletable\">\n",
       "<tr>\n",
       "       <td></td>       <th>Educate I</th> <th>Educate II</th> <th>Educate III</th> <th>Educate IIII</th> <th>Educate IIIII</th> <th>Educate IIIIII</th> <th>Educate IIIIIII</th> <th>Educate IIIIIIII</th> <th>Educate IIIIIIIII</th>\n",
       "</tr>\n",
       "<tr>\n",
       "  <th>Intercept</th>     <td>0.482</td>      <td>0.469</td>      <td>0.474</td>        <td>0.517</td>        <td>0.543</td>          <td>0.568</td>          <td>0.611</td>            <td>0.637</td>            <td>0.702</td>      \n",
       "</tr>\n",
       "<tr>\n",
       "  <th></th>             <td>(0.016)</td>    <td>(0.007)</td>    <td>(0.014)</td>      <td>(0.005)</td>      <td>(0.003)</td>        <td>(0.004)</td>        <td>(0.015)</td>          <td>(0.008)</td>          <td>(0.001)</td>     \n",
       "</tr>\n",
       "<tr>\n",
       "  <th>Parent_Educ</th>   <td>0.144</td>      <td>0.203</td>      <td>0.196</td>        <td>0.156</td>        <td>0.158</td>          <td>0.071</td>          <td>0.077</td>            <td>0.063</td>            <td>0.006</td>      \n",
       "</tr>\n",
       "<tr>\n",
       "  <th></th>             <td>(0.002)</td>    <td>(0.007)</td>    <td>(0.015)</td>      <td>(0.000)</td>      <td>(0.014)</td>        <td>(0.010)</td>        <td>(0.007)</td>          <td>(0.015)</td>          <td>(0.012)</td>     \n",
       "</tr>\n",
       "</table>"
      ],
      "text/plain": [
       "<class 'statsmodels.iolib.summary2.Summary'>\n",
       "\"\"\"\n",
       "\n",
       "=========================================================================================================================================\n",
       "            Educate I Educate II Educate III Educate IIII Educate IIIII Educate IIIIII Educate IIIIIII Educate IIIIIIII Educate IIIIIIIII\n",
       "-----------------------------------------------------------------------------------------------------------------------------------------\n",
       "Intercept   0.482     0.469      0.474       0.517        0.543         0.568          0.611           0.637            0.702            \n",
       "            (0.016)   (0.007)    (0.014)     (0.005)      (0.003)       (0.004)        (0.015)         (0.008)          (0.001)          \n",
       "Parent_Educ 0.144     0.203      0.196       0.156        0.158         0.071          0.077           0.063            0.006            \n",
       "            (0.002)   (0.007)    (0.015)     (0.000)      (0.014)       (0.010)        (0.007)         (0.015)          (0.012)          \n",
       "=========================================================================================================================================\n",
       "Standard errors in parentheses.\n",
       "\"\"\""
      ]
     },
     "execution_count": 48,
     "metadata": {},
     "output_type": "execute_result"
    }
   ],
   "source": [
    "test_1"
   ]
  },
  {
   "cell_type": "code",
   "execution_count": 49,
   "metadata": {},
   "outputs": [
    {
     "data": {
      "text/html": [
       "<div>\n",
       "<style>\n",
       "    .dataframe thead tr:only-child th {\n",
       "        text-align: right;\n",
       "    }\n",
       "\n",
       "    .dataframe thead th {\n",
       "        text-align: left;\n",
       "    }\n",
       "\n",
       "    .dataframe tbody tr th {\n",
       "        vertical-align: top;\n",
       "    }\n",
       "</style>\n",
       "<table border=\"1\" class=\"dataframe\">\n",
       "  <thead>\n",
       "    <tr style=\"text-align: right;\">\n",
       "      <th></th>\n",
       "      <th>Parent_Educ</th>\n",
       "      <th>Educate</th>\n",
       "    </tr>\n",
       "  </thead>\n",
       "  <tbody>\n",
       "    <tr>\n",
       "      <th>Parent_Educ</th>\n",
       "      <td>1.000000</td>\n",
       "      <td>0.005932</td>\n",
       "    </tr>\n",
       "    <tr>\n",
       "      <th>Educate</th>\n",
       "      <td>0.005932</td>\n",
       "      <td>1.000000</td>\n",
       "    </tr>\n",
       "  </tbody>\n",
       "</table>\n",
       "</div>"
      ],
      "text/plain": [
       "             Parent_Educ   Educate\n",
       "Parent_Educ     1.000000  0.005932\n",
       "Educate         0.005932  1.000000"
      ]
     },
     "execution_count": 49,
     "metadata": {},
     "output_type": "execute_result"
    }
   ],
   "source": [
    "# Run the overall intergenerational correlations from the various datasets\n",
    "\n",
    "Educ_Datasets[0][['Parent_Educ','Educate']].corr()"
   ]
  }
 ],
 "metadata": {
  "kernelspec": {
   "display_name": "Python 3",
   "language": "python",
   "name": "python3"
  },
  "language_info": {
   "codemirror_mode": {
    "name": "ipython",
    "version": 3
   },
   "file_extension": ".py",
   "mimetype": "text/x-python",
   "name": "python",
   "nbconvert_exporter": "python",
   "pygments_lexer": "ipython3",
   "version": "3.6.0"
  }
 },
 "nbformat": 4,
 "nbformat_minor": 2
}
