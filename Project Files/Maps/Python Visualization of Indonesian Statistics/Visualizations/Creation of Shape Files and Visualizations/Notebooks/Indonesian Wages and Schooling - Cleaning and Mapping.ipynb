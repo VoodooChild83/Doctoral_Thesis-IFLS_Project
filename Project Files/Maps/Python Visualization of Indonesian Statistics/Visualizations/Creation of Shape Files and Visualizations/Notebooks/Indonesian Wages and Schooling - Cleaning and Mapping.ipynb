{
 "cells": [
  {
   "cell_type": "code",
   "execution_count": 2,
   "metadata": {
    "collapsed": false
   },
   "outputs": [],
   "source": [
    "import geopandas as gpd\n",
    "from geopandas import *\n",
    "import matplotlib.pyplot as plt\n",
    "import pandas as pd"
   ]
  },
  {
   "cell_type": "markdown",
   "metadata": {},
   "source": [
    "# Read in the Data Frame from Stata files and Clean the Dataframes"
   ]
  },
  {
   "cell_type": "code",
   "execution_count": 3,
   "metadata": {
    "collapsed": true
   },
   "outputs": [],
   "source": [
    "#IPUMS Wage data\n",
    "Path_IPUMS = (\"/Users/idiosyncrasy58/Dropbox/Documents/College/\"+\n",
    "              \"Universitat Autonoma de Barcelona/IDEA - Economics/\"+\n",
    "              \"Doctoral Thesis Ideas/Migration/IFLS/Project Files/\"+\n",
    "              \"IPUMS/Project Files/Census Wage Data.dta\")\n",
    "\n",
    "#IFLS Wage and Schooling data by Province\n",
    "Path_IFLS = (\"/Users/idiosyncrasy58/Dropbox/Documents/College/\"+\n",
    "             \"Universitat Autonoma de Barcelona/IDEA - Economics/\"+\n",
    "             \"Doctoral Thesis Ideas/Migration/IFLS/Project Files/\")\n",
    "\n",
    "#Master Path\n",
    "Master_path = ('/Users/idiosyncrasy58/Dropbox/Documents/College/'+\n",
    "               'Universitat Autonoma de Barcelona/IDEA - Economics/'+\n",
    "               'Programming/Coursera Courses/Python/Python for Everybody/'+\n",
    "               'Course 5 - Capstone/Capstone Project/Visualizations/'+\n",
    "               'Creation of Shape Files/' )"
   ]
  },
  {
   "cell_type": "markdown",
   "metadata": {},
   "source": [
    "### IPUMS"
   ]
  },
  {
   "cell_type": "code",
   "execution_count": 4,
   "metadata": {
    "collapsed": false
   },
   "outputs": [],
   "source": [
    "#Read in the Data frame from Stata and clean: IPUMS Census Data\n",
    "\n",
    "cols_keep = [\"year\", \"r_wage_hr\", \"kabmov\", \"provmov\", \"MaxSchYrs\", \"perwt\"]\n",
    "\n",
    "Census_Data = ( pd.read_stata(Path_IPUMS, convert_categoricals=False)[cols_keep] \n",
    "                  .rename(columns={'provmov':'Prov Code','kabmov':'Kab Code'})\n",
    "                  .reset_index()\n",
    "                  .rename(columns={'index':'serial'}) )\n",
    "\n",
    "#Drop if year is not 1995\n",
    "Census_Data = Census_Data.loc[Census_Data[\"year\"]!=1976]\n",
    "\n",
    "#Recatogorize MaxSchYrs to 13 if it is greater than 12 years (at least some college)\n",
    "Census_Data.ix[Census_Data[\"MaxSchYrs\"]>12.0,\"MaxSchYrs\"]=13.0\n",
    "\n",
    "#Change Kab Code to remove the province number that preceeds the Kab Code\n",
    "Census_Data[\"Kab Code\"] = ( (Census_Data[\"Kab Code\"]/100)\n",
    "                            .astype(str)\n",
    "                            .str.extract('\\.(\\d*)',expand=False)\n",
    "                            .astype('int8') )"
   ]
  },
  {
   "cell_type": "code",
   "execution_count": 5,
   "metadata": {
    "collapsed": false
   },
   "outputs": [
    {
     "data": {
      "text/html": [
       "<div>\n",
       "<table border=\"1\" class=\"dataframe\">\n",
       "  <thead>\n",
       "    <tr style=\"text-align: right;\">\n",
       "      <th></th>\n",
       "      <th>serial</th>\n",
       "      <th>year</th>\n",
       "      <th>r_wage_hr</th>\n",
       "      <th>Kab Code</th>\n",
       "      <th>Prov Code</th>\n",
       "      <th>MaxSchYrs</th>\n",
       "      <th>perwt</th>\n",
       "    </tr>\n",
       "  </thead>\n",
       "  <tbody>\n",
       "    <tr>\n",
       "      <th>31211</th>\n",
       "      <td>31211</td>\n",
       "      <td>1995</td>\n",
       "      <td>3.586087</td>\n",
       "      <td>13</td>\n",
       "      <td>54</td>\n",
       "      <td>6.0</td>\n",
       "      <td>30.0</td>\n",
       "    </tr>\n",
       "    <tr>\n",
       "      <th>31212</th>\n",
       "      <td>31212</td>\n",
       "      <td>1995</td>\n",
       "      <td>5.708466</td>\n",
       "      <td>13</td>\n",
       "      <td>54</td>\n",
       "      <td>12.0</td>\n",
       "      <td>30.0</td>\n",
       "    </tr>\n",
       "    <tr>\n",
       "      <th>31213</th>\n",
       "      <td>31213</td>\n",
       "      <td>1995</td>\n",
       "      <td>7.152790</td>\n",
       "      <td>13</td>\n",
       "      <td>54</td>\n",
       "      <td>12.0</td>\n",
       "      <td>30.0</td>\n",
       "    </tr>\n",
       "    <tr>\n",
       "      <th>31214</th>\n",
       "      <td>31214</td>\n",
       "      <td>1995</td>\n",
       "      <td>6.895257</td>\n",
       "      <td>13</td>\n",
       "      <td>54</td>\n",
       "      <td>6.0</td>\n",
       "      <td>30.0</td>\n",
       "    </tr>\n",
       "    <tr>\n",
       "      <th>31215</th>\n",
       "      <td>31215</td>\n",
       "      <td>1995</td>\n",
       "      <td>3.824791</td>\n",
       "      <td>13</td>\n",
       "      <td>54</td>\n",
       "      <td>6.0</td>\n",
       "      <td>30.0</td>\n",
       "    </tr>\n",
       "  </tbody>\n",
       "</table>\n",
       "</div>"
      ],
      "text/plain": [
       "       serial  year  r_wage_hr  Kab Code  Prov Code  MaxSchYrs  perwt\n",
       "31211   31211  1995   3.586087        13         54        6.0   30.0\n",
       "31212   31212  1995   5.708466        13         54       12.0   30.0\n",
       "31213   31213  1995   7.152790        13         54       12.0   30.0\n",
       "31214   31214  1995   6.895257        13         54        6.0   30.0\n",
       "31215   31215  1995   3.824791        13         54        6.0   30.0"
      ]
     },
     "execution_count": 5,
     "metadata": {},
     "output_type": "execute_result"
    }
   ],
   "source": [
    "Census_Data.head()"
   ]
  },
  {
   "cell_type": "markdown",
   "metadata": {},
   "source": [
    "### IFLS\n",
    "\n",
    "#### Tracker File of individuals"
   ]
  },
  {
   "cell_type": "code",
   "execution_count": 6,
   "metadata": {
    "collapsed": false
   },
   "outputs": [],
   "source": [
    "cols_keep = [\"wave\", \"pwt\", \"pidlink2\", \"provmov\", \"kabmov\",\"MaxSchYrs\", \"flag_LastWave\", \"flag_OutSch\", \"flag_NotInSch\"]\n",
    "col_rename = {'wave':'year','pwt':'perwt','pidlink2':'serial','provmov':'Prov Code','kabmov':'Kab Code'}\n",
    "\n",
    "Tracker = ( pd.read_stata(Path_IFLS+\"MasterTrack2.dta\", convert_categoricals=False)[cols_keep]\n",
    "              .rename(columns=col_rename) )\n",
    "\n",
    "#Keep only those people that have completed school or never went to school\n",
    "Tracker = Tracker.loc[(Tracker[\"flag_LastWave\"]==1) &\n",
    "                      ((Tracker[\"flag_OutSch\"]==1) | (Tracker[\"flag_NotInSch\"]==1))]\n",
    "\n",
    "#Drop the flag variables \n",
    "Tracker.drop([\"flag_LastWave\", \"flag_OutSch\", \"flag_NotInSch\"], axis=1, inplace=True)\n",
    "\n",
    "#Replace several columns as an int and not as a double\n",
    "Tracker[[\"serial\",\"Prov Code\",\"Kab Code\"]] = Tracker[[\"serial\",\"Prov Code\",\"Kab Code\"]].astype(int, copy=False)"
   ]
  },
  {
   "cell_type": "code",
   "execution_count": 7,
   "metadata": {
    "collapsed": false
   },
   "outputs": [
    {
     "data": {
      "text/html": [
       "<div>\n",
       "<table border=\"1\" class=\"dataframe\">\n",
       "  <thead>\n",
       "    <tr style=\"text-align: right;\">\n",
       "      <th></th>\n",
       "      <th>year</th>\n",
       "      <th>perwt</th>\n",
       "      <th>serial</th>\n",
       "      <th>Prov Code</th>\n",
       "      <th>Kab Code</th>\n",
       "      <th>MaxSchYrs</th>\n",
       "    </tr>\n",
       "  </thead>\n",
       "  <tbody>\n",
       "    <tr>\n",
       "      <th>1</th>\n",
       "      <td>1997</td>\n",
       "      <td>1.388606</td>\n",
       "      <td>1060001</td>\n",
       "      <td>12</td>\n",
       "      <td>1</td>\n",
       "      <td>4.0</td>\n",
       "    </tr>\n",
       "    <tr>\n",
       "      <th>5</th>\n",
       "      <td>1993</td>\n",
       "      <td>1.218788</td>\n",
       "      <td>1060002</td>\n",
       "      <td>12</td>\n",
       "      <td>1</td>\n",
       "      <td>0.0</td>\n",
       "    </tr>\n",
       "    <tr>\n",
       "      <th>11</th>\n",
       "      <td>1997</td>\n",
       "      <td>2.172256</td>\n",
       "      <td>1060003</td>\n",
       "      <td>12</td>\n",
       "      <td>1</td>\n",
       "      <td>1.0</td>\n",
       "    </tr>\n",
       "    <tr>\n",
       "      <th>25</th>\n",
       "      <td>1993</td>\n",
       "      <td>0.931917</td>\n",
       "      <td>1060006</td>\n",
       "      <td>12</td>\n",
       "      <td>1</td>\n",
       "      <td>0.0</td>\n",
       "    </tr>\n",
       "    <tr>\n",
       "      <th>31</th>\n",
       "      <td>1997</td>\n",
       "      <td>1.222655</td>\n",
       "      <td>1080001</td>\n",
       "      <td>12</td>\n",
       "      <td>1</td>\n",
       "      <td>4.0</td>\n",
       "    </tr>\n",
       "  </tbody>\n",
       "</table>\n",
       "</div>"
      ],
      "text/plain": [
       "    year     perwt   serial  Prov Code  Kab Code  MaxSchYrs\n",
       "1   1997  1.388606  1060001         12         1        4.0\n",
       "5   1993  1.218788  1060002         12         1        0.0\n",
       "11  1997  2.172256  1060003         12         1        1.0\n",
       "25  1993  0.931917  1060006         12         1        0.0\n",
       "31  1997  1.222655  1080001         12         1        4.0"
      ]
     },
     "execution_count": 7,
     "metadata": {},
     "output_type": "execute_result"
    }
   ],
   "source": [
    "Tracker.head()"
   ]
  },
  {
   "cell_type": "markdown",
   "metadata": {},
   "source": [
    "#### Wages of Individuals"
   ]
  },
  {
   "cell_type": "code",
   "execution_count": 8,
   "metadata": {
    "collapsed": false
   },
   "outputs": [],
   "source": [
    "cols_keep = [\"year\", \"pidlink2\", \"r_wage_hr\",\"job\"]\n",
    "col_rename = {'pidlink2':'serial'}\n",
    "\n",
    "Wages = ( pd.read_stata(Path_IFLS+\"Temp Files/Wage Database1.dta\", convert_categoricals=False)[cols_keep]\n",
    "            .rename(columns=col_rename) )\n",
    "\n",
    "#Drop serial that has NaN\n",
    "Wages = Wages[np.isfinite(Wages['serial'])]\n",
    "\n",
    "#Replace serial as an int and not a double\n",
    "Wages[\"serial\"] = Wages[\"serial\"].astype(int,copy=False)\n",
    "\n",
    "#drop if job==2\n",
    "Wages = Wages.loc[Wages[\"job\"]!=2]\n",
    "Wages.drop(\"job\",axis=1, inplace=True)"
   ]
  },
  {
   "cell_type": "markdown",
   "metadata": {},
   "source": [
    "##### Clean the Wages\n",
    "\n",
    "First, make sure that we have only one yearly observation per person (so get the mean across year-persons)"
   ]
  },
  {
   "cell_type": "code",
   "execution_count": 9,
   "metadata": {
    "collapsed": false
   },
   "outputs": [],
   "source": [
    "Wages = Wages.groupby([\"serial\",\"year\"],as_index=False)[\"r_wage_hr\"].mean()"
   ]
  },
  {
   "cell_type": "markdown",
   "metadata": {},
   "source": [
    "Now find those people whose last observation doesn't have a wage in it. We will fill it in with a collapse by the last observed wage and place it in the last observed year. Those who already have a wage in their last observed year keep that wage (the proceeding code is a way to create dummy variables based on logical conditions)."
   ]
  },
  {
   "cell_type": "code",
   "execution_count": 10,
   "metadata": {
    "collapsed": true
   },
   "outputs": [],
   "source": [
    "Wages['flag_LastObs'] = (Wages.serial != Wages.serial.shift(-1)).astype(int)\n",
    "Wages['flag_miss_LastWage'] = ((Wages.flag_LastObs==1) & (np.isnan(Wages['r_wage_hr']))).astype(int)"
   ]
  },
  {
   "cell_type": "markdown",
   "metadata": {},
   "source": [
    "Now we will keep in a new dataframe all those people who had a missing value in the position of where their last observation is and use the merge (a m:1 merge) as a trick to identify all their rows. We will then collapse after a groupby to have their last year observed filled in by a wage if they had a wage in the preceeding year(s)."
   ]
  },
  {
   "cell_type": "code",
   "execution_count": 11,
   "metadata": {
    "collapsed": false
   },
   "outputs": [],
   "source": [
    "Wages_Missing = Wages.ix[Wages[\"flag_miss_LastWage\"]==1,[\"serial\",\"flag_miss_LastWage\"]]\n",
    "\n",
    "#Drop flags from main dataframe\n",
    "Wages.drop([\"flag_miss_LastWage\",'flag_LastObs'],axis=1,inplace=True)\n",
    "\n",
    "#Find all rows of those who have missing wages in their last observed survey year\n",
    "Wages_Missing = ( Wages.merge(Wages_Missing,how='inner',on=\"serial\")\n",
    "                       .groupby(\"serial\", as_index=False)\n",
    "                       .last()\n",
    "                       .drop(\"flag_miss_LastWage\",axis=1, inplace=False) )"
   ]
  },
  {
   "cell_type": "code",
   "execution_count": 12,
   "metadata": {
    "collapsed": false
   },
   "outputs": [],
   "source": [
    "#Replace the years of last observations to get only the wave years\n",
    "Wages_Missing.ix[Wages_Missing[\"year\"]==1992,\"year\"]=1993\n",
    "Wages_Missing.ix[(Wages_Missing[\"year\"]==1996)|(Wages_Missing[\"year\"]==1995),\"year\"]=1997\n",
    "Wages_Missing.ix[Wages_Missing[\"year\"]==1999,\"year\"]=2000\n",
    "Wages_Missing.ix[(Wages_Missing[\"year\"]==2006)|(Wages_Missing[\"year\"]==2008),\"year\"]=2007\n",
    "\n",
    "#Drop NaN values in wages (no need to keep these people)\n",
    "Wages_Missing.dropna(inplace=True)"
   ]
  },
  {
   "cell_type": "markdown",
   "metadata": {},
   "source": [
    "Now we will update the Wages dataframe with the nonmissing values from the Wages_Missing dataframe. First we must set as the index the year and the serial number, otherwise the update process will be done on the index value (which, as we know, are just the integer values 0-len(dataframe)). So we will have some people's data update other's data based not on serial number, but rather on index value."
   ]
  },
  {
   "cell_type": "code",
   "execution_count": 13,
   "metadata": {
    "collapsed": false
   },
   "outputs": [],
   "source": [
    "Wages.set_index([\"serial\",\"year\"],inplace=True)\n",
    "Wages_Missing.set_index([\"serial\",\"year\"],inplace=True)"
   ]
  },
  {
   "cell_type": "code",
   "execution_count": 14,
   "metadata": {
    "collapsed": false
   },
   "outputs": [],
   "source": [
    "Wages.update(Wages_Missing)\n",
    "del Wages_Missing"
   ]
  },
  {
   "cell_type": "markdown",
   "metadata": {},
   "source": [
    "#### Merge Wages into Tracker File"
   ]
  },
  {
   "cell_type": "code",
   "execution_count": 15,
   "metadata": {
    "collapsed": false
   },
   "outputs": [],
   "source": [
    "Tracker = (Tracker.set_index([\"serial\",\"year\"],inplace=False)\n",
    "                  .merge(Wages, how='left',left_index=True,right_index=True,copy=False))"
   ]
  },
  {
   "cell_type": "markdown",
   "metadata": {},
   "source": [
    "Read in the IFLS East wage data set to update values in Tracker data"
   ]
  },
  {
   "cell_type": "code",
   "execution_count": 16,
   "metadata": {
    "collapsed": false
   },
   "outputs": [],
   "source": [
    "cols_keep = cols_keep[0:3]\n",
    "\n",
    "Wages_2012 = ( pd.read_stata(Path_IFLS+\"Temp Files/2012 Wage Current.dta\")[cols_keep]\n",
    "                .rename(columns=col_rename))\n",
    "\n",
    "Wages_2012[[\"serial\",\"year\"]] = Wages_2012[[\"serial\",\"year\"]].astype(int,copy=False)\n",
    "\n",
    "Wages_2012.set_index([\"serial\",\"year\"],inplace=True)"
   ]
  },
  {
   "cell_type": "markdown",
   "metadata": {},
   "source": [
    "Update the Tracker data"
   ]
  },
  {
   "cell_type": "code",
   "execution_count": 17,
   "metadata": {
    "collapsed": false
   },
   "outputs": [],
   "source": [
    "Tracker.update(Wages_2012)\n",
    "del Wages_2012"
   ]
  },
  {
   "cell_type": "markdown",
   "metadata": {},
   "source": [
    "#### Append IPUMS File\n",
    "\n",
    "Append the IPUMS file and then generate the log hourly wages (erasing the real wages)"
   ]
  },
  {
   "cell_type": "code",
   "execution_count": 18,
   "metadata": {
    "collapsed": true
   },
   "outputs": [],
   "source": [
    "Tracker = Tracker.reset_index().append(Census_Data,ignore_index=True)"
   ]
  },
  {
   "cell_type": "code",
   "execution_count": 19,
   "metadata": {
    "collapsed": false
   },
   "outputs": [
    {
     "name": "stderr",
     "output_type": "stream",
     "text": [
      "/usr/local/lib/python3.5/site-packages/ipykernel/__main__.py:1: RuntimeWarning: divide by zero encountered in log\n",
      "  if __name__ == '__main__':\n"
     ]
    }
   ],
   "source": [
    "Tracker[\"ln_wage_hr\"]=np.log(Tracker[\"r_wage_hr\"])\n",
    "Tracker.drop(\"r_wage_hr\",axis=1,inplace=True)"
   ]
  },
  {
   "cell_type": "markdown",
   "metadata": {},
   "source": [
    "Correct the provinces that split after 1993"
   ]
  },
  {
   "cell_type": "code",
   "execution_count": 20,
   "metadata": {
    "collapsed": true
   },
   "outputs": [],
   "source": [
    "Tracker.ix[Tracker[\"Prov Code\"]==94,\"Prov Code\"]=91\n",
    "Tracker.ix[Tracker[\"Prov Code\"]==82,\"Prov Code\"]=81\n",
    "Tracker.ix[Tracker[\"Prov Code\"]==76,\"Prov Code\"]=73\n",
    "Tracker.ix[Tracker[\"Prov Code\"]==36,\"Prov Code\"]=32\n",
    "\n",
    "Tracker = Tracker.loc[Tracker[\"Prov Code\"]!=54]"
   ]
  },
  {
   "cell_type": "markdown",
   "metadata": {},
   "source": [
    "# Generate the Provincial Median Wages and the Average Schooling Years\n",
    "\n",
    "### Provincial Median Wages and Average Schooling"
   ]
  },
  {
   "cell_type": "code",
   "execution_count": 25,
   "metadata": {
    "collapsed": false
   },
   "outputs": [],
   "source": [
    "#Lambda function for weighted average of schooling years \n",
    "#wm = lambda x: np.average(x, weights=Tracker.loc[x.index,\"perwt\"])\n",
    "\n",
    "#Define dictionary with functions to apply\n",
    "function = {'MaxSchYrs':'mean','ln_wage_hr':'median'}\n",
    "\n",
    "Avg_Prov = Tracker.groupby(\"Prov Code\", as_index=False)[[\"MaxSchYrs\",\"ln_wage_hr\"]].agg(function)"
   ]
  },
  {
   "cell_type": "code",
   "execution_count": 26,
   "metadata": {
    "collapsed": false
   },
   "outputs": [],
   "source": [
    "Avg_Prov[\"r_wage_hr\"]=np.exp(Avg_Prov[\"ln_wage_hr\"])"
   ]
  },
  {
   "cell_type": "markdown",
   "metadata": {},
   "source": [
    "# Import Shape Files"
   ]
  },
  {
   "cell_type": "code",
   "execution_count": 28,
   "metadata": {
    "collapsed": false
   },
   "outputs": [],
   "source": [
    "Ind_Prov = GeoDataFrame.from_file(Master_path+\"Shape Files with Indonesian BPS Codes/Prov_merge/Prov_merge.shp\")"
   ]
  },
  {
   "cell_type": "markdown",
   "metadata": {},
   "source": [
    "### Merge in the statistical information into the Geopandas Dataframes"
   ]
  },
  {
   "cell_type": "code",
   "execution_count": 29,
   "metadata": {
    "collapsed": true
   },
   "outputs": [],
   "source": [
    "Ind_Prov = Ind_Prov.merge(Avg_Prov, how='left', left_on=\"Prov Code\", right_on=\"Prov Code\")"
   ]
  },
  {
   "cell_type": "code",
   "execution_count": 30,
   "metadata": {
    "collapsed": false
   },
   "outputs": [],
   "source": [
    "#Fix Missing Values based on the regrouping of Provinces to mimic the 1993\n",
    "#IFLS indonesia (these provinces had data but were folded into the parent\n",
    "#province from whence they came)\n",
    "\n",
    "# Ind_Prov.ix[27,\"r_wage_hr\"]=Ind_Prov.ix[23,\"r_wage_hr\"]\n",
    "# Ind_Prov.ix[27,\"ln_wage_hr\"]=Ind_Prov.ix[23,\"ln_wage_hr\"]\n",
    "# Ind_Prov.ix[27,\"Average Schooling\"]=Ind_Prov.ix[23,\"Average Schooling\"]\n",
    "# Ind_Prov.ix[27,\"Median Schooling\"]=Ind_Prov.ix[23,\"Median Schooling\"]\n",
    "\n",
    "Ind_Prov.ix[19,\"MaxSchYrs\"]=5.550605\n",
    "\n",
    "Ind_Prov.ix[15,\"r_wage_hr\"]=Ind_Prov.ix[11,\"r_wage_hr\"]\n",
    "Ind_Prov.ix[15,\"ln_wage_hr\"]=Ind_Prov.ix[11,\"ln_wage_hr\"]\n",
    "Ind_Prov.ix[15,\"MaxSchYrs\"]=Ind_Prov.ix[11,\"MaxSchYrs\"]\n",
    "\n",
    "Ind_Prov.ix[28,\"r_wage_hr\"]=Ind_Prov.ix[25,\"r_wage_hr\"]\n",
    "Ind_Prov.ix[28,\"ln_wage_hr\"]=Ind_Prov.ix[25,\"ln_wage_hr\"]\n",
    "Ind_Prov.ix[28,\"MaxSchYrs\"]=Ind_Prov.ix[25,\"MaxSchYrs\"]\n",
    "\n",
    "Ind_Prov.ix[30,\"r_wage_hr\"]=Ind_Prov.ix[29,\"r_wage_hr\"]\n",
    "Ind_Prov.ix[30,\"ln_wage_hr\"]=Ind_Prov.ix[29,\"ln_wage_hr\"]\n",
    "Ind_Prov.ix[30,\"MaxSchYrs\"]=Ind_Prov.ix[29,\"MaxSchYrs\"]\n",
    "\n",
    "Ind_Prov.ix[32,\"r_wage_hr\"]=Ind_Prov.ix[31,\"r_wage_hr\"]\n",
    "Ind_Prov.ix[32,\"ln_wage_hr\"]=Ind_Prov.ix[31,\"ln_wage_hr\"]\n",
    "Ind_Prov.ix[32,\"MaxSchYrs\"]=Ind_Prov.ix[31,\"MaxSchYrs\"]\n",
    "\n",
    "Ind_Prov = Ind_Prov.dropna()"
   ]
  },
  {
   "cell_type": "code",
   "execution_count": 31,
   "metadata": {
    "collapsed": false,
    "scrolled": false
   },
   "outputs": [
    {
     "data": {
      "text/html": [
       "<div>\n",
       "<table border=\"1\" class=\"dataframe\">\n",
       "  <thead>\n",
       "    <tr style=\"text-align: right;\">\n",
       "      <th></th>\n",
       "      <th>Prov Code</th>\n",
       "      <th>Province</th>\n",
       "      <th>geometry</th>\n",
       "      <th>MaxSchYrs</th>\n",
       "      <th>ln_wage_hr</th>\n",
       "      <th>r_wage_hr</th>\n",
       "    </tr>\n",
       "  </thead>\n",
       "  <tbody>\n",
       "    <tr>\n",
       "      <th>0</th>\n",
       "      <td>11</td>\n",
       "      <td>Aceh</td>\n",
       "      <td>(POLYGON ((95.1129443594893 5.566434697270201,...</td>\n",
       "      <td>9.478793</td>\n",
       "      <td>0.765713</td>\n",
       "      <td>2.150527</td>\n",
       "    </tr>\n",
       "    <tr>\n",
       "      <th>1</th>\n",
       "      <td>12</td>\n",
       "      <td>Sumatera Utara</td>\n",
       "      <td>(POLYGON ((98.56304499441775 1.610842788660926...</td>\n",
       "      <td>8.277768</td>\n",
       "      <td>0.535124</td>\n",
       "      <td>1.707661</td>\n",
       "    </tr>\n",
       "    <tr>\n",
       "      <th>2</th>\n",
       "      <td>13</td>\n",
       "      <td>Sumatera Barat</td>\n",
       "      <td>(POLYGON ((100.3340171959681 -3.28001314087794...</td>\n",
       "      <td>8.482733</td>\n",
       "      <td>0.645776</td>\n",
       "      <td>1.907467</td>\n",
       "    </tr>\n",
       "    <tr>\n",
       "      <th>3</th>\n",
       "      <td>14</td>\n",
       "      <td>Riau</td>\n",
       "      <td>(POLYGON ((102.4940984916833 1.129889926323819...</td>\n",
       "      <td>9.304348</td>\n",
       "      <td>0.938771</td>\n",
       "      <td>2.556838</td>\n",
       "    </tr>\n",
       "    <tr>\n",
       "      <th>4</th>\n",
       "      <td>15</td>\n",
       "      <td>Jambi</td>\n",
       "      <td>(POLYGON ((104.2475432565595 -1.03299575925923...</td>\n",
       "      <td>8.637455</td>\n",
       "      <td>0.739919</td>\n",
       "      <td>2.095765</td>\n",
       "    </tr>\n",
       "    <tr>\n",
       "      <th>5</th>\n",
       "      <td>16</td>\n",
       "      <td>Sumatera Selatan</td>\n",
       "      <td>(POLYGON ((104.567944798962 -1.751620662897045...</td>\n",
       "      <td>7.470047</td>\n",
       "      <td>0.429764</td>\n",
       "      <td>1.536895</td>\n",
       "    </tr>\n",
       "    <tr>\n",
       "      <th>6</th>\n",
       "      <td>17</td>\n",
       "      <td>Bengkulu</td>\n",
       "      <td>(POLYGON ((101.3849622989467 -2.34334692501442...</td>\n",
       "      <td>9.626186</td>\n",
       "      <td>0.773708</td>\n",
       "      <td>2.167790</td>\n",
       "    </tr>\n",
       "    <tr>\n",
       "      <th>7</th>\n",
       "      <td>18</td>\n",
       "      <td>Lampung</td>\n",
       "      <td>(POLYGON ((105.5067143072264 -5.92385168879810...</td>\n",
       "      <td>7.182378</td>\n",
       "      <td>0.247442</td>\n",
       "      <td>1.280745</td>\n",
       "    </tr>\n",
       "    <tr>\n",
       "      <th>8</th>\n",
       "      <td>19</td>\n",
       "      <td>Kep. Bangka Belitung</td>\n",
       "      <td>(POLYGON ((107.5251739146149 -3.19027266510658...</td>\n",
       "      <td>7.781690</td>\n",
       "      <td>0.752778</td>\n",
       "      <td>2.122890</td>\n",
       "    </tr>\n",
       "    <tr>\n",
       "      <th>9</th>\n",
       "      <td>21</td>\n",
       "      <td>Kep. Riau</td>\n",
       "      <td>(POLYGON ((103.4574064112914 0.640523894383146...</td>\n",
       "      <td>9.308511</td>\n",
       "      <td>0.762930</td>\n",
       "      <td>2.144552</td>\n",
       "    </tr>\n",
       "    <tr>\n",
       "      <th>10</th>\n",
       "      <td>31</td>\n",
       "      <td>DKI Jakarta</td>\n",
       "      <td>POLYGON ((106.6852591491924 -6.10193044540689,...</td>\n",
       "      <td>9.751360</td>\n",
       "      <td>0.912419</td>\n",
       "      <td>2.490339</td>\n",
       "    </tr>\n",
       "    <tr>\n",
       "      <th>11</th>\n",
       "      <td>32</td>\n",
       "      <td>Jawa Barat</td>\n",
       "      <td>POLYGON ((106.3957058953364 -6.979003376578497...</td>\n",
       "      <td>7.320209</td>\n",
       "      <td>0.535106</td>\n",
       "      <td>1.707630</td>\n",
       "    </tr>\n",
       "    <tr>\n",
       "      <th>12</th>\n",
       "      <td>33</td>\n",
       "      <td>Jawa Tengah</td>\n",
       "      <td>(POLYGON ((110.478897542933 -5.805366216881239...</td>\n",
       "      <td>6.899104</td>\n",
       "      <td>0.197142</td>\n",
       "      <td>1.217916</td>\n",
       "    </tr>\n",
       "    <tr>\n",
       "      <th>13</th>\n",
       "      <td>34</td>\n",
       "      <td>DI. Yogyakarta</td>\n",
       "      <td>POLYGON ((110.4943216872062 -7.767738026912674...</td>\n",
       "      <td>8.101196</td>\n",
       "      <td>0.203012</td>\n",
       "      <td>1.225087</td>\n",
       "    </tr>\n",
       "    <tr>\n",
       "      <th>14</th>\n",
       "      <td>35</td>\n",
       "      <td>Jawa Timur</td>\n",
       "      <td>(POLYGON ((114.7745217230197 -7.15357664585246...</td>\n",
       "      <td>6.966334</td>\n",
       "      <td>0.226823</td>\n",
       "      <td>1.254608</td>\n",
       "    </tr>\n",
       "    <tr>\n",
       "      <th>15</th>\n",
       "      <td>36</td>\n",
       "      <td>Banten</td>\n",
       "      <td>(POLYGON ((106.3269983435739 -5.93086266346774...</td>\n",
       "      <td>7.320209</td>\n",
       "      <td>0.535106</td>\n",
       "      <td>1.707630</td>\n",
       "    </tr>\n",
       "    <tr>\n",
       "      <th>16</th>\n",
       "      <td>51</td>\n",
       "      <td>Bali</td>\n",
       "      <td>(POLYGON ((115.2351427588149 -8.81026996028771...</td>\n",
       "      <td>7.784635</td>\n",
       "      <td>0.459617</td>\n",
       "      <td>1.583467</td>\n",
       "    </tr>\n",
       "    <tr>\n",
       "      <th>17</th>\n",
       "      <td>52</td>\n",
       "      <td>Nusa Tenggara Barat</td>\n",
       "      <td>(POLYGON ((116.8483680302984 -8.43868830279694...</td>\n",
       "      <td>6.420955</td>\n",
       "      <td>0.065121</td>\n",
       "      <td>1.067288</td>\n",
       "    </tr>\n",
       "    <tr>\n",
       "      <th>18</th>\n",
       "      <td>53</td>\n",
       "      <td>Nusa Tenggara Timur</td>\n",
       "      <td>(POLYGON ((124.0325137742755 -8.21223382096766...</td>\n",
       "      <td>7.904498</td>\n",
       "      <td>0.604117</td>\n",
       "      <td>1.829636</td>\n",
       "    </tr>\n",
       "    <tr>\n",
       "      <th>19</th>\n",
       "      <td>61</td>\n",
       "      <td>Kalimantan Barat</td>\n",
       "      <td>(POLYGON ((109.1496167455698 -0.07249222951895...</td>\n",
       "      <td>5.550605</td>\n",
       "      <td>0.598627</td>\n",
       "      <td>1.819620</td>\n",
       "    </tr>\n",
       "    <tr>\n",
       "      <th>20</th>\n",
       "      <td>62</td>\n",
       "      <td>Kalimantan Tengah</td>\n",
       "      <td>(POLYGON ((113.416495929511 -3.413922757068011...</td>\n",
       "      <td>8.272727</td>\n",
       "      <td>1.038797</td>\n",
       "      <td>2.825816</td>\n",
       "    </tr>\n",
       "    <tr>\n",
       "      <th>21</th>\n",
       "      <td>63</td>\n",
       "      <td>Kalimantan Selatan</td>\n",
       "      <td>(POLYGON ((116.0925849609115 -4.06103571907552...</td>\n",
       "      <td>6.105027</td>\n",
       "      <td>0.297907</td>\n",
       "      <td>1.347037</td>\n",
       "    </tr>\n",
       "    <tr>\n",
       "      <th>22</th>\n",
       "      <td>64</td>\n",
       "      <td>Kalimantan Timur</td>\n",
       "      <td>(POLYGON ((117.7499793728137 4.188077077219539...</td>\n",
       "      <td>7.259259</td>\n",
       "      <td>0.676717</td>\n",
       "      <td>1.967408</td>\n",
       "    </tr>\n",
       "    <tr>\n",
       "      <th>23</th>\n",
       "      <td>71</td>\n",
       "      <td>Sulawesi Utara</td>\n",
       "      <td>(POLYGON ((124.352214219211 0.4203792897565403...</td>\n",
       "      <td>6.250000</td>\n",
       "      <td>-inf</td>\n",
       "      <td>0.000000</td>\n",
       "    </tr>\n",
       "    <tr>\n",
       "      <th>25</th>\n",
       "      <td>73</td>\n",
       "      <td>Sulawesi Selatan</td>\n",
       "      <td>(POLYGON ((120.5613802153382 -7.08767348395787...</td>\n",
       "      <td>6.050325</td>\n",
       "      <td>-0.226339</td>\n",
       "      <td>0.797448</td>\n",
       "    </tr>\n",
       "    <tr>\n",
       "      <th>26</th>\n",
       "      <td>74</td>\n",
       "      <td>Sulawesi Tenggara</td>\n",
       "      <td>(POLYGON ((121.4202246123687 -3.01079171356387...</td>\n",
       "      <td>5.367514</td>\n",
       "      <td>-0.075430</td>\n",
       "      <td>0.927345</td>\n",
       "    </tr>\n",
       "    <tr>\n",
       "      <th>28</th>\n",
       "      <td>76</td>\n",
       "      <td>Sulawesi Barat</td>\n",
       "      <td>POLYGON ((119.8161136079558 -2.045380501554841...</td>\n",
       "      <td>6.050325</td>\n",
       "      <td>-0.226339</td>\n",
       "      <td>0.797448</td>\n",
       "    </tr>\n",
       "    <tr>\n",
       "      <th>29</th>\n",
       "      <td>81</td>\n",
       "      <td>Maluku</td>\n",
       "      <td>(POLYGON ((134.6569447886437 -5.44640431379581...</td>\n",
       "      <td>6.121931</td>\n",
       "      <td>0.166124</td>\n",
       "      <td>1.180719</td>\n",
       "    </tr>\n",
       "    <tr>\n",
       "      <th>30</th>\n",
       "      <td>82</td>\n",
       "      <td>Maluku Utara</td>\n",
       "      <td>(POLYGON ((126.4877571035825 -1.84416552853625...</td>\n",
       "      <td>6.121931</td>\n",
       "      <td>0.166124</td>\n",
       "      <td>1.180719</td>\n",
       "    </tr>\n",
       "    <tr>\n",
       "      <th>31</th>\n",
       "      <td>91</td>\n",
       "      <td>Papua Barat</td>\n",
       "      <td>(POLYGON ((131.0533038084502 -1.19004159185911...</td>\n",
       "      <td>5.414272</td>\n",
       "      <td>0.738406</td>\n",
       "      <td>2.092598</td>\n",
       "    </tr>\n",
       "    <tr>\n",
       "      <th>32</th>\n",
       "      <td>94</td>\n",
       "      <td>Papua</td>\n",
       "      <td>(POLYGON ((136.350095171361 -1.872209427214804...</td>\n",
       "      <td>5.414272</td>\n",
       "      <td>0.738406</td>\n",
       "      <td>2.092598</td>\n",
       "    </tr>\n",
       "  </tbody>\n",
       "</table>\n",
       "</div>"
      ],
      "text/plain": [
       "    Prov Code              Province  \\\n",
       "0          11                  Aceh   \n",
       "1          12        Sumatera Utara   \n",
       "2          13        Sumatera Barat   \n",
       "3          14                  Riau   \n",
       "4          15                 Jambi   \n",
       "5          16      Sumatera Selatan   \n",
       "6          17              Bengkulu   \n",
       "7          18               Lampung   \n",
       "8          19  Kep. Bangka Belitung   \n",
       "9          21             Kep. Riau   \n",
       "10         31           DKI Jakarta   \n",
       "11         32            Jawa Barat   \n",
       "12         33           Jawa Tengah   \n",
       "13         34        DI. Yogyakarta   \n",
       "14         35            Jawa Timur   \n",
       "15         36                Banten   \n",
       "16         51                  Bali   \n",
       "17         52   Nusa Tenggara Barat   \n",
       "18         53   Nusa Tenggara Timur   \n",
       "19         61      Kalimantan Barat   \n",
       "20         62     Kalimantan Tengah   \n",
       "21         63    Kalimantan Selatan   \n",
       "22         64      Kalimantan Timur   \n",
       "23         71        Sulawesi Utara   \n",
       "25         73      Sulawesi Selatan   \n",
       "26         74     Sulawesi Tenggara   \n",
       "28         76        Sulawesi Barat   \n",
       "29         81                Maluku   \n",
       "30         82          Maluku Utara   \n",
       "31         91           Papua Barat   \n",
       "32         94                 Papua   \n",
       "\n",
       "                                             geometry  MaxSchYrs  ln_wage_hr  \\\n",
       "0   (POLYGON ((95.1129443594893 5.566434697270201,...   9.478793    0.765713   \n",
       "1   (POLYGON ((98.56304499441775 1.610842788660926...   8.277768    0.535124   \n",
       "2   (POLYGON ((100.3340171959681 -3.28001314087794...   8.482733    0.645776   \n",
       "3   (POLYGON ((102.4940984916833 1.129889926323819...   9.304348    0.938771   \n",
       "4   (POLYGON ((104.2475432565595 -1.03299575925923...   8.637455    0.739919   \n",
       "5   (POLYGON ((104.567944798962 -1.751620662897045...   7.470047    0.429764   \n",
       "6   (POLYGON ((101.3849622989467 -2.34334692501442...   9.626186    0.773708   \n",
       "7   (POLYGON ((105.5067143072264 -5.92385168879810...   7.182378    0.247442   \n",
       "8   (POLYGON ((107.5251739146149 -3.19027266510658...   7.781690    0.752778   \n",
       "9   (POLYGON ((103.4574064112914 0.640523894383146...   9.308511    0.762930   \n",
       "10  POLYGON ((106.6852591491924 -6.10193044540689,...   9.751360    0.912419   \n",
       "11  POLYGON ((106.3957058953364 -6.979003376578497...   7.320209    0.535106   \n",
       "12  (POLYGON ((110.478897542933 -5.805366216881239...   6.899104    0.197142   \n",
       "13  POLYGON ((110.4943216872062 -7.767738026912674...   8.101196    0.203012   \n",
       "14  (POLYGON ((114.7745217230197 -7.15357664585246...   6.966334    0.226823   \n",
       "15  (POLYGON ((106.3269983435739 -5.93086266346774...   7.320209    0.535106   \n",
       "16  (POLYGON ((115.2351427588149 -8.81026996028771...   7.784635    0.459617   \n",
       "17  (POLYGON ((116.8483680302984 -8.43868830279694...   6.420955    0.065121   \n",
       "18  (POLYGON ((124.0325137742755 -8.21223382096766...   7.904498    0.604117   \n",
       "19  (POLYGON ((109.1496167455698 -0.07249222951895...   5.550605    0.598627   \n",
       "20  (POLYGON ((113.416495929511 -3.413922757068011...   8.272727    1.038797   \n",
       "21  (POLYGON ((116.0925849609115 -4.06103571907552...   6.105027    0.297907   \n",
       "22  (POLYGON ((117.7499793728137 4.188077077219539...   7.259259    0.676717   \n",
       "23  (POLYGON ((124.352214219211 0.4203792897565403...   6.250000        -inf   \n",
       "25  (POLYGON ((120.5613802153382 -7.08767348395787...   6.050325   -0.226339   \n",
       "26  (POLYGON ((121.4202246123687 -3.01079171356387...   5.367514   -0.075430   \n",
       "28  POLYGON ((119.8161136079558 -2.045380501554841...   6.050325   -0.226339   \n",
       "29  (POLYGON ((134.6569447886437 -5.44640431379581...   6.121931    0.166124   \n",
       "30  (POLYGON ((126.4877571035825 -1.84416552853625...   6.121931    0.166124   \n",
       "31  (POLYGON ((131.0533038084502 -1.19004159185911...   5.414272    0.738406   \n",
       "32  (POLYGON ((136.350095171361 -1.872209427214804...   5.414272    0.738406   \n",
       "\n",
       "    r_wage_hr  \n",
       "0    2.150527  \n",
       "1    1.707661  \n",
       "2    1.907467  \n",
       "3    2.556838  \n",
       "4    2.095765  \n",
       "5    1.536895  \n",
       "6    2.167790  \n",
       "7    1.280745  \n",
       "8    2.122890  \n",
       "9    2.144552  \n",
       "10   2.490339  \n",
       "11   1.707630  \n",
       "12   1.217916  \n",
       "13   1.225087  \n",
       "14   1.254608  \n",
       "15   1.707630  \n",
       "16   1.583467  \n",
       "17   1.067288  \n",
       "18   1.829636  \n",
       "19   1.819620  \n",
       "20   2.825816  \n",
       "21   1.347037  \n",
       "22   1.967408  \n",
       "23   0.000000  \n",
       "25   0.797448  \n",
       "26   0.927345  \n",
       "28   0.797448  \n",
       "29   1.180719  \n",
       "30   1.180719  \n",
       "31   2.092598  \n",
       "32   2.092598  "
      ]
     },
     "execution_count": 31,
     "metadata": {},
     "output_type": "execute_result"
    }
   ],
   "source": [
    "Ind_Prov"
   ]
  },
  {
   "cell_type": "markdown",
   "metadata": {},
   "source": [
    "# Plot the Chloropleths\n",
    "\n",
    "### Wages"
   ]
  },
  {
   "cell_type": "code",
   "execution_count": 34,
   "metadata": {
    "collapsed": false
   },
   "outputs": [
    {
     "data": {
      "text/plain": [
       "(90.0, 150.0, -12.0, 6.0)"
      ]
     },
     "execution_count": 34,
     "metadata": {},
     "output_type": "execute_result"
    }
   ],
   "source": [
    "%matplotlib osx\n",
    "( Ind_Prov.plot(column=\"r_wage_hr\", cmap='Blues', scheme=\"quantiles\", linewidth=0.1, legend=True)\n",
    "         .axis('off') \n",
    ")"
   ]
  },
  {
   "cell_type": "code",
   "execution_count": null,
   "metadata": {
    "collapsed": true
   },
   "outputs": [],
   "source": [
    "#plt.savefig('Prov_Wages.png', dpi=1000, frameon=False, bbox_inches='tight', facecolor='#F2F2F2')"
   ]
  },
  {
   "cell_type": "markdown",
   "metadata": {},
   "source": [
    "### Schooling"
   ]
  },
  {
   "cell_type": "code",
   "execution_count": 36,
   "metadata": {
    "collapsed": false
   },
   "outputs": [
    {
     "data": {
      "text/plain": [
       "(90.0, 150.0, -12.0, 6.0)"
      ]
     },
     "execution_count": 36,
     "metadata": {},
     "output_type": "execute_result"
    }
   ],
   "source": [
    "%matplotlib osx\n",
    "( Ind_Prov.plot(column=\"MaxSchYrs\", cmap='Reds', scheme=\"quantiles\", linewidth=0.1, legend=True)\n",
    "         .axis('off') \n",
    ")"
   ]
  },
  {
   "cell_type": "code",
   "execution_count": null,
   "metadata": {
    "collapsed": true
   },
   "outputs": [],
   "source": [
    "#plt.savefig('Prov_Education.png', dpi=1000, frameon=False, bbox_inches='tight', facecolor='#F2F2F2')"
   ]
  }
 ],
 "metadata": {
  "kernelspec": {
   "display_name": "Python 3",
   "language": "python",
   "name": "python3"
  },
  "language_info": {
   "codemirror_mode": {
    "name": "ipython",
    "version": 3
   },
   "file_extension": ".py",
   "mimetype": "text/x-python",
   "name": "python",
   "nbconvert_exporter": "python",
   "pygments_lexer": "ipython3",
   "version": "3.5.2"
  }
 },
 "nbformat": 4,
 "nbformat_minor": 1
}
