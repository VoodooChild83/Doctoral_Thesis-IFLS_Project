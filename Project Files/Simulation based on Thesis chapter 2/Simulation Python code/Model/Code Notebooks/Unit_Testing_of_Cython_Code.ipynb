{
 "cells": [
  {
   "cell_type": "code",
   "execution_count": 1,
   "metadata": {
    "collapsed": false
   },
   "outputs": [],
   "source": [
    "%load_ext Cython"
   ]
  },
  {
   "cell_type": "code",
   "execution_count": 2,
   "metadata": {
    "collapsed": false
   },
   "outputs": [
    {
     "name": "stdout",
     "output_type": "stream",
     "text": [
      "{'neg': 18366, 'pos': 31634}\n"
     ]
    }
   ],
   "source": [
    "from scipy.stats import gumbel_r\n",
    "\n",
    "shocks=[gumbel_r.rvs() for i in range(50000)]\n",
    "\n",
    "counter_pos=0\n",
    "counter_neg=0\n",
    "total={}\n",
    "for element in shocks:\n",
    "    if element>0:\n",
    "        counter_pos+=1\n",
    "    else: counter_neg+=1\n",
    "total['pos']=counter_pos\n",
    "total['neg']=counter_neg\n",
    "\n",
    "print total"
   ]
  },
  {
   "cell_type": "code",
   "execution_count": 3,
   "metadata": {
    "collapsed": false
   },
   "outputs": [],
   "source": [
    "%%cython\n",
    "cimport cython\n",
    "from libc.stdlib cimport calloc, free, rand, RAND_MAX\n",
    "from cython.parallel import prange, parallel\n",
    "\n",
    "cpdef unsigned int rand_state(unsigned int min, unsigned int max) nogil:\n",
    "    cdef double scaled\n",
    "    #Generate the random number between 0 and 1\n",
    "    scaled=rand()/<double>RAND_MAX\n",
    "    return <unsigned int>(max*scaled + min)\n",
    "\n",
    "# @cython.boundscheck(False)\n",
    "# @cython.wraparound(False)\n",
    "# cdef void* FILL_int(unsigned int *arr, size_t rows, size_t cols) nogil:\n",
    "#     cdef Py_ssize_t i,j\n",
    "#     with parallel(num_threads=4):\n",
    "#         for i in prange(rows, schedule='dynamic'):\n",
    "#             for j in range(cols):\n",
    "#                 arr[j+i*cols]=0  \n",
    "                \n",
    "@cython.boundscheck(False)\n",
    "@cython.wraparound(False)\n",
    "cpdef unsigned int SUMS(size_t HH, size_t Gen) nogil:\n",
    "    \n",
    "    cdef:\n",
    "        unsigned int *decisions\n",
    "        Py_ssize_t i, j\n",
    "        unsigned int total=0\n",
    "    \n",
    "    decisions=<unsigned int*> calloc(HH*Gen, sizeof(unsigned int))\n",
    "    \n",
    "    #with parallel(num_threads=4):\n",
    "    \n",
    "    for j in xrange(HH):#, schedule='dynamic'):\n",
    "        decisions[j]=rand_state(1,4)\n",
    "\n",
    "    for i in xrange(HH):#, schedule='dynamic'):\n",
    "        for j in range(Gen):\n",
    "            total+=decisions[j+i*Gen]\n",
    "            \n",
    "    free(decisions)\n",
    "    return total  "
   ]
  },
  {
   "cell_type": "code",
   "execution_count": 4,
   "metadata": {
    "collapsed": false
   },
   "outputs": [
    {
     "name": "stdout",
     "output_type": "stream",
     "text": [
      "2515\n"
     ]
    }
   ],
   "source": [
    "print SUMS(1000,1)"
   ]
  },
  {
   "cell_type": "code",
   "execution_count": 5,
   "metadata": {
    "collapsed": true
   },
   "outputs": [],
   "source": [
    "## Experimental Cython Functions to calculate the Next State based on the transition functions"
   ]
  },
  {
   "cell_type": "code",
   "execution_count": 6,
   "metadata": {
    "collapsed": false
   },
   "outputs": [],
   "source": [
    "%%cython\n",
    "\n",
    "#Prototype Cython function to generate the next state based on the transition function probabilities \n",
    "#flexible enough to work with either a deterministic or non deterministic transition function\n",
    "\n",
    "cimport cython\n",
    "from libc.stdlib cimport calloc, free, rand, RAND_MAX\n",
    "\n",
    "cdef size_t tot_states=4\n",
    "\n",
    "cdef inline double rand_value() nogil:\n",
    "    return rand()/<double>RAND_MAX\n",
    "\n",
    "#This function rewrites the element in an array with the cumulative sum of the components\n",
    "@cython.boundscheck(False)\n",
    "@cython.wraparound(False)\n",
    "@cython.nonecheck(False)\n",
    "cdef void cum_sum(double *arr, size_t index=4-1) nogil:\n",
    "    if index<=0: return\n",
    "    cum_sum(&arr[0], index-1)\n",
    "    arr[index]+=arr[index-1]\n",
    "\n",
    "@cython.boundscheck(False)\n",
    "@cython.wraparound(False)\n",
    "@cython.nonecheck(False)\n",
    "cdef unsigned int find_interval(double x, double *arr) nogil:\n",
    "    cdef Py_ssize_t i\n",
    "    \n",
    "    for i in range(tot_states):\n",
    "        if x<arr[i]:\n",
    "            return i\n",
    "            \n",
    "    return 0\n",
    "\n",
    "@cython.boundscheck(False)\n",
    "@cython.wraparound(False)\n",
    "@cython.nonecheck(False)\n",
    "cpdef unsigned int next_state(double[:] tran):\n",
    "    cdef:\n",
    "        double x\n",
    "        double *array\n",
    "        unsigned int index\n",
    "        Py_ssize_t i\n",
    "        \n",
    "    array=<double*> calloc(tot_states, sizeof(double))\n",
    "    \n",
    "#     with gil:\n",
    "    if not array: raise MemoryError()\n",
    "        \n",
    "    try:\n",
    "        x = rand_value()\n",
    "\n",
    "        for i in range(tot_states):\n",
    "            array[i]=tran[i]\n",
    "\n",
    "        cum_sum(&array[0])\n",
    "       \n",
    "        index = find_interval(x, &array[0]) + 1\n",
    "    \n",
    "        return index\n",
    "        \n",
    "    finally:\n",
    "        free(array)     \n",
    "        "
   ]
  },
  {
   "cell_type": "code",
   "execution_count": 7,
   "metadata": {
    "collapsed": false
   },
   "outputs": [],
   "source": [
    "import numpy as np\n",
    "\n",
    "tot_states=4    #number of states\n",
    "tot_decisions=4 #number of decisions\n",
    "\n",
    "tran_st=[[1,0,0,0],[0.3799,0,0.6201,0],[0,1,0,0],[0,0.3496,0,0.6504],\n",
    "         [0,1,0,0],[0,0.5125,0,0.4875],[1,0,0,0],[0.3964,0,0.6036,0],\n",
    "         [1,0,0,0],[0.2635,0,0.7365,0],[0,1,0,0],[0,0.1365,0,0.8635],\n",
    "         [0,1,0,0],[0,0.2078,0,0.7922],[1,0,0,0],[0.1429,0,0.8571,0]]\n",
    "\n",
    "tran_func=np.array(tran_st, dtype='d').reshape((tot_states,tot_decisions,tot_states))\n",
    "\n",
    "state=2\n",
    "decision=2"
   ]
  },
  {
   "cell_type": "code",
   "execution_count": 8,
   "metadata": {
    "collapsed": false
   },
   "outputs": [
    {
     "name": "stdout",
     "output_type": "stream",
     "text": [
      "[[[ 1.      0.      0.      0.    ]\n",
      "  [ 0.3799  0.      0.6201  0.    ]\n",
      "  [ 0.      1.      0.      0.    ]\n",
      "  [ 0.      0.3496  0.      0.6504]]\n",
      "\n",
      " [[ 0.      1.      0.      0.    ]\n",
      "  [ 0.      0.5125  0.      0.4875]\n",
      "  [ 1.      0.      0.      0.    ]\n",
      "  [ 0.3964  0.      0.6036  0.    ]]\n",
      "\n",
      " [[ 1.      0.      0.      0.    ]\n",
      "  [ 0.2635  0.      0.7365  0.    ]\n",
      "  [ 0.      1.      0.      0.    ]\n",
      "  [ 0.      0.1365  0.      0.8635]]\n",
      "\n",
      " [[ 0.      1.      0.      0.    ]\n",
      "  [ 0.      0.2078  0.      0.7922]\n",
      "  [ 1.      0.      0.      0.    ]\n",
      "  [ 0.1429  0.      0.8571  0.    ]]]\n"
     ]
    }
   ],
   "source": [
    "print tran_func"
   ]
  },
  {
   "cell_type": "code",
   "execution_count": 9,
   "metadata": {
    "collapsed": false
   },
   "outputs": [
    {
     "name": "stdout",
     "output_type": "stream",
     "text": [
      "4\n"
     ]
    }
   ],
   "source": [
    "print next_state(tran_func[state-1,decision-1,:])"
   ]
  },
  {
   "cell_type": "code",
   "execution_count": 12,
   "metadata": {
    "collapsed": false,
    "scrolled": false
   },
   "outputs": [
    {
     "name": "stdout",
     "output_type": "stream",
     "text": [
      "Counter({3: 0.60572, 1: 0.39428})\n"
     ]
    }
   ],
   "source": [
    "#test that this Cython function is producing states according to the probability weights\n",
    "from collections import Counter\n",
    "\n",
    "lst=[]\n",
    "loop=100000\n",
    "for i in range(loop):\n",
    "    lst.append(next_state(tran_func[1,3,:]))\n",
    "    \n",
    "c= Counter(lst)\n",
    "for key in c:\n",
    "    c[key] = c[key] / float(loop)\n",
    "\n",
    "print c"
   ]
  },
  {
   "cell_type": "code",
   "execution_count": 11,
   "metadata": {
    "collapsed": false,
    "scrolled": true
   },
   "outputs": [
    {
     "name": "stdout",
     "output_type": "stream",
     "text": [
      "The slowest run took 10.51 times longer than the fastest. This could mean that an intermediate result is being cached.\n",
      "1000000 loops, best of 3: 1.25 µs per loop\n"
     ]
    }
   ],
   "source": [
    "%timeit next_state(tran_func[1,3,:])"
   ]
  },
  {
   "cell_type": "code",
   "execution_count": null,
   "metadata": {
    "collapsed": true
   },
   "outputs": [],
   "source": [
    "%%cython\n",
    "\n",
    "#A comparison of the low-level dot product from fortran with numpy (and how to use the \n",
    "#low-level BLAS functions)\n",
    "\n",
    "#Global Cython Compiler Directives:\n",
    "\n",
    "#!python\n",
    "#cython: boundscheck=False\n",
    "#cython: wraparound=False\n",
    "#cython: nonecheck=False\n",
    "#cython: cdivision=True\n",
    "\n",
    "#Import modules\n",
    "import scipy.linalg.blas\n",
    "\n",
    "from cpython cimport (PY_VERSION_HEX, PyCObject_Check,\n",
    "    PyCObject_AsVoidPtr, PyCapsule_CheckExact, PyCapsule_GetPointer)\n",
    "\n",
    "#Define the fortran pointer used for the BLAS functions\n",
    "cdef void* f2py_pointer(obj):\n",
    "    if PY_VERSION_HEX < 0x03000000:\n",
    "        if (PyCObject_Check(obj)):\n",
    "            return PyCObject_AsVoidPtr(obj)\n",
    "    elif PY_VERSION_HEX >= 0x02070000:\n",
    "        if (PyCapsule_CheckExact(obj)):\n",
    "            return PyCapsule_GetPointer(obj, NULL);\n",
    "    raise ValueError(\"Not an object containing a void ptr\")\n",
    "    \n",
    "#Define \n",
    "ctypedef int dgemm_t(\n",
    "    char *transa, char *transb,\n",
    "    int *m, int *n, int *k,\n",
    "    double *alpha,\n",
    "    double *a, int *lda,\n",
    "    double *b, int *ldb,\n",
    "    double *beta,\n",
    "    double *c, int *ldc)\n",
    "\n",
    "# Since Scipy >= 0.12.0\n",
    "cdef dgemm_t *dgemm = <dgemm_t*>f2py_pointer(scipy.linalg.blas.dgemm._cpointer)\n",
    "\n",
    "cpdef myfunc():\n",
    "    cdef: \n",
    "        double* a \n",
    "        double* b \n",
    "        double* c\n",
    "        int m, n, k, lda, ldb, ldc\n",
    "        double alpha, beta\n",
    "\n",
    "    a = <double*> malloc(m*k * sizeof(double))\n",
    "    b = <double*> malloc(k*n * sizeof(double))\n",
    "    c = <double*> calloc(m*n, sizeof(double))\n",
    "    \n",
    "    alpha = 1.0\n",
    "    beta = 0.0\n",
    "    lda = 2\n",
    "    ldb = 2\n",
    "    ldc = 2\n",
    "    m = 2\n",
    "    n = 2\n",
    "    k = 2\n",
    "    dgemm(\"N\", \"N\", &m, &n, &k, &alpha, &a[0,0], &lda, &b[0,0], &ldb, &beta, &c[0,0], &ldc)\n",
    "    print(np.asarray(c))\n",
    "    print(np.dot(a, b))"
   ]
  },
  {
   "cell_type": "code",
   "execution_count": 1,
   "metadata": {
    "collapsed": false
   },
   "outputs": [
    {
     "name": "stderr",
     "output_type": "stream",
     "text": [
      "/usr/local/lib/python2.7/site-packages/IPython/nbformat.py:13: ShimWarning: The `IPython.nbformat` package has been deprecated. You should import from nbformat instead.\n",
      "  \"You should import from nbformat instead.\", ShimWarning)\n"
     ]
    },
    {
     "name": "stdout",
     "output_type": "stream",
     "text": [
      "Starting MATLAB on ZMQ socket ipc:///tmp/pymatbridge-5eb011b6-bc97-403b-b0d4-15ed96016fe1\n",
      "Send 'exit' command to kill the server\n",
      ".......MATLAB started and connected!\n"
     ]
    }
   ],
   "source": [
    "%load_ext pymatbridge"
   ]
  },
  {
   "cell_type": "code",
   "execution_count": null,
   "metadata": {
    "collapsed": true
   },
   "outputs": [],
   "source": []
  }
 ],
 "metadata": {
  "kernelspec": {
   "display_name": "Python 2",
   "language": "python",
   "name": "python2"
  },
  "language_info": {
   "codemirror_mode": {
    "name": "ipython",
    "version": 2
   },
   "file_extension": ".py",
   "mimetype": "text/x-python",
   "name": "python",
   "nbconvert_exporter": "python",
   "pygments_lexer": "ipython2",
   "version": "2.7.12"
  }
 },
 "nbformat": 4,
 "nbformat_minor": 1
}
