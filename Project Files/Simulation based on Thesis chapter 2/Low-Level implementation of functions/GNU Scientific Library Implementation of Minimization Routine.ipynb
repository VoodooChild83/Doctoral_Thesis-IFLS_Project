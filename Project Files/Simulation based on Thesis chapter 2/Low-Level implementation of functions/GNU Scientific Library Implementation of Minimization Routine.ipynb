{
 "cells": [
  {
   "cell_type": "markdown",
   "metadata": {},
   "source": [
    "# Comparison of minimization routines in Cython and Matlab\n",
    "\n",
    "This serves as a testing platform to learn how to implement the GSL minimization routine in Cython. As Economists tend to use Matlab as a default platform this will form the benchmark. \n",
    "\n",
    "The exercise through which we will learn how to use the GSL algorithms implements through a Monte-Carlo simulation the asymptotic convergence of the Bernoulli distribution to the Normal distribution. This will be a one-dimensional minimization routine. "
   ]
  },
  {
   "cell_type": "markdown",
   "metadata": {},
   "source": [
    "A single observation drawn from the Bernoulli distribtuion has the following pdf when $y\\in{0,1}$:\n",
    "\n",
    "\\begin{equation*}\n",
    "f_{Y}(y;p_{0}) = p_{0}^{y}\\cdot(1-p_{0})^{1-y}\n",
    "\\end{equation*}\n",
    "\n",
    "We will suppose we have an i.i.d. sample of observations of y, so we can take the joint pdf of the y samples as:\n",
    "\n",
    "\\begin{align*}\n",
    "f_{Y}(y_{1},...,y_{n};p_{0}) &= \\prod_{i=1}^{n}p_{0}^{y_{i}}\\cdot(1-p_{0})^{1-y_{i}}\\\\\n",
    "&=p_{0}^{\\sum_{i=1}^{n}y_{i}}\\cdot(1-p_{0})^{\\sum_{i=1}^{n}1-y_{i}}\n",
    "\\end{align*}\n",
    "\n",
    "Applying logs to the above equation gives us the log-likelihood function:\n",
    "\n",
    "\\begin{equation*}\n",
    "\\mathcal{L}(p_{0};y_1...y_n) = \\log f\\left(y_1,...,y_n; p_{0}\\right)=\\sum_{i=1}^{n}y_{i}\\log(p_{0})+(1-y_{i})\\log(1-p_{0})\n",
    "\\end{equation*}\n",
    "\n",
    "We will set up a Monte-Carlo by using the population probability of $p_{0}=0.2$ to generate a vector y, that we will then use as our observed variable. For each sample size we will run 1000 simulations.\n",
    "\n",
    "The maximum likelihood estimator of $\\widehat{p}$ is $\\bar{y}$, the average of the observed incidences of success. Despite this we will maximize the likelihood function to test the speed comparisons and learn to use GSL in Cython. Since we will have to run many minimization routines on different sample sizes we will write an external function that estimates the probability through maximization. We know that $p\\in[0,1]$. Although we don't have to it would likely be best if we were to conduct a constrained optimization with the upper and lower bounds as the probability space indicated."
   ]
  },
  {
   "cell_type": "markdown",
   "metadata": {},
   "source": [
    " ## Matlab\n",
    " \n",
    " Load matlab magic and set up parallel (optionally remove parallel implementation for a setial comparison)."
   ]
  },
  {
   "cell_type": "code",
   "execution_count": null,
   "metadata": {
    "collapsed": false
   },
   "outputs": [],
   "source": [
    "%load_ext pymatbridge"
   ]
  },
  {
   "cell_type": "code",
   "execution_count": null,
   "metadata": {
    "collapsed": false
   },
   "outputs": [],
   "source": [
    "%%matlab\n",
    "clear all; clc; parpool"
   ]
  },
  {
   "cell_type": "code",
   "execution_count": null,
   "metadata": {
    "collapsed": true
   },
   "outputs": [],
   "source": [
    "%%matlab\n",
    "\n",
    "%We are asked for sample sizes N=5,50,500. Let's create a\n",
    "%vector of these samples sizes (I did this with an extra\n",
    "%sample size to get nicer graph outputs).\n",
    "\n",
    "N=[5;50;500;5000];\n",
    "\n",
    "%population probability\n",
    "p_true = 0.2;\n",
    "\n",
    "%Simulation run\n",
    "T=1000;\n",
    "\n",
    "%Initialize the vectors for the output of the Monte Carlo\n",
    "%We will initialize a vector of 1000x4, since we have 4\n",
    "%sample sizes, that is the size of the N vector we created\n",
    "%is 4x1.\n",
    "p_hat = NaN(T,size(N,1));\n",
    "\n",
    "%A starting value of guess for the p_hat that we will find\n",
    "p_0 = rand;\n",
    "\n",
    "%Our options for the maximization routine:\n",
    "\n",
    "options_2 = optimoptions('fmincon','Algorithm','interior-point',...\n",
    "                         'Display','off','UseParallel',true);"
   ]
  },
  {
   "cell_type": "code",
   "execution_count": null,
   "metadata": {
    "collapsed": false
   },
   "outputs": [],
   "source": [
    "%%matlab\n",
    "\n",
    "%Program the Monte-Carlo experiment\n",
    "\n",
    "%outer loop runs the sample sizes\n",
    "tic\n",
    "for i=1:size(N,1)\n",
    "\n",
    "    sample_size = N(i);\n",
    "    \n",
    "    %run inner loop = MC loop - to make this go fast \n",
    "    %we will need to parallelize this otherwise it will\n",
    "    %take forever\n",
    "    \n",
    "    parfor j=1:T\n",
    "    \n",
    "        %First we generate a random sample of points\n",
    "        %between 0 and 1. We use the rand function \n",
    "        %to do this\n",
    "        \n",
    "        Y_raw = rand(sample_size,1);\n",
    "        \n",
    "        %Now we need to create the Y vector such that it\n",
    "        %takes the value 1 if the probability is less than\n",
    "        %or equal to 0.2, and 0 otherwise.\n",
    "        \n",
    "        Y = (Y_raw <= p_true);\n",
    "        \n",
    "        %Now we can run the fminunc routine on the sample Y \n",
    "        %and find the p that maximizes the likelihood of \n",
    "        %observing our sample vector Y:\n",
    "        \n",
    "        p_hat(j,i) = fmincon(@(p) Bernoulli(p,sample_size,Y),...\n",
    "                             p_0,[],[],[],[],0,1,[],options_2)\n",
    "    \n",
    "    end\n",
    "\n",
    "end\n",
    "toc"
   ]
  },
  {
   "cell_type": "code",
   "execution_count": null,
   "metadata": {
    "collapsed": false
   },
   "outputs": [],
   "source": [
    "%%matlab\n",
    "\n",
    "p_mean = mean(p_hat)\n",
    "p_SE = std(p_hat)\n",
    "p_centered = (sqrt(diag(N))*(p_hat - p_true)')';\n",
    "var_p_true = p_true - p_true^2\n",
    "E_p_centered = mean(p_centered)\n",
    "var_p_centered = var(p_centered)"
   ]
  },
  {
   "cell_type": "code",
   "execution_count": null,
   "metadata": {
    "collapsed": false
   },
   "outputs": [],
   "source": [
    "%%matlab\n",
    "\n",
    "%Generate the histogram of the monte-carlo exercise with a \n",
    "%normal distribution super-imposed to see how the sample\n",
    "%sizes are in relation to the normal. We will create\n",
    "%subplots.\n",
    "\n",
    "%First, let's set the bins (how the data is grouped)\n",
    "bins=30;\n",
    "\n",
    "%Second, let's find the global minimum and the maximum across \n",
    "%all the sameple sizes to set the same axis across all \n",
    "%the subplots beta_sim_1 to more easily compare how the dispersion\n",
    "%(shape of the bell curve) of the estimates change as N changes. \n",
    "%Since we have two dimensions we should use nested min and max \n",
    "%statements to get the global value.\n",
    "\n",
    "x_axis_min = min(min(p_centered));\n",
    "x_axis_max = max(max(p_centered));\n",
    "\n",
    "%Finally, we run through a loop across the columns of p_centered\n",
    "%to generate a plot of the distribution of each column (so there \n",
    "%will be 4 subplots).\n",
    "\n",
    "for i=1:size(N,1)\n",
    "\n",
    "    subplot(2,2,i);\n",
    "    histfit(p_centered(:,i),bins)\n",
    "    title(['T=1000 & N=' num2str(N(i))], 'FontSize',8)\n",
    "    xlabel('MLE estimates of p_0','FontSize',8)\n",
    "    ylabel('Density', 'FontSize',8)\n",
    "    xlim([x_axis_min x_axis_max])\n",
    "    \n",
    "end"
   ]
  },
  {
   "cell_type": "code",
   "execution_count": null,
   "metadata": {
    "collapsed": false
   },
   "outputs": [],
   "source": [
    "%%matlab\n",
    "delete(gcp('nocreate'))"
   ]
  },
  {
   "cell_type": "markdown",
   "metadata": {},
   "source": [
    "## Cython/Python\n",
    "\n",
    "Here we will program the above cells in Python and call a Monte-Carlo function to yield us the outputs we desire. The Monte-Carlo function will be written in Cython and we will use the %timeit cell magic to give us a run-time of our Cython function. "
   ]
  },
  {
   "cell_type": "markdown",
   "metadata": {},
   "source": [
    "### Cython Function"
   ]
  },
  {
   "cell_type": "code",
   "execution_count": 2,
   "metadata": {
    "collapsed": true
   },
   "outputs": [],
   "source": [
    "%load_ext cython"
   ]
  },
  {
   "cell_type": "code",
   "execution_count": 3,
   "metadata": {
    "collapsed": false
   },
   "outputs": [],
   "source": [
    "%%cython -lgsl -lgslcblas\n",
    "\n",
    "#Global Cython compiler directives\n",
    "#!python\n",
    "#cython: boundscheck=False, wraparound=False, nonecheck=False, cdivision=True\n",
    "\n",
    "#Import modules: \n",
    "\n",
    "#from cython.parallel import prange, parallel\n",
    "from libc.stdlib cimport rand, RAND_MAX, calloc, free, abort\n",
    "from libc.math cimport log\n",
    "\n",
    "#Use the CythonGSL package to get the low-level routines\n",
    "from cython_gsl cimport *\n",
    "\n",
    "######################### Define the Data Structure ############################\n",
    "\n",
    "cdef struct Parameters:\n",
    "    #Pointer for Y data array\n",
    "    double* Y\n",
    "    #size of the array\n",
    "    Py_ssize_t size\n",
    "\n",
    "################ Support Functions for Monte-Carlo Function ##################\n",
    "\n",
    "#This function fills in the Y observed variable with discreet 0/1\n",
    "cdef void Y_fill(Parameters* data, double p_true) nogil:\n",
    "    \n",
    "    cdef:\n",
    "        Py_ssize_t i, n\n",
    "        double y\n",
    "        \n",
    "    n = data.size\n",
    "    \n",
    "    for i in range(n):\n",
    "        \n",
    "        y = rand()/<double>RAND_MAX\n",
    "        \n",
    "        if y <= p_true:\n",
    "            data.Y[i] = 1 \n",
    "\n",
    "#Definition of the function to be maximized: LLF of Bernoulli\n",
    "cdef double LLF(double p, void* data) nogil:\n",
    "    \n",
    "    cdef:\n",
    "        #the sample structure (considered the parameter here)\n",
    "        Parameters* sample\n",
    "        \n",
    "        #the total of the LLF\n",
    "        double Sum = 0\n",
    "        \n",
    "        #the loop iterator\n",
    "        Py_ssize_t i, n\n",
    "    \n",
    "    sample = <Parameters*> data\n",
    "    \n",
    "    n = sample.size\n",
    "    \n",
    "    for i in range(n):\n",
    "        \n",
    "        Sum += sample.Y[i]*log(p) + (1-sample.Y[i])*log(1-p)\n",
    "    \n",
    "    return (-(Sum/n))\n",
    "\n",
    "########################## Monte-Carlo Function ##############################\n",
    "\n",
    "cpdef void Monte_Carlo(int[::1] Samples, double[:,::1] p_hat, \n",
    "                  Py_ssize_t Sims, double p_true) nogil:\n",
    "    \n",
    "    #Define variables and pointers\n",
    "    cdef:\n",
    "        #Data Structure\n",
    "        Parameters* Data\n",
    "            \n",
    "        #iterators\n",
    "        Py_ssize_t i, j\n",
    "        int status, Iter = 0, max_Iter = 100, \n",
    "        \n",
    "        #Variables\n",
    "        Py_ssize_t sample_size, N = Samples.shape[0] \n",
    "        double start_val, GSL_CONTINUE, a = 0, b = 1, tol = 1e-6\n",
    "        \n",
    "        #GSL objects and pointer\n",
    "        const gsl_min_fminimizer_type* T\n",
    "        gsl_min_fminimizer* s\n",
    "        gsl_function F\n",
    "    \n",
    "    #Set the GSL function\n",
    "    F.function = &LLF\n",
    "    \n",
    "    #Allocate the minimization routine\n",
    "    T = gsl_min_fminimizer_brent\n",
    "    s = gsl_min_fminimizer_alloc(T)\n",
    "    \n",
    "    #set the starting value\n",
    "    start_val = rand()/RAND_MAX\n",
    "        \n",
    "    for i in range(N):\n",
    "\n",
    "        sample_size = Samples[i]\n",
    "        \n",
    "        #allocate the struct \n",
    "        Data.size = sample_size\n",
    "    \n",
    "        Data.Y = <double*> calloc(sample_size, sizeof(double))\n",
    "        if Data.Y==NULL: abort()\n",
    "\n",
    "        try: \n",
    "\n",
    "            for j in range(Sims):\n",
    "\n",
    "                #fill in the Y array\n",
    "                Y_fill(Data, p_true)\n",
    "\n",
    "                #set the parameters for the GSL function (the samples)\n",
    "                F.params = <void*> Data\n",
    "                \n",
    "                #set the minimizer\n",
    "                gsl_min_fminimizer_set(s, &F, start_val, a, b)\n",
    "                \n",
    "                #initialize conditions\n",
    "                GSL_CONTINUE = -2\n",
    "                status = -2\n",
    "                \n",
    "                while (status == GSL_CONTINUE and Iter < max_Iter):\n",
    "                    \n",
    "                    Iter += 1\n",
    "                    status = gsl_min_fminimizer_iterate(s)\n",
    "\n",
    "                    start_val = gsl_min_fminimizer_x_minimum(s)\n",
    "                    a = gsl_min_fminimizer_x_lower(s)\n",
    "                    b = gsl_min_fminimizer_x_upper(s)\n",
    "\n",
    "                    status = gsl_min_test_interval(a, b, tol, 0.0)\n",
    "\n",
    "                    if (status == GSL_SUCCESS):\n",
    "                        p_hat[i,j] = start_val\n",
    "\n",
    "        finally:\n",
    "            free(Data)\n",
    "            \n",
    "    gsl_min_fminimizer_free(s)"
   ]
  },
  {
   "cell_type": "code",
   "execution_count": 4,
   "metadata": {
    "collapsed": true
   },
   "outputs": [],
   "source": [
    "import numpy as np"
   ]
  },
  {
   "cell_type": "code",
   "execution_count": 5,
   "metadata": {
    "collapsed": false
   },
   "outputs": [],
   "source": [
    "#First we will recreate the first cell in the matlab example in python\n",
    "\n",
    "#Sample Sizes\n",
    "N = np.array([5,50,500,5000], dtype='i')\n",
    "\n",
    "#Parameters for MC\n",
    "T = 1000\n",
    "p_true = 0.2\n",
    "\n",
    "#Array of the outputs from the MC\n",
    "p_hat = np.empty((N.size,T), dtype='d')\n",
    "p_hat.fill(np.nan)"
   ]
  },
  {
   "cell_type": "code",
   "execution_count": null,
   "metadata": {
    "collapsed": false
   },
   "outputs": [],
   "source": [
    "Monte_Carlo(N, p_hat, T, p_true)"
   ]
  },
  {
   "cell_type": "code",
   "execution_count": null,
   "metadata": {
    "collapsed": true
   },
   "outputs": [],
   "source": []
  }
 ],
 "metadata": {
  "kernelspec": {
   "display_name": "Python 3",
   "language": "python",
   "name": "python3"
  },
  "language_info": {
   "codemirror_mode": {
    "name": "ipython",
    "version": 3
   },
   "file_extension": ".py",
   "mimetype": "text/x-python",
   "name": "python",
   "nbconvert_exporter": "python",
   "pygments_lexer": "ipython3",
   "version": "3.6.0"
  }
 },
 "nbformat": 4,
 "nbformat_minor": 2
}
