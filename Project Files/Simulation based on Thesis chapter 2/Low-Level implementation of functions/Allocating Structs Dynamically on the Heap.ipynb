{
 "cells": [
  {
   "cell_type": "code",
   "execution_count": 1,
   "metadata": {
    "collapsed": false,
    "deletable": true,
    "editable": true
   },
   "outputs": [],
   "source": [
    "%load_ext cython"
   ]
  },
  {
   "cell_type": "code",
   "execution_count": 2,
   "metadata": {
    "collapsed": true,
    "deletable": true,
    "editable": true
   },
   "outputs": [],
   "source": [
    "import numpy as np"
   ]
  },
  {
   "cell_type": "code",
   "execution_count": 3,
   "metadata": {
    "collapsed": false,
    "deletable": true,
    "editable": true
   },
   "outputs": [],
   "source": [
    "%%cython\n",
    "\n",
    "#!python\n",
    "#cython: boundscheck=False, wraparound=False, nonecheck=False, cdivision=True\n",
    "\n",
    "#Import modules: \n",
    "\n",
    "#from cython.parallel import prange, parallel\n",
    "from libc.stdlib cimport rand, RAND_MAX, calloc, malloc, realloc, free, abort\n",
    "\n",
    "######################### Define the Data Structure ############################\n",
    "\n",
    "cdef struct Parameters:\n",
    "    #Pointer for Y data array\n",
    "    double* Y\n",
    "    #size of the array\n",
    "    int* Size\n",
    "\n",
    "################ Support Functions for Monte-Carlo Function ##################\n",
    "\n",
    "#Create a function that allocates the memory and verifies integrity\n",
    "cdef int alloc_struct(Parameters* data, int* N, unsigned int flag, int Mem_Int) nogil:\n",
    "    \n",
    "    #fill in the size of the array\n",
    "    data.Size = N\n",
    "    \n",
    "    #allocate the data array initially\n",
    "    if flag==0:\n",
    "        data.Y = <double*> calloc(N[0], sizeof(double))\n",
    "    #reallocate the data array\n",
    "    else:\n",
    "        data.Y = <double*> realloc(data.Y, N[0] * sizeof(double))\n",
    "    \n",
    "    #If the elements of the struct are not properly allocated, destory it and update the Integrity variable\n",
    "    if N[0]!=0 and data.Y==NULL:\n",
    "        \n",
    "        #return the memory to system\n",
    "        destroy_struct(data)\n",
    "        \n",
    "        #update the memory integrity variable to False\n",
    "        Mem_Int = False\n",
    "        \n",
    "        return Mem_Int\n",
    "    \n",
    "    else: return Mem_Int\n",
    "\n",
    "#Create the destructor of the struct to return memory to system\n",
    "cdef void destroy_struct(Parameters* data) nogil:\n",
    "    free(data.Y)\n",
    "    free(data)\n",
    "    \n",
    "#This function fills in the Y observed variable with discreet 0/1\n",
    "cdef void Y_fill(Parameters* data, double p_true) nogil:\n",
    "    \n",
    "    cdef:\n",
    "        Py_ssize_t i\n",
    "        double y\n",
    "    \n",
    "    for i in range(data.Size[0]):\n",
    "        \n",
    "        y = rand()/<double>RAND_MAX\n",
    "        \n",
    "        if y <= p_true:\n",
    "            data.Y[i] = 1\n",
    "    \n",
    "cpdef void TEST(int[::1] Samples, double p_true, Py_ssize_t Sims) nogil:\n",
    "    \n",
    "    #Define variables and pointers\n",
    "    cdef:\n",
    "        #Data Structure\n",
    "        Parameters* Data\n",
    "            \n",
    "        #iterators\n",
    "        Py_ssize_t i, j\n",
    "        \n",
    "        #Variables\n",
    "        int Mem_Int=True, N = Samples.shape[0]\n",
    "        \n",
    "    #allocate the struct dynamically\n",
    "    Data = <Parameters*> malloc(sizeof(Parameters))\n",
    "    \n",
    "    #verify memory integrity of the struct\n",
    "    if Data==NULL: abort()\n",
    "    \n",
    "    try:\n",
    "        \n",
    "        for i in range(N):\n",
    "            \n",
    "            #with gil:\n",
    "                #print('New Structure')\n",
    "\n",
    "            #allocate the elements of the struct (if i>0, reallocate)\n",
    "            Mem_Int = alloc_struct(Data, &Samples[i], i, Mem_Int)\n",
    "\n",
    "            #verify memory integrity (exit if memory not properly allocated)\n",
    "            if Mem_Int==False: abort() \n",
    "            \n",
    "            for j in range(Sims):\n",
    "                \n",
    "                #fill in the struct\n",
    "                Y_fill(Data, p_true)\n",
    "                \n",
    "    finally:\n",
    "        destroy_struct(Data)"
   ]
  },
  {
   "cell_type": "code",
   "execution_count": 4,
   "metadata": {
    "collapsed": true,
    "deletable": true,
    "editable": true
   },
   "outputs": [],
   "source": [
    "#First we will recreate the first cell in the matlab example in python\n",
    "\n",
    "#Sample Sizes\n",
    "N = np.array([5,50,500,5000], dtype='i')\n",
    "\n",
    "#Parameters\n",
    "T = 1000\n",
    "p_true = 0.05\n",
    "\n",
    "#Array of the outputs from the MC\n",
    "# p_hat = np.empty((N.size,T), dtype='d')\n",
    "# p_hat.fill(np.nan)"
   ]
  },
  {
   "cell_type": "code",
   "execution_count": 5,
   "metadata": {
    "collapsed": false,
    "deletable": true,
    "editable": true
   },
   "outputs": [
    {
     "name": "stdout",
     "output_type": "stream",
     "text": [
      "10 loops, best of 3: 39.6 ms per loop\n"
     ]
    }
   ],
   "source": [
    "%timeit TEST(N,p_true,T)"
   ]
  },
  {
   "cell_type": "code",
   "execution_count": null,
   "metadata": {
    "collapsed": true,
    "deletable": true,
    "editable": true
   },
   "outputs": [],
   "source": []
  }
 ],
 "metadata": {
  "kernelspec": {
   "display_name": "Python 3",
   "language": "python",
   "name": "python3"
  },
  "language_info": {
   "codemirror_mode": {
    "name": "ipython",
    "version": 3
   },
   "file_extension": ".py",
   "mimetype": "text/x-python",
   "name": "python",
   "nbconvert_exporter": "python",
   "pygments_lexer": "ipython3",
   "version": "3.6.0"
  }
 },
 "nbformat": 4,
 "nbformat_minor": 2
}
