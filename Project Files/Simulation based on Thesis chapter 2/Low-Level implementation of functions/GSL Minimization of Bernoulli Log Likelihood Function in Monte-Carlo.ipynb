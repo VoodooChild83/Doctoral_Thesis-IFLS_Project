{
 "cells": [
  {
   "cell_type": "markdown",
   "metadata": {
    "deletable": true,
    "editable": true
   },
   "source": [
    "## Cython/Python\n",
    "\n",
    "Here we will program the above cells in Python and call a Monte-Carlo function to yield us the outputs we desire. The Monte-Carlo function will be written in Cython and we will use the %timeit cell magic to give us a run-time of our Cython function. "
   ]
  },
  {
   "cell_type": "markdown",
   "metadata": {
    "deletable": true,
    "editable": true
   },
   "source": [
    "### Cython Function"
   ]
  },
  {
   "cell_type": "code",
   "execution_count": null,
   "metadata": {
    "collapsed": false,
    "deletable": true,
    "editable": true
   },
   "outputs": [],
   "source": [
    "%load_ext cython"
   ]
  },
  {
   "cell_type": "code",
   "execution_count": null,
   "metadata": {
    "collapsed": false,
    "deletable": true,
    "editable": true
   },
   "outputs": [],
   "source": [
    "%%cython -lgsl -lgslcblas\n",
    "\n",
    "#!python\n",
    "#cython: boundscheck=False, wraparound=False, nonecheck=False, cdivision=True\n",
    "\n",
    "#Import modules: \n",
    "\n",
    "#from cython.parallel import prange, parallel\n",
    "from libc.stdlib cimport rand, RAND_MAX, calloc, malloc, realloc, free, abort\n",
    "from libc.math cimport log, exp\n",
    "\n",
    "#Use the CythonGSL package to get the low-level routines\n",
    "from cython_gsl cimport *\n",
    "\n",
    "######################### Define the Data Structure ############################\n",
    "\n",
    "cdef struct Parameters:\n",
    "    #Pointer for Y data array\n",
    "    double* Y\n",
    "    #size of the array\n",
    "    int* Size\n",
    "\n",
    "################ Support Functions for Monte-Carlo Function ##################\n",
    "\n",
    "#Create a function that allocates the memory and verifies integrity\n",
    "cdef int alloc_struct(Parameters* data, int* N, unsigned int flag) nogil:\n",
    "    \n",
    "    cdef int Mem_Int = True\n",
    "    \n",
    "    #fill in the size of the array\n",
    "    data.Size = N\n",
    "    \n",
    "    #allocate the data array initially\n",
    "    if flag==0:\n",
    "        data.Y = <double*> calloc(N[0], sizeof(double))\n",
    "    #reallocate the data array\n",
    "    else:\n",
    "        data.Y = <double*> realloc(data.Y, N[0] * sizeof(double))\n",
    "    \n",
    "    #If the elements of the struct are not properly allocated, destory it and return null\n",
    "    if N[0]!=0 and data.Y==NULL:\n",
    "        \n",
    "        #return the memory to system\n",
    "        destroy_struct(data)\n",
    "        \n",
    "        #update the memory integrity variable to False\n",
    "        Mem_Int = False\n",
    "    \n",
    "    return Mem_Int\n",
    "\n",
    "#Create the destructor of the struct to return memory to system\n",
    "cdef void destroy_struct(Parameters* data) nogil:\n",
    "    free(data.Y)\n",
    "    free(data)\n",
    "\n",
    "#This function fills in the Y observed variable with discreet 0/1\n",
    "cdef void Y_fill(Parameters* data, double p_true):\n",
    "    \n",
    "    cdef:\n",
    "        Py_ssize_t i\n",
    "        double y\n",
    "    \n",
    "    for i in range(data.Size[0]):\n",
    "        \n",
    "        y = rand()/<double>RAND_MAX\n",
    "        \n",
    "        if y <= p_true:\n",
    "            data.Y[i] = 1.0\n",
    "\n",
    "#Definition of the function to be maximized: LLF of Bernoulli\n",
    "cdef double LLF(double p, void* data) nogil:\n",
    "    \n",
    "    cdef:\n",
    "        #the sample structure (considered the parameter here), recast\n",
    "        Parameters* sample = <Parameters*> data\n",
    "        \n",
    "        #the loop iterator\n",
    "        Py_ssize_t i, \n",
    "        int n = sample.Size[0]\n",
    "        \n",
    "        #the total of the LLF\n",
    "        double Sum = 0\n",
    "    \n",
    "    for i in range(n):\n",
    "        \n",
    "        if sample.Y[1]==1.0: Sum += log(p)\n",
    "        else: Sum += log(1-p)\n",
    "    \n",
    "    return (-Sum/n)\n",
    "\n",
    "########################## Monte-Carlo Function ##############################\n",
    "\n",
    "def Monte_Carlo(int[::1] Samples, double[:,::1] p_hat, \n",
    "                Py_ssize_t Sims, double p_true):\n",
    "     \n",
    "    #Define variables and pointers\n",
    "    cdef:\n",
    "        #Data Structure\n",
    "        Parameters* Data\n",
    "            \n",
    "        #iterators\n",
    "        Py_ssize_t i, j\n",
    "        int status, GSL_CONTINUE, Iter = 0, max_Iter = 100 \n",
    "        \n",
    "        #Variables\n",
    "        int N = Samples.shape[0], Mem_Int\n",
    "        double a, b, tol = 1e-6, start_val\n",
    "        \n",
    "        #GSL objects and pointer\n",
    "        const gsl_min_fminimizer_type* T\n",
    "        gsl_min_fminimizer* s\n",
    "        gsl_function F\n",
    "    \n",
    "    #Allocate the minimization routine\n",
    "    T = gsl_min_fminimizer_brent\n",
    "    s = gsl_min_fminimizer_alloc(T)\n",
    "    \n",
    "    #allocate the struct dynamically\n",
    "    Data = <Parameters*> malloc(sizeof(Parameters))\n",
    "    \n",
    "    #verify memory integrity\n",
    "    if Data==NULL or s==NULL: abort()\n",
    "        \n",
    "    #Set the GSL function\n",
    "    F.function = &LLF\n",
    "    F.params = <void*> Data\n",
    "    \n",
    "    try:\n",
    "        \n",
    "        for i in range(N): \n",
    "\n",
    "            #allocate the elements of the struct (if i>0, reallocate data array)\n",
    "            Mem_Int = alloc_struct(Data, &Samples[i], i)\n",
    "\n",
    "            #verify memory integrity\n",
    "            if Mem_Int==False: abort() \n",
    "\n",
    "            for j in range(Sims):\n",
    "\n",
    "                #fill the array in the struct\n",
    "                Y_fill(Data, p_true)\n",
    "\n",
    "                #set the parameters for the GSL function (the samples)\n",
    "                a = tol\n",
    "                b = 1000\n",
    "                \n",
    "                #set the starting value (random number)\n",
    "                start_val = rand()/<double>RAND_MAX\n",
    "               \n",
    "                #set the minimizer\n",
    "                gsl_min_fminimizer_set(s, &F, start_val, a, b)  \n",
    "\n",
    "                #initialize conditions\n",
    "                GSL_CONTINUE = -2\n",
    "                status = -2\n",
    "                Iter = 0\n",
    "\n",
    "                while (status == GSL_CONTINUE and Iter < max_Iter):\n",
    "\n",
    "                    Iter += 1\n",
    "                    status = gsl_min_fminimizer_iterate(s)\n",
    "\n",
    "                    start_val = gsl_min_fminimizer_x_minimum(s)\n",
    "                    a = gsl_min_fminimizer_x_lower(s)\n",
    "                    b = gsl_min_fminimizer_x_upper(s)\n",
    "\n",
    "                    status = gsl_min_test_interval(a, b, tol, 0.0)\n",
    "\n",
    "                    if (status == GSL_SUCCESS):\n",
    "                        p_hat[i,j] = start_val\n",
    "\n",
    "    finally:\n",
    "        destroy_struct(Data)\n",
    "        gsl_min_fminimizer_free(s)"
   ]
  },
  {
   "cell_type": "markdown",
   "metadata": {
    "deletable": true,
    "editable": true
   },
   "source": [
    "### Python Portion and Cython Function Call"
   ]
  },
  {
   "cell_type": "code",
   "execution_count": null,
   "metadata": {
    "collapsed": true,
    "deletable": true,
    "editable": true
   },
   "outputs": [],
   "source": [
    "import numpy as np"
   ]
  },
  {
   "cell_type": "code",
   "execution_count": null,
   "metadata": {
    "collapsed": false,
    "deletable": true,
    "editable": true
   },
   "outputs": [],
   "source": [
    "#First we will recreate the first cell in the matlab example in python\n",
    "\n",
    "#Sample Sizes\n",
    "N = np.array([5,50,500,5000], dtype='i')\n",
    "\n",
    "#Parameters for MC\n",
    "T = 1000\n",
    "p_true = 0.2\n",
    "\n",
    "#Array of the outputs from the MC\n",
    "p_hat = np.empty((N.size,T), dtype='d')\n",
    "p_hat.fill(np.nan)"
   ]
  },
  {
   "cell_type": "code",
   "execution_count": null,
   "metadata": {
    "collapsed": false,
    "deletable": true,
    "editable": true
   },
   "outputs": [],
   "source": [
    "Monte_Carlo(N, p_hat, T, p_true)"
   ]
  },
  {
   "cell_type": "code",
   "execution_count": null,
   "metadata": {
    "collapsed": true,
    "deletable": true,
    "editable": true
   },
   "outputs": [],
   "source": []
  }
 ],
 "metadata": {
  "kernelspec": {
   "display_name": "Python 3",
   "language": "python",
   "name": "python3"
  },
  "language_info": {
   "codemirror_mode": {
    "name": "ipython",
    "version": 3
   },
   "file_extension": ".py",
   "mimetype": "text/x-python",
   "name": "python",
   "nbconvert_exporter": "python",
   "pygments_lexer": "ipython3",
   "version": "3.6.0"
  }
 },
 "nbformat": 4,
 "nbformat_minor": 2
}
