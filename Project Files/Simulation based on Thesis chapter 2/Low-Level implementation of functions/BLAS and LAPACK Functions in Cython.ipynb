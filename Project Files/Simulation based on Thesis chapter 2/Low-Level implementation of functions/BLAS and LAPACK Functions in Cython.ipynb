{
 "cells": [
  {
   "cell_type": "code",
   "execution_count": 1,
   "metadata": {
    "collapsed": false,
    "deletable": true,
    "editable": true
   },
   "outputs": [],
   "source": [
    "%load_ext Cython\n",
    "import numpy as np\n",
    "from numpy import asfortranarray as Fort"
   ]
  },
  {
   "cell_type": "markdown",
   "metadata": {
    "deletable": true,
    "editable": true
   },
   "source": [
    "# The following Cython function is Fortran BLAS for Array Multiplication\n",
    "\n",
    "It takes in zeroed arrays from python's numpy  and outputs the array product as well as the filled-in array of the inputs. This is done as a concept test of the code to then test with numpy's dot product to ascertain if the cython code produces correct output. \n",
    "\n",
    "The array's must be fortran-contiguous (so the cython inputs specify that the stride of the arrays are column-major). The output of the array multiplication is also done column major to preserve output. "
   ]
  },
  {
   "cell_type": "code",
   "execution_count": 2,
   "metadata": {
    "collapsed": false,
    "deletable": true,
    "editable": true
   },
   "outputs": [],
   "source": [
    "%%cython \n",
    "\n",
    "#!python\n",
    "#cython: boundscheck=False, wraparound=False, nonecheck=False\n",
    "#cython: cdivision=True\n",
    "\n",
    "#Import module: the matrix multiplication module\n",
    "from scipy.linalg.cython_blas cimport dgemm\n",
    "\n",
    "from libc.stdlib cimport rand, RAND_MAX, calloc, malloc, free, abort\n",
    "\n",
    "####################################################################\n",
    "\n",
    "#Random Number Generator for \n",
    "cdef double rand_value(unsigned int MIN, unsigned int MAX) nogil:\n",
    "    cdef double scaled\n",
    "\n",
    "    #generate a random number between 0 and 1\n",
    "    scaled=rand()/<double>RAND_MAX\n",
    "\n",
    "    #return a random number between the min and the max\n",
    "    return (MAX*scaled + MIN)\n",
    "\n",
    "#Fill Arrays\n",
    "cdef void FILL_ARRAY(double* arr, size_t iter, \n",
    "                     unsigned int MIN, unsigned int MAX) nogil:\n",
    "    cdef Py_ssize_t i\n",
    "    for i in xrange(iter):\n",
    "        arr[i]=rand_value(MIN,MAX)\n",
    "        \n",
    "#Ouput Arrays (remember that we are in Fortran contiguous - column -major)\n",
    "#So cycle through the columns and not through the rows when putting into the \n",
    "#output cells.\n",
    "cdef void OUTPUT(double[::1,:] arr_out, double* arr, int rows, int col) nogil:\n",
    "    cdef Py_ssize_t i,j\n",
    "    \n",
    "    for i in xrange(col):\n",
    "        for j in xrange(rows):\n",
    "            arr_out[j,i] = arr[j + i*rows]\n",
    "\n",
    "cpdef void myfunc(double[::1,:] in1, double[::1,:] in2, double[::1,:] out,\n",
    "                  char* TransA, char* TransB) nogil:\n",
    "    cdef: \n",
    "        double* a \n",
    "        double* b \n",
    "        double* c\n",
    "        char* Trans='T'\n",
    "        char* No_Trans='N'\n",
    "        int m, n, k, lda, ldb, ldc, col_c\n",
    "        int row_a, row_b, col_a, col_b\n",
    "        unsigned int MIN=1, MAX=5\n",
    "        double alpha, beta\n",
    "    \n",
    "    #dimensions of input arrays\n",
    "    lda = in1.shape[0]\n",
    "    col_a = in1.shape[1]\n",
    "    ldb = in2.shape[0]\n",
    "    col_b = in2.shape[1]\n",
    "    \n",
    "    #dimensions of arrays post operation\n",
    "    if TransA[0]==Trans[0] and TransB[0]==No_Trans[0]:\n",
    "        m = col_a; n = col_b ; k = lda\n",
    "    elif TransB[0]==Trans[0] and TransA[0]==No_Trans[0]:\n",
    "        m = lda; n = ldb ; k = ldb\n",
    "    elif TransA[0]==Trans[0] and TransB[0]==Trans[0]:\n",
    "        m = col_a; n = ldb ; k = lda\n",
    "    else: \n",
    "        m = lda; n = col_b ; k = ldb\n",
    "    \n",
    "    #dimensions of array c\n",
    "    ldc = m; col_c = n\n",
    "    \n",
    "    a = <double*> malloc(lda*col_a * sizeof(double))\n",
    "    b = <double*> malloc(ldb*col_b * sizeof(double))    \n",
    "    c = <double*> calloc(ldc*col_c, sizeof(double))\n",
    "    \n",
    "    if a==NULL or b==NULL or c==NULL: abort()\n",
    "    \n",
    "    try:\n",
    "        #fill in arrays\n",
    "        FILL_ARRAY(a,lda*col_a,MIN,MAX)\n",
    "        FILL_ARRAY(b,ldb*col_b,MIN,MAX)\n",
    "\n",
    "        #scalars associated with C = beta*op(A)*op(B) + alpha*C\n",
    "        alpha = 1.0\n",
    "        beta = 0.0\n",
    "    \n",
    "        dgemm(TransA, TransB, &m, &n, &k, &alpha, a, &lda, b, &ldb, &beta, c, &ldc)\n",
    "        \n",
    "        OUTPUT(in1,a,lda,col_a)\n",
    "        OUTPUT(in2,b,ldb,col_b)\n",
    "        OUTPUT(out,c,ldc,col_c)\n",
    "        \n",
    "    finally:\n",
    "        free(a)\n",
    "        free(b)\n",
    "        free(c)"
   ]
  },
  {
   "cell_type": "markdown",
   "metadata": {
    "deletable": true,
    "editable": true
   },
   "source": [
    "The following takes in a memory view of the numpy array only (no use of malloc) and works on them directly . "
   ]
  },
  {
   "cell_type": "code",
   "execution_count": 3,
   "metadata": {
    "collapsed": false,
    "deletable": true,
    "editable": true
   },
   "outputs": [],
   "source": [
    "%%cython\n",
    "\n",
    "#!python\n",
    "#cython: boundscheck=False, wraparound=False, nonecheck=False\n",
    "#cython: cdivision=True\n",
    "\n",
    "#Import module: the matrix multiplication module\n",
    "from scipy.linalg.cython_blas cimport dgemm\n",
    "\n",
    "####################################################################\n",
    "\n",
    "cpdef void MM(double[::1,:] a, double[::1,:] b, \n",
    "              double[::1,:] out, char* TransA, char* TransB) nogil:\n",
    "    \n",
    "    cdef:\n",
    "        char* Trans='T'\n",
    "        char* No_Trans='N'\n",
    "        int m, n, k, lda, ldb, ldc\n",
    "        int col_a, col_b\n",
    "        double alpha, beta\n",
    "    \n",
    "    #dimensions of input arrays\n",
    "    lda = a.shape[0]\n",
    "    col_a = a.shape[1]\n",
    "    ldb = b.shape[0]\n",
    "    col_b = b.shape[1]\n",
    "    \n",
    "    #dimensions of arrays post operation (after transposing, or not)\n",
    "    if TransA[0]==Trans[0] and TransB[0]==No_Trans[0]:\n",
    "        m = col_a; n = col_b ; k = lda\n",
    "    elif TransB[0]==Trans[0] and TransA[0]==No_Trans[0]:\n",
    "        m = lda; n = ldb ; k = col_a\n",
    "    elif TransA[0]==Trans[0] and TransB[0]==Trans[0]:\n",
    "        m = col_a; n = ldb ; k = lda\n",
    "    else: \n",
    "        m = lda; n = col_b ; k = ldb\n",
    "    \n",
    "    #leading dimension of c from above\n",
    "    ldc = m\n",
    "    \n",
    "    #scalars associated with C = beta*op(A)*op(B) + alpha*C\n",
    "    alpha = 1.0\n",
    "    beta = 0.0\n",
    "    \n",
    "    #Fortran BLAS function for calculating the multiplication of arrays\n",
    "    dgemm(TransA, TransB, &m, &n, &k, &alpha, &a[0,0], &lda, &b[0,0], &ldb, &beta, &out[0,0], &ldc)\n"
   ]
  },
  {
   "cell_type": "code",
   "execution_count": 4,
   "metadata": {
    "collapsed": false,
    "deletable": true,
    "editable": true
   },
   "outputs": [],
   "source": [
    "n=3\n",
    "m=3\n",
    "k=6\n",
    "\n",
    "test_a = Fort(np.random.randint(2,size=(m,k)), dtype='d')\n",
    "test_b = Fort(np.random.randint(2,size=(k,n)), dtype='d')\n",
    "test_c = np.zeros((k,k), dtype='d', order='F')"
   ]
  },
  {
   "cell_type": "code",
   "execution_count": 7,
   "metadata": {
    "collapsed": false,
    "deletable": true,
    "editable": true
   },
   "outputs": [
    {
     "name": "stdout",
     "output_type": "stream",
     "text": [
      "The slowest run took 5.87 times longer than the fastest. This could mean that an intermediate result is being cached.\n",
      "100000 loops, best of 3: 3.06 µs per loop\n"
     ]
    }
   ],
   "source": [
    "%timeit MM(test_a,test_b,test_c,b\"T\",b\"T\")"
   ]
  },
  {
   "cell_type": "code",
   "execution_count": 6,
   "metadata": {
    "collapsed": false,
    "deletable": true,
    "editable": true
   },
   "outputs": [
    {
     "name": "stdout",
     "output_type": "stream",
     "text": [
      "The slowest run took 20.92 times longer than the fastest. This could mean that an intermediate result is being cached.\n",
      "1000000 loops, best of 3: 1.74 µs per loop\n"
     ]
    }
   ],
   "source": [
    "%timeit test_a.T.dot(test_b.T)"
   ]
  },
  {
   "cell_type": "markdown",
   "metadata": {
    "deletable": true,
    "editable": true
   },
   "source": [
    "# Cython code for the inverse of a square array with Fortran LAPACK\n",
    "\n",
    "This code takes in a square array and rewrites the array as the inverse of itself. It uses dgecon to test that the array is invertible (full rank). If the array is of full rank, then the input array is overwritten; if the array is singular then the array is not overwritten and an output statement to the effect is given."
   ]
  },
  {
   "cell_type": "code",
   "execution_count": 8,
   "metadata": {
    "collapsed": false,
    "deletable": true,
    "editable": true
   },
   "outputs": [],
   "source": [
    "%%cython\n",
    "\n",
    "#!python\n",
    "#cython: boundscheck=False, wraparound=False, nonecheck=False\n",
    "#cython: cdivision=True\n",
    "\n",
    "#Import module: the matrix multiplication module\n",
    "from scipy.linalg.cython_lapack cimport dgetrf, dgetri, dgecon, dlacpy, dlange\n",
    "\n",
    "from libc.stdlib cimport malloc, free, abort\n",
    "\n",
    "####################################################################\n",
    "cdef void OUTPUT(double[::1,:] arr_out, double* arr, int rows, int col) nogil:\n",
    "    \n",
    "    cdef Py_ssize_t i,j\n",
    "    \n",
    "    for i in xrange(col):\n",
    "        for j in xrange(rows):\n",
    "            arr_out[j,i] = arr[j + i*rows]\n",
    "\n",
    "cpdef void INV_M(double[::1,:] a) nogil:\n",
    "    cdef:\n",
    "        #array pointers\n",
    "        int* pivot\n",
    "        int* IWORK\n",
    "        double* a_copy\n",
    "        double* work\n",
    "        double* work_dgecon\n",
    "        \n",
    "        #variables characterizing the arrays\n",
    "        int m, n, lda, INFO, Lwork\n",
    "        double ANORM, RCOND, sing_tol = 1e-6\n",
    "        \n",
    "        #setting for the functions\n",
    "        char* NORM = 'I' #The infinity norm (consistent use between dlange & dgecon)\n",
    "        char* UPLO = 'O' #Any letter other then 'U' or 'L' will copy entire array\n",
    "    \n",
    "    #Dimensions of arrays\n",
    "    m = a.shape[0]\n",
    "    n = a.shape[1]\n",
    "    lda = m\n",
    "    Lwork = m**2\n",
    "\n",
    "    #manually allocate memory\n",
    "    #Note: 'work' can be used by both dlange and dgetri as its construction is the same\n",
    "    pivot = <int*> malloc(m * sizeof(int))\n",
    "    IWORK = <int*> malloc(n * sizeof(int))\n",
    "    a_copy = <double*> malloc(m*n * sizeof(double))\n",
    "    work = <double*> malloc(Lwork * sizeof(double))\n",
    "    work_dgecon = <double*> malloc(4*n * sizeof(double))\n",
    "    \n",
    "    if (pivot==NULL or IWORK==NULL or a_copy==NULL \n",
    "        or work==NULL or work_dgecon==NULL): \n",
    "            abort()\n",
    "    \n",
    "    try:\n",
    "        #First, create a copy of the array to invert\n",
    "        dlacpy(UPLO, &m, &n, &a[0,0], &lda, a_copy, &lda)\n",
    "        \n",
    "        #Next, compute the NORM(a) on the a_copy to preserve array a\n",
    "        ANORM = dlange(NORM, &m, &n, a_copy, &lda, work)\n",
    "        \n",
    "        #Conduct the LU factorization of the array a\n",
    "        dgetrf(&m, &n, a_copy, &lda, pivot, &INFO)\n",
    "        \n",
    "        #Check that LU factorization was successful:\n",
    "        if INFO==0:\n",
    "        \n",
    "            #Now use dgecon to check that the array is invertible (non-singular)\n",
    "            dgecon(NORM, &n, a_copy, &lda, &ANORM, &RCOND, work_dgecon, IWORK, &INFO)\n",
    "            \n",
    "            if RCOND > sing_tol:\n",
    "       \n",
    "                #Now use the LU factorization and the pivot information to invert\n",
    "                dgetri(&n, a_copy, &lda, pivot, work, &Lwork, &INFO)\n",
    "                \n",
    "                OUTPUT(a,a_copy,m,n)\n",
    "            \n",
    "            else: \n",
    "                with gil:\n",
    "                    print(\"Array is singular and will not be inverted\")\n",
    "            \n",
    "        else: \n",
    "            with gil:\n",
    "                print(\"The factor U is singular\")\n",
    "        \n",
    "    finally:\n",
    "        free(pivot)\n",
    "        free(work)\n",
    "        free(work_dgecon)\n",
    "        free(IWORK)\n",
    "        free(a_copy)"
   ]
  },
  {
   "cell_type": "markdown",
   "metadata": {
    "deletable": true,
    "editable": true
   },
   "source": [
    "Test the Cython functions for matrix multiplication and inversion"
   ]
  },
  {
   "cell_type": "code",
   "execution_count": 50,
   "metadata": {
    "collapsed": true,
    "deletable": true,
    "editable": true
   },
   "outputs": [],
   "source": [
    "n=4\n",
    "m=4\n",
    "k=3\n",
    "\n",
    "a = np.zeros((m,k), dtype='d', order='F')\n",
    "b = np.zeros((k,n), dtype='d', order='F')\n",
    "c = np.zeros((m,n), dtype='d', order='F')"
   ]
  },
  {
   "cell_type": "code",
   "execution_count": 51,
   "metadata": {
    "collapsed": false,
    "deletable": true,
    "editable": true
   },
   "outputs": [],
   "source": [
    "myfunc(a,b,c,b'N',b'N')"
   ]
  },
  {
   "cell_type": "code",
   "execution_count": 52,
   "metadata": {
    "collapsed": false,
    "deletable": true,
    "editable": true
   },
   "outputs": [
    {
     "name": "stdout",
     "output_type": "stream",
     "text": [
      "[[ 30.46644183  23.29393259  33.51062539  33.25664379]\n",
      " [ 17.40451611  20.67289111  20.83262244  26.91747411]\n",
      " [ 43.12236564  39.88345658  49.54803621  54.60530938]\n",
      " [ 27.52262801  24.96112473  32.2681151   34.4646216 ]]\n"
     ]
    }
   ],
   "source": [
    "print(c)"
   ]
  },
  {
   "cell_type": "code",
   "execution_count": 53,
   "metadata": {
    "collapsed": false,
    "deletable": true,
    "editable": true
   },
   "outputs": [
    {
     "name": "stdout",
     "output_type": "stream",
     "text": [
      "[[ 30.46644183  23.29393259  33.51062539  33.25664379]\n",
      " [ 17.40451611  20.67289111  20.83262244  26.91747411]\n",
      " [ 43.12236564  39.88345658  49.54803621  54.60530938]\n",
      " [ 27.52262801  24.96112473  32.2681151   34.4646216 ]]\n"
     ]
    }
   ],
   "source": [
    "print(a.dot(b))"
   ]
  },
  {
   "cell_type": "code",
   "execution_count": 54,
   "metadata": {
    "collapsed": false,
    "deletable": true,
    "editable": true
   },
   "outputs": [
    {
     "name": "stdout",
     "output_type": "stream",
     "text": [
      "Array is singulary and will not be inverted\n"
     ]
    }
   ],
   "source": [
    "INV_M(c)"
   ]
  },
  {
   "cell_type": "code",
   "execution_count": 55,
   "metadata": {
    "collapsed": false,
    "deletable": true,
    "editable": true
   },
   "outputs": [
    {
     "name": "stdout",
     "output_type": "stream",
     "text": [
      "[[ 30.46644183  23.29393259  33.51062539  33.25664379]\n",
      " [ 17.40451611  20.67289111  20.83262244  26.91747411]\n",
      " [ 43.12236564  39.88345658  49.54803621  54.60530938]\n",
      " [ 27.52262801  24.96112473  32.2681151   34.4646216 ]]\n"
     ]
    }
   ],
   "source": [
    "print(c) #Because the array is deemed singular, it is not overwritten!!"
   ]
  },
  {
   "cell_type": "code",
   "execution_count": 56,
   "metadata": {
    "collapsed": false,
    "deletable": true,
    "editable": true
   },
   "outputs": [
    {
     "name": "stdout",
     "output_type": "stream",
     "text": [
      "[[ -1.50779259e+13  -1.74356438e+13   2.56124361e+13  -1.24130277e+13]\n",
      " [ -1.66706541e+14  -1.92774250e+14   2.83179575e+14  -1.37242544e+14]\n",
      " [ -3.08200977e+13  -3.56394009e+13   5.23532078e+13  -2.53729014e+13]\n",
      " [  1.61634543e+14   1.86909150e+14  -2.74563919e+14   1.33066980e+14]]\n"
     ]
    }
   ],
   "source": [
    "print (np.linalg.inv(a.dot(b)))"
   ]
  },
  {
   "cell_type": "markdown",
   "metadata": {
    "deletable": true,
    "editable": true
   },
   "source": [
    "The above shows that the Cython function can catch a singular array and prevent the work of inverting it, whereas NUMPY will invert the array even though it is clearly singular. In theory, the LU decomposition should not occur if the array is singular. However, LU decomposition can still occur because of machine precision on what '0' is. So using DGECON Fortran subroutine can get us (to a tolerance) a condition of rank, and prevent the inversion if we do not meet it. \n",
    "\n",
    "Now to test if the Cython function is faster than numpy."
   ]
  },
  {
   "cell_type": "code",
   "execution_count": 31,
   "metadata": {
    "collapsed": false,
    "deletable": true,
    "editable": true
   },
   "outputs": [],
   "source": [
    "d = np.random.randint(5,size=(1000,1000)).astype('d')"
   ]
  },
  {
   "cell_type": "code",
   "execution_count": 32,
   "metadata": {
    "collapsed": false,
    "deletable": true,
    "editable": true
   },
   "outputs": [
    {
     "data": {
      "text/plain": [
       "1000"
      ]
     },
     "execution_count": 32,
     "metadata": {},
     "output_type": "execute_result"
    }
   ],
   "source": [
    "np.linalg.matrix_rank(d)"
   ]
  },
  {
   "cell_type": "code",
   "execution_count": 33,
   "metadata": {
    "collapsed": true,
    "deletable": true,
    "editable": true
   },
   "outputs": [],
   "source": [
    "e = Fort(d.copy(), dtype='d')\n",
    "f = Fort(d.copy(), dtype='d')"
   ]
  },
  {
   "cell_type": "code",
   "execution_count": 34,
   "metadata": {
    "collapsed": false,
    "deletable": true,
    "editable": true
   },
   "outputs": [
    {
     "name": "stdout",
     "output_type": "stream",
     "text": [
      "10 loops, best of 3: 29.9 ms per loop\n"
     ]
    }
   ],
   "source": [
    "%timeit INV_M(e)"
   ]
  },
  {
   "cell_type": "code",
   "execution_count": 35,
   "metadata": {
    "collapsed": false,
    "deletable": true,
    "editable": true
   },
   "outputs": [
    {
     "name": "stdout",
     "output_type": "stream",
     "text": [
      "10 loops, best of 3: 34.2 ms per loop\n"
     ]
    }
   ],
   "source": [
    "%timeit np.linalg.inv(d)"
   ]
  },
  {
   "cell_type": "code",
   "execution_count": 38,
   "metadata": {
    "collapsed": false,
    "deletable": true,
    "editable": true
   },
   "outputs": [
    {
     "name": "stdout",
     "output_type": "stream",
     "text": [
      "10 loops, best of 3: 32.2 ms per loop\n"
     ]
    }
   ],
   "source": [
    "%timeit np.linalg.inv(f)"
   ]
  },
  {
   "cell_type": "markdown",
   "metadata": {
    "deletable": true,
    "editable": true
   },
   "source": [
    "For the Cython test the array MUST be Fortran contiguous. For the Numpy test we can see that a fortran contiguous array is faster for inverting than a C contiguous (likely because numpy is making Fortran calls); however it is slower than the Cython function. "
   ]
  },
  {
   "cell_type": "markdown",
   "metadata": {
    "deletable": true,
    "editable": true
   },
   "source": [
    "# Test code in Cython for making a copy of an array using LAPACK routines"
   ]
  },
  {
   "cell_type": "code",
   "execution_count": 39,
   "metadata": {
    "collapsed": false,
    "deletable": true,
    "editable": true
   },
   "outputs": [],
   "source": [
    "%%cython\n",
    "\n",
    "#!python\n",
    "#cython: boundscheck=False, wraparound=False, nonecheck=False\n",
    "#cython: cdivision=True\n",
    "\n",
    "#Import module: the matrix multiplication module\n",
    "from scipy.linalg.cython_lapack cimport dlacpy\n",
    "from libc.stdlib cimport malloc, free, abort\n",
    "\n",
    "cdef void OUTPUT(double[::1,:] arr_out, double* arr, int rows, int col) nogil:\n",
    "    cdef Py_ssize_t i,j\n",
    "    \n",
    "    for i in xrange(col):\n",
    "        for j in xrange(rows):\n",
    "            arr_out[j,i] = arr[j + i*rows]\n",
    "\n",
    "def COPY(double[::1,:] a, double[::1,:] b, char* UPLO):\n",
    "    \n",
    "    cdef:\n",
    "        double* a_copy\n",
    "        int m, n, lda, INFO\n",
    "   \n",
    "    #Dimensions of arrays\n",
    "    m = a.shape[0]\n",
    "    n = a.shape[1]\n",
    "    lda = m\n",
    "    \n",
    "    a_copy = <double*> malloc(m*n * sizeof(double))\n",
    "    \n",
    "    if a_copy==NULL: abort()\n",
    "\n",
    "    #First, create a copy of the array to invert\n",
    "    dlacpy(UPLO, &m, &n, &a[0,0], &lda, a_copy, &lda)\n",
    "    \n",
    "    OUTPUT(b, a_copy, m, n)\n",
    "    \n",
    "    free(a_copy)\n"
   ]
  },
  {
   "cell_type": "code",
   "execution_count": 40,
   "metadata": {
    "collapsed": false,
    "deletable": true,
    "editable": true
   },
   "outputs": [
    {
     "name": "stdout",
     "output_type": "stream",
     "text": [
      "[[ 1.  4.  1.  1.]\n",
      " [ 0.  4.  2.  4.]\n",
      " [ 2.  4.  3.  3.]\n",
      " [ 2.  3.  0.  1.]]\n"
     ]
    }
   ],
   "source": [
    "f = Fort(np.random.randint(5,size=(4,4)), dtype='d')\n",
    "g = Fort(np.empty_like(f), dtype='d')\n",
    "g.fill(np.nan)\n",
    "print(f)"
   ]
  },
  {
   "cell_type": "code",
   "execution_count": 41,
   "metadata": {
    "collapsed": false,
    "deletable": true,
    "editable": true
   },
   "outputs": [],
   "source": [
    "COPY(f,g,b'O')"
   ]
  },
  {
   "cell_type": "code",
   "execution_count": 42,
   "metadata": {
    "collapsed": false,
    "deletable": true,
    "editable": true
   },
   "outputs": [
    {
     "data": {
      "text/plain": [
       "array([[ 1.,  4.,  1.,  1.],\n",
       "       [ 0.,  4.,  2.,  4.],\n",
       "       [ 2.,  4.,  3.,  3.],\n",
       "       [ 2.,  3.,  0.,  1.]])"
      ]
     },
     "execution_count": 42,
     "metadata": {},
     "output_type": "execute_result"
    }
   ],
   "source": [
    "g"
   ]
  }
 ],
 "metadata": {
  "kernelspec": {
   "display_name": "Python 3",
   "language": "python",
   "name": "python3"
  },
  "language_info": {
   "codemirror_mode": {
    "name": "ipython",
    "version": 3
   },
   "file_extension": ".py",
   "mimetype": "text/x-python",
   "name": "python",
   "nbconvert_exporter": "python",
   "pygments_lexer": "ipython3",
   "version": "3.6.0"
  }
 },
 "nbformat": 4,
 "nbformat_minor": 1
}
