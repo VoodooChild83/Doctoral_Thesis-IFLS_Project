{
 "cells": [
  {
   "cell_type": "code",
   "execution_count": 1,
   "metadata": {
    "collapsed": false
   },
   "outputs": [],
   "source": [
    "%load_ext Cython\n",
    "import numpy as np\n",
    "from numpy import asfortranarray as Fort\n",
    "from scipy.linalg.blas import dgemm as DG"
   ]
  },
  {
   "cell_type": "markdown",
   "metadata": {},
   "source": [
    "# The following Cython function is low-level BLAS for Array Multiplication\n",
    "\n",
    "It takes in zeroed arrays from python's numpy  and outputs the array product as well as the filled-in array of the inputs. This is done as a concept test of the code to then test with numpy's dot product to ascertain if the cython code produces correct output. \n",
    "\n",
    "The array's must be fortran-contiguous (so the cython inputs specify that the stride of the arrays are column-major). The output of the array multiplication is also done column major to preserve output. "
   ]
  },
  {
   "cell_type": "code",
   "execution_count": 2,
   "metadata": {
    "collapsed": false
   },
   "outputs": [],
   "source": [
    "%%cython \n",
    "\n",
    "#!python\n",
    "#cython: boundscheck=False\n",
    "#cython: wraparound=False\n",
    "#cython: nonecheck=False\n",
    "#cython: cdivision=True\n",
    "\n",
    "#Import module: the matrix multiplication module\n",
    "from scipy.linalg.cython_blas cimport dgemm\n",
    "\n",
    "from libc.stdlib cimport rand, RAND_MAX, calloc, malloc, free\n",
    "\n",
    "####################################################################\n",
    "\n",
    "#Random Number Generator for \n",
    "cdef double rand_value(unsigned int MIN, unsigned int MAX) nogil:\n",
    "    cdef double scaled\n",
    "\n",
    "    #generate a random number between 0 and 1\n",
    "    scaled=rand()/<double>RAND_MAX\n",
    "\n",
    "    #return a random number between the min and the max\n",
    "    return (MAX*scaled + MIN)\n",
    "\n",
    "#Fill Arrays\n",
    "cdef void FILL_ARRAY(double* arr, size_t iter, \n",
    "                     unsigned int MIN, unsigned int MAX) nogil:\n",
    "    cdef Py_ssize_t i\n",
    "    for i in xrange(iter):\n",
    "        arr[i]=rand_value(MIN,MAX)\n",
    "        \n",
    "#Ouput Arrays (remember that we are in Fortran contiguous - column -major)\n",
    "#So cycle through the columns and not through the rows when putting into the \n",
    "#output cells.\n",
    "cdef void OUTPUT(double[::1,:] arr_out, double* arr, int rows, int col) nogil:\n",
    "    cdef Py_ssize_t i,j\n",
    "    \n",
    "    for i in xrange(col):\n",
    "        for j in xrange(rows):\n",
    "            arr_out[j,i] = arr[j + i*rows]\n",
    "\n",
    "cpdef void myfunc(double[::1,:] in1, double[::1,:] in2, double[::1,:] out,\n",
    "                  char* TransA, char* TransB) nogil:\n",
    "    cdef: \n",
    "        double* a \n",
    "        double* b \n",
    "        double* c\n",
    "        char* Trans='T'\n",
    "        char* No_Trans='N'\n",
    "        int m, n, k, lda, ldb, ldc, col_c\n",
    "        int row_a, row_b, col_a, col_b\n",
    "        unsigned int MIN=1, MAX=5\n",
    "        double alpha, beta\n",
    "    \n",
    "    #dimensions of input arrays\n",
    "    lda = in1.shape[0]\n",
    "    col_a = in1.shape[1]\n",
    "    ldb = in2.shape[0]\n",
    "    col_b = in2.shape[1]\n",
    "    \n",
    "    #dimensions of arrays post operation\n",
    "    if TransA[0]==Trans[0] and TransB[0]==No_Trans[0]:\n",
    "        m = col_a; n = col_b ; k = lda\n",
    "    elif TransB[0]==Trans[0] and TransA[0]==No_Trans[0]:\n",
    "        m = lda; n = ldb ; k = ldb\n",
    "    elif TransA[0]==Trans[0] and TransB[0]==Trans[0]:\n",
    "        m = col_a; n = ldb ; k = lda\n",
    "    else: \n",
    "        m = lda; n = col_b ; k = ldb\n",
    "    \n",
    "    #dimensions of array c\n",
    "    ldc = m; col_c = n\n",
    "    \n",
    "    a = <double*> malloc(lda*col_a * sizeof(double))\n",
    "    b = <double*> malloc(ldb*col_b * sizeof(double))    \n",
    "    c = <double*> calloc(ldc*col_c, sizeof(double))\n",
    "    \n",
    "    with gil:\n",
    "        if not (a or b or c): raise MemoryError()\n",
    "    \n",
    "    try:\n",
    "        #fill in arrays\n",
    "        FILL_ARRAY(a,lda*col_a,MIN,MAX)\n",
    "        FILL_ARRAY(b,ldb*col_b,MIN,MAX)\n",
    "\n",
    "        #scalars associated with C = beta*op(A)*op(B) + alpha*C\n",
    "        alpha = 1.0\n",
    "        beta = 0.0\n",
    "    \n",
    "        dgemm(TransA, TransB, &m, &n, &k, &alpha, a, &lda, b, &ldb, &beta, c, &ldc)\n",
    "        \n",
    "        OUTPUT(in1,a,lda,col_a)\n",
    "        OUTPUT(in2,b,ldb,col_b)\n",
    "        OUTPUT(out,c,ldc,col_c)\n",
    "        \n",
    "    finally:\n",
    "        free(a)\n",
    "        free(b)\n",
    "        free(c)"
   ]
  },
  {
   "cell_type": "code",
   "execution_count": 36,
   "metadata": {
    "collapsed": true
   },
   "outputs": [],
   "source": [
    "n=4\n",
    "m=4\n",
    "k=3\n",
    "\n",
    "test_a = np.zeros((m,k), dtype='d', order='F')\n",
    "test_b = np.zeros((k,n), dtype='d', order='F')\n",
    "test_c = np.zeros((m,n), dtype='d', order='F')"
   ]
  },
  {
   "cell_type": "markdown",
   "metadata": {},
   "source": [
    "The following takes in a memory view of the numpy array only (no use of malloc) and works on them directly . "
   ]
  },
  {
   "cell_type": "code",
   "execution_count": 7,
   "metadata": {
    "collapsed": false
   },
   "outputs": [],
   "source": [
    "%%cython\n",
    "\n",
    "#!python\n",
    "#cython: boundscheck=False\n",
    "#cython: wraparound=False\n",
    "#cython: nonecheck=False\n",
    "#cython: cdivision=True\n",
    "\n",
    "#Import module: the matrix multiplication module\n",
    "from scipy.linalg.cython_blas cimport dgemm\n",
    "\n",
    "####################################################################\n",
    "\n",
    "cpdef void MM(double[::1,:] a, double[::1,:] b, \n",
    "              double[::1,:] out, char* TransA, char* TransB) nogil:\n",
    "    \n",
    "    cdef:\n",
    "        char* Trans='T'\n",
    "        char* No_Trans='N'\n",
    "        int m, n, k, lda, ldb, ldc\n",
    "        int col_a, col_b\n",
    "        double alpha, beta\n",
    "    \n",
    "    #dimensions of input arrays\n",
    "    lda = a.shape[0]\n",
    "    col_a = a.shape[1]\n",
    "    ldb = b.shape[0]\n",
    "    col_b = b.shape[1]\n",
    "    \n",
    "    #dimensions of arrays post operation (after transposing, or not)\n",
    "    if TransA[0]==Trans[0] and TransB[0]==No_Trans[0]:\n",
    "        m = col_a; n = col_b ; k = lda\n",
    "    elif TransB[0]==Trans[0] and TransA[0]==No_Trans[0]:\n",
    "        m = lda; n = ldb ; k = col_a\n",
    "    elif TransA[0]==Trans[0] and TransB[0]==Trans[0]:\n",
    "        m = col_a; n = ldb ; k = lda\n",
    "    else: \n",
    "        m = lda; n = col_b ; k = ldb\n",
    "    \n",
    "    #leading dimension of c from above\n",
    "    ldc = m\n",
    "    \n",
    "    #scalars associated with C = beta*op(A)*op(B) + alpha*C\n",
    "    alpha = 1.0\n",
    "    beta = 0.0\n",
    "    \n",
    "    #Fortran BLAS function for calculating the multiplication of arrays\n",
    "    dgemm(TransA, TransB, &m, &n, &k, &alpha, &a[0,0], &lda, &b[0,0], &ldb, &beta, &out[0,0], &ldc)\n"
   ]
  },
  {
   "cell_type": "code",
   "execution_count": 31,
   "metadata": {
    "collapsed": false
   },
   "outputs": [],
   "source": [
    "n=3\n",
    "m=3\n",
    "k=6\n",
    "\n",
    "test_a = Fort(np.random.randint(2,size=(m,k)), dtype='d')\n",
    "test_b = Fort(np.random.randint(2,size=(k,n)), dtype='d')\n",
    "test_c = np.zeros((k,k), dtype='d', order='F')"
   ]
  },
  {
   "cell_type": "code",
   "execution_count": null,
   "metadata": {
    "collapsed": true
   },
   "outputs": [],
   "source": [
    "%testit MM(test_a,test_b,test_c,\"T\",\"T\")"
   ]
  },
  {
   "cell_type": "markdown",
   "metadata": {},
   "source": [
    "# Cython code for the inverse of a square array\n",
    "\n",
    "This code takes in a square array and rewrites the array as the inverse of itself. "
   ]
  },
  {
   "cell_type": "code",
   "execution_count": 15,
   "metadata": {
    "collapsed": false
   },
   "outputs": [],
   "source": [
    "%%cython\n",
    "\n",
    "#!python\n",
    "#cython: boundscheck=False\n",
    "#cython: wraparound=False\n",
    "#cython: nonecheck=False\n",
    "#cython: cdivision=True\n",
    "\n",
    "#Import module: the matrix multiplication module\n",
    "from scipy.linalg.cython_lapack cimport dgetrf, dgetri\n",
    "\n",
    "from libc.stdlib cimport malloc, free\n",
    "\n",
    "####################################################################\n",
    "\n",
    "cpdef void INV_M(double[::1,:] a) nogil:\n",
    "    cdef:\n",
    "        int* pivot\n",
    "        double* work\n",
    "        int m, n, lda, INFO, Lwork\n",
    "    \n",
    "    #Dimensions of arrays\n",
    "    m = a.shape[0]\n",
    "    n = a.shape[1]\n",
    "    lda = m\n",
    "    Lwork = m**2\n",
    "\n",
    "    #manually allocate the temporary array c for the output\n",
    "    pivot = <int*> malloc(m * sizeof(int))\n",
    "    work = <double*> malloc(Lwork * sizeof(double))\n",
    "    \n",
    "    with gil:\n",
    "        if not (pivot or work): raise MemoryError()\n",
    "    \n",
    "    try:\n",
    "        #First, Conduct the LU factorization of the array\n",
    "        dgetrf(&m, &n, &a[0,0], &lda, &pivot[0], &INFO)\n",
    "        #Now use the LU factorization and the pivot information to inverse\n",
    "        dgetri(&n, &a[0,0], &lda, &pivot[0], &work[0], &Lwork, &INFO)\n",
    "        \n",
    "    finally:\n",
    "        free(pivot)\n",
    "        free(work)"
   ]
  },
  {
   "cell_type": "code",
   "execution_count": 34,
   "metadata": {
    "collapsed": true
   },
   "outputs": [],
   "source": [
    "INV_M(test_c)"
   ]
  },
  {
   "cell_type": "code",
   "execution_count": 35,
   "metadata": {
    "collapsed": false
   },
   "outputs": [
    {
     "name": "stdout",
     "output_type": "stream",
     "text": [
      "[[ 0.01240349 -0.00179716 -0.00196759 -0.00256198 -0.00231155 -0.00145656]\n",
      " [-0.00179716  0.0116299  -0.00175464 -0.00177647 -0.00244694 -0.00296923]\n",
      " [-0.00196759 -0.00175464  0.01137267 -0.00176311 -0.00244331 -0.00092717]\n",
      " [-0.00256198 -0.00177647 -0.00176311  0.01126294 -0.00042601 -0.00251885]\n",
      " [-0.00231155 -0.00244694 -0.00244331 -0.00042601  0.0119643  -0.00184702]\n",
      " [-0.00145656 -0.00296923 -0.00092717 -0.00251885 -0.00184702  0.01117136]]\n"
     ]
    }
   ],
   "source": [
    "print (test_c)"
   ]
  },
  {
   "cell_type": "code",
   "execution_count": null,
   "metadata": {
    "collapsed": true
   },
   "outputs": [],
   "source": []
  }
 ],
 "metadata": {
  "kernelspec": {
   "display_name": "Python 2",
   "language": "python",
   "name": "python2"
  },
  "language_info": {
   "codemirror_mode": {
    "name": "ipython",
    "version": 2
   },
   "file_extension": ".py",
   "mimetype": "text/x-python",
   "name": "python",
   "nbconvert_exporter": "python",
   "pygments_lexer": "ipython2",
   "version": "2.7.13"
  }
 },
 "nbformat": 4,
 "nbformat_minor": 1
}
