{
 "cells": [
  {
   "cell_type": "markdown",
   "metadata": {
    "deletable": true,
    "editable": true
   },
   "source": [
    "# Comparison of minimization routines in Cython and Matlab\n",
    "\n",
    "This serves as a testing platform to learn how to implement the GSL minimization routine in Cython. As Economists tend to use Matlab as a default platform this will form the benchmark. \n",
    "\n",
    "The exercise through which we will learn how to use the GSL algorithms implements through a Monte-Carlo simulation the asymptotic convergence of the exponential distribution. This will be a one-dimensional minimization routine. "
   ]
  },
  {
   "cell_type": "markdown",
   "metadata": {
    "deletable": true,
    "editable": true
   },
   "source": [
    "A single observation drawn from the exponential distribtuion has the following pdf when $\\lambda>0$:\n",
    "\n",
    "\\begin{equation*}\n",
    "f_{Y}(y;p_{0}) = \\lambda\\cdot e^{-\\lambda\\cdot y}\n",
    "\\end{equation*}\n",
    "\n",
    "We will suppose we have an i.i.d. sample of observations of y, so we can take the joint pdf of the y samples as:\n",
    "\n",
    "\\begin{align*}\n",
    "f_{Y}(y_{1},...,y_{n};p_{0}) &= \\prod_{i=1}^{n}\\lambda\\cdot e^{-\\lambda\\cdot y_{i}}\\\\\n",
    "&=\\lambda^{n}\\cdot e^{-\\lambda\\sum_{i=1}^{n}y_{i}}\n",
    "\\end{align*}\n",
    "\n",
    "Applying logs to the above equation gives us the log-likelihood function:\n",
    "\n",
    "\\begin{equation*}\n",
    "\\mathcal{L}(p_{0};y_1...y_n) = \\log f\\left(y_1,...,y_n; p_{0}\\right)=n\\log(\\lambda) - \\lambda\\sum_{i=1}^{n}y_{i}\n",
    "\\end{equation*}\n",
    "\n",
    "We will set up a Monte-Carlo by using the population lambda as $\\lambda=0.67$ to generate a vector y, that we will then use as our observed variable. For each sample size we will run 1000 simulations.\n",
    "\n",
    "The maximum likelihood estimator of $\\widehat{\\lambda}$ is $\\frac{1}{\\bar{y}}$, where $\\bar{y}$ is the average of the observed values. Despite this we will maximize the likelihood function to test the speed comparisons and learn to use GSL in Cython. Since we will have to run many minimization routines on different sample sizes we will write an external function that estimates the probability through maximization. We know that $\\lambda>0$. We will make use of this as Matlab2015b allows for parallelization of fmincon, but not fminunc."
   ]
  },
  {
   "cell_type": "markdown",
   "metadata": {
    "deletable": true,
    "editable": true
   },
   "source": [
    " ## Matlab\n",
    " \n",
    " Load matlab magic and set up parallel (optionally remove parallel implementation for a setial comparison)."
   ]
  },
  {
   "cell_type": "code",
   "execution_count": 1,
   "metadata": {
    "collapsed": false,
    "deletable": true,
    "editable": true
   },
   "outputs": [
    {
     "name": "stderr",
     "output_type": "stream",
     "text": [
      "/usr/local/lib/python3.6/site-packages/IPython/nbformat.py:13: ShimWarning: The `IPython.nbformat` package has been deprecated. You should import from nbformat instead.\n",
      "  \"You should import from nbformat instead.\", ShimWarning)\n"
     ]
    },
    {
     "name": "stdout",
     "output_type": "stream",
     "text": [
      "Starting MATLAB on ZMQ socket ipc:///tmp/pymatbridge-60a376da-06e4-49aa-aff9-797d256b129a\n",
      "Send 'exit' command to kill the server\n",
      ".......MATLAB started and connected!\n"
     ]
    }
   ],
   "source": [
    "%load_ext pymatbridge"
   ]
  },
  {
   "cell_type": "code",
   "execution_count": 2,
   "metadata": {
    "collapsed": false,
    "deletable": true,
    "editable": true
   },
   "outputs": [
    {
     "data": {
      "text/plain": [
       "Starting parallel pool (parpool) using the 'local' profile ... connected to 4 workers.\n",
       "\n",
       "ans = \n",
       "\n",
       " Pool with properties: \n",
       "\n",
       "            Connected: true\n",
       "           NumWorkers: 4\n",
       "              Cluster: local\n",
       "        AttachedFiles: {}\n",
       "          IdleTimeout: 30 minute(s) (30 minutes remaining)\n",
       "          SpmdEnabled: true\n",
       "\n"
      ]
     },
     "metadata": {},
     "output_type": "display_data"
    }
   ],
   "source": [
    "%%matlab\n",
    "clear all; clc; parpool"
   ]
  },
  {
   "cell_type": "code",
   "execution_count": 3,
   "metadata": {
    "collapsed": false,
    "deletable": true,
    "editable": true
   },
   "outputs": [],
   "source": [
    "%%matlab\n",
    "\n",
    "%We are asked for sample sizes N=5,50,500. Let's create a\n",
    "%vector of these samples sizes (I did this with an extra\n",
    "%sample size to get nicer graph outputs).\n",
    "\n",
    "N=[5;50;500;5000];\n",
    "\n",
    "%population probability\n",
    "lam_true = 0.67;\n",
    "\n",
    "%Simulation run\n",
    "T=1000;\n",
    "\n",
    "%Initialize the vectors for the output of the Monte Carlo\n",
    "%We will initialize a vector of 1000x4, since we have 4\n",
    "%sample sizes, that is the size of the N vector we created\n",
    "%is 4x1.\n",
    "lam_hat = NaN(T,size(N,1));\n",
    "\n",
    "%A starting value of guess for the p_hat that we will find\n",
    "lam_0 = rand;\n",
    "\n",
    "%Our options for the maximization routine:\n",
    "\n",
    "options = optimoptions('fmincon','Algorithm','interior-point',...\n",
    "                         'Display','off','UseParallel',true);"
   ]
  },
  {
   "cell_type": "code",
   "execution_count": 4,
   "metadata": {
    "collapsed": false,
    "deletable": true,
    "editable": true
   },
   "outputs": [
    {
     "data": {
      "text/plain": [
       "Elapsed time is 17.593803 seconds.\n"
      ]
     },
     "metadata": {},
     "output_type": "display_data"
    }
   ],
   "source": [
    "%%matlab\n",
    "\n",
    "%Program the Monte-Carlo experiment\n",
    "\n",
    "%outer loop runs the sample sizes\n",
    "\n",
    "tic\n",
    "for i=1:size(N,1)\n",
    "\n",
    "    sample_size = N(i);\n",
    "    \n",
    "    %run inner loop = MC loop - to make this go fast \n",
    "    %we will need to parallelize this otherwise it will\n",
    "    %take forever\n",
    "    \n",
    "    parfor j=1:T\n",
    "    \n",
    "        %First we generate a random sample of points\n",
    "        %between 0 and 1. We use the rand function \n",
    "        %to do this\n",
    "        \n",
    "        Y = exprnd(lam_true,sample_size,1);\n",
    "        \n",
    "        %Now we can run the fmincon routine on the sample Y \n",
    "        %and find the lambda that maximizes the likelihood of \n",
    "        %observing our sample vector Y:\n",
    "        \n",
    "        lam_hat(j,i) = fmincon(@(lam) Exponential(lam,sample_size,Y),...\n",
    "                               lam_0,[],[],[],[],0,[],[],options)\n",
    "    \n",
    "    end\n",
    "\n",
    "end\n",
    "toc"
   ]
  },
  {
   "cell_type": "code",
   "execution_count": 5,
   "metadata": {
    "collapsed": false,
    "deletable": true,
    "editable": true
   },
   "outputs": [
    {
     "data": {
      "text/plain": [
       "\n",
       "lam_mean =\n",
       "\n",
       "    1.8598    1.5290    1.4953    1.4925\n",
       "\n"
      ]
     },
     "metadata": {},
     "output_type": "display_data"
    }
   ],
   "source": [
    "%%matlab\n",
    "\n",
    "lam_mean = mean(lam_hat)"
   ]
  },
  {
   "cell_type": "code",
   "execution_count": 6,
   "metadata": {
    "collapsed": false,
    "deletable": true,
    "editable": true
   },
   "outputs": [
    {
     "data": {
      "text/plain": [
       "Parallel pool using the 'local' profile is shutting down.\n"
      ]
     },
     "metadata": {},
     "output_type": "display_data"
    }
   ],
   "source": [
    "%%matlab\n",
    "delete(gcp('nocreate'))"
   ]
  },
  {
   "cell_type": "markdown",
   "metadata": {
    "deletable": true,
    "editable": true
   },
   "source": [
    "## Cython/Python\n",
    "\n",
    "Here we will program the above cells in Python and call a Monte-Carlo function to yield us the outputs we desire. The Monte-Carlo function will be written in Cython and we will use the %timeit cell magic to give us a run-time of our Cython function. "
   ]
  },
  {
   "cell_type": "markdown",
   "metadata": {
    "deletable": true,
    "editable": true
   },
   "source": [
    "### Cython Function"
   ]
  },
  {
   "cell_type": "code",
   "execution_count": 7,
   "metadata": {
    "collapsed": false,
    "deletable": true,
    "editable": true
   },
   "outputs": [],
   "source": [
    "%load_ext cython"
   ]
  },
  {
   "cell_type": "code",
   "execution_count": 14,
   "metadata": {
    "collapsed": false,
    "deletable": true,
    "editable": true
   },
   "outputs": [],
   "source": [
    "%%cython -lgsl -lgslcblas\n",
    "\n",
    "#!python\n",
    "#cython: boundscheck=False, wraparound=False, nonecheck=False, cdivision=True\n",
    "\n",
    "#Import modules: \n",
    "\n",
    "from libc.stdlib cimport rand, RAND_MAX, malloc, calloc, realloc, free, abort\n",
    "from libc.math cimport log\n",
    "\n",
    "#Use the CythonGSL package to get the low-level routines\n",
    "from cython_gsl cimport *\n",
    "\n",
    "######################### Define the Data Structure ############################\n",
    "\n",
    "cdef struct Parameters:\n",
    "    #Pointer for Y data array\n",
    "    double* Y\n",
    "    #size of the array\n",
    "    int* Size\n",
    "\n",
    "################ Support Functions for Monte-Carlo Function ##################\n",
    "\n",
    "#Create a function that allocates the memory and verifies integrity\n",
    "cdef int alloc_struct(Parameters* data, int* N, unsigned int flag) nogil:\n",
    "    \n",
    "    cdef int Mem_Int = True\n",
    "    \n",
    "    #fill in the size of the array\n",
    "    data.Size = N\n",
    "    \n",
    "    #allocate the data array initially\n",
    "    if flag==0:\n",
    "        data.Y = <double*> calloc(N[0], sizeof(double))\n",
    "    #reallocate the data array according to the size of N\n",
    "    else:\n",
    "        data.Y = <double*> realloc(data.Y, N[0] * sizeof(double))\n",
    "    \n",
    "    #If the elements of the struct are not properly allocated, destory it and return null\n",
    "    if N[0]!=0 and data.Y==NULL:\n",
    "        \n",
    "        #return the memory to system\n",
    "        destroy_struct(data)\n",
    "        \n",
    "        #update the memory integrity variable to False\n",
    "        Mem_Int = False\n",
    "    \n",
    "    return Mem_Int\n",
    "\n",
    "#Create the destructor of the struct to return memory to system\n",
    "cdef void destroy_struct(Parameters* data) nogil:\n",
    "    free(data.Y)\n",
    "    free(data)\n",
    "\n",
    "#This function fills in the Y observed variable with discreet 0/1\n",
    "cdef void Y_fill(Parameters* data, gsl_rng* r, double lam) nogil:\n",
    "    \n",
    "    cdef:\n",
    "        Py_ssize_t i\n",
    "        double y\n",
    "        \n",
    "    for i in range(data.Size[0]):\n",
    "        \n",
    "        data.Y[i] = gsl_ran_exponential(r, lam)\n",
    "\n",
    "#Definition of the function to be maximized: LLF of the Exponential\n",
    "cdef double LLF(double lam, void* data) nogil:\n",
    "    \n",
    "    cdef:\n",
    "        #the sample structure (considered the parameter here)\n",
    "        Parameters* sample = <Parameters*> data\n",
    "        \n",
    "        #the loop iterator\n",
    "        Py_ssize_t i \n",
    "        int n = sample.Size[0]\n",
    "        \n",
    "        #the total of the LLF\n",
    "        double Sum = n*log(lam)\n",
    "     \n",
    "    for i in range(n):\n",
    "        \n",
    "        Sum -= lam*sample.Y[i]\n",
    "    \n",
    "    return (-(Sum/n))\n",
    "\n",
    "########################## Monte-Carlo Function ##############################\n",
    "\n",
    "cpdef void Monte_Carlo(int[::1] Samples, double[:,::1] lam_hat, double lam_true, int Sims) nogil:\n",
    "     \n",
    "    #Define variables and pointers\n",
    "    cdef:\n",
    "        #Data Structure\n",
    "        Parameters* Data\n",
    "            \n",
    "        #iterators\n",
    "        Py_ssize_t i, j\n",
    "        int status, GSL_CONTINUE, max_Iter = 10000, Iter\n",
    "        \n",
    "        #Variables\n",
    "        int N = Samples.shape[0], Mem_Int\n",
    "        double a, b, tol = 1e-6, start_val\n",
    "        \n",
    "        #define the GSL RNG variables\n",
    "        const gsl_rng_type* T \n",
    "        gsl_rng* r \n",
    "        \n",
    "        #GSL Minimization Objects\n",
    "        const gsl_min_fminimizer_type* U\n",
    "        gsl_min_fminimizer* s\n",
    "        gsl_function F\n",
    "        \n",
    "    #allocate the struct dynamically\n",
    "    Data = <Parameters*> malloc(sizeof(Parameters))\n",
    "    \n",
    "    #Allocate the minimization routine\n",
    "    U = gsl_min_fminimizer_brent\n",
    "    s = gsl_min_fminimizer_alloc(U)\n",
    "    \n",
    "    #Instantiate the RNG\n",
    "    gsl_rng_env_setup()\n",
    "    \n",
    "    T = gsl_rng_default\n",
    "    r = gsl_rng_alloc(T)\n",
    "    \n",
    "    #Verify memory integrity of allocated objects\n",
    "    if Data==NULL or s==NULL or r==NULL: abort()\n",
    "    \n",
    "    #Set the GSL function\n",
    "    F.function = &LLF\n",
    "    F.params = <void*> Data\n",
    "    \n",
    "    try:\n",
    "        for i in range(N): \n",
    "\n",
    "            #allocate the elements of the struct (if i>0, reallocate)\n",
    "            Mem_Int = alloc_struct(Data, &Samples[i], i)\n",
    "\n",
    "            #verify memory integrity of the allocated Struct\n",
    "            if Mem_Int==False: abort() \n",
    "                \n",
    "            for j in range(Sims):\n",
    "\n",
    "                #Randomly set the seed\n",
    "                gsl_rng_set(r, rand())\n",
    "\n",
    "                #fill the array in the struct\n",
    "                Y_fill(Data, r, lam_true)\n",
    "\n",
    "                #set the parameters in GSL F Function\n",
    "                a = tol; b = 1000\n",
    "\n",
    "                #set the starting value (random number)\n",
    "                start_val = rand()/<double>RAND_MAX\n",
    "\n",
    "                #set the minimizer\n",
    "                gsl_min_fminimizer_set(s, &F, start_val, a, b)\n",
    "\n",
    "                #initialize conditions\n",
    "                GSL_CONTINUE = -2\n",
    "                status = -2\n",
    "                Iter = 0\n",
    "\n",
    "                #maximize the function\n",
    "                while (status == GSL_CONTINUE and Iter < max_Iter):\n",
    "\n",
    "                    Iter += 1\n",
    "                    status = gsl_min_fminimizer_iterate(s)\n",
    "\n",
    "                    start_val = gsl_min_fminimizer_x_minimum(s)\n",
    "                    a = gsl_min_fminimizer_x_lower(s)\n",
    "                    b = gsl_min_fminimizer_x_upper(s)\n",
    "\n",
    "                    status = gsl_min_test_interval(a, b, tol, 0.0)\n",
    "\n",
    "                    if (status == GSL_SUCCESS):\n",
    "                        lam_hat[i,j] = start_val\n",
    "\n",
    "    finally:\n",
    "        destroy_struct(Data)\n",
    "        gsl_rng_free(r)\n",
    "        gsl_min_fminimizer_free(s)"
   ]
  },
  {
   "cell_type": "markdown",
   "metadata": {
    "deletable": true,
    "editable": true
   },
   "source": [
    "### Python Portion (call the Cythonized Monte-Carlo function)"
   ]
  },
  {
   "cell_type": "code",
   "execution_count": 9,
   "metadata": {
    "collapsed": true,
    "deletable": true,
    "editable": true
   },
   "outputs": [],
   "source": [
    "import numpy as np"
   ]
  },
  {
   "cell_type": "code",
   "execution_count": 10,
   "metadata": {
    "collapsed": true,
    "deletable": true,
    "editable": true
   },
   "outputs": [],
   "source": [
    "#First we will recreate the first cell in the matlab example in python\n",
    "\n",
    "#Sample Sizes\n",
    "N = np.array([5,50,500,5000], dtype='i')\n",
    "\n",
    "#Parameters for MC\n",
    "T = 1000\n",
    "lam_true = 0.67\n",
    "\n",
    "#Array of the outputs from the MC\n",
    "lam_hat = np.empty((N.size,T), dtype='d')\n",
    "lam_hat.fill(np.nan)"
   ]
  },
  {
   "cell_type": "code",
   "execution_count": 11,
   "metadata": {
    "collapsed": false,
    "deletable": true,
    "editable": true,
    "scrolled": false
   },
   "outputs": [
    {
     "name": "stdout",
     "output_type": "stream",
     "text": [
      "1 loop, best of 3: 254 ms per loop\n"
     ]
    }
   ],
   "source": [
    "%timeit Monte_Carlo(N, lam_hat, lam_true, T)"
   ]
  },
  {
   "cell_type": "code",
   "execution_count": 12,
   "metadata": {
    "collapsed": false,
    "deletable": true,
    "editable": true
   },
   "outputs": [
    {
     "name": "stdout",
     "output_type": "stream",
     "text": [
      "[ 1.89981833  1.52253325  1.49448779  1.49254098]\n"
     ]
    }
   ],
   "source": [
    "print(lam_hat.mean(axis=1))"
   ]
  },
  {
   "cell_type": "code",
   "execution_count": 13,
   "metadata": {
    "collapsed": false,
    "deletable": true,
    "editable": true
   },
   "outputs": [
    {
     "name": "stdout",
     "output_type": "stream",
     "text": [
      "The true lamba is 1.4925373134328357\n"
     ]
    }
   ],
   "source": [
    "print('The true lamba is {}'.format(1/lam_true))"
   ]
  },
  {
   "cell_type": "markdown",
   "metadata": {
    "deletable": true,
    "editable": true
   },
   "source": [
    "## Results\n",
    "\n",
    "When Matlab is parallelized the program takes 17.027 seconds to run (we MUST use it in parallel or this will take an impossibly long time - for example, if you use fminunc in Matlab2015b, which doesn't support parallelization, it takes too long to complete the MC experiment as it has to run through 4000 simulations).\n",
    "\n",
    "However, when we use the Cython function we complete the minimization routines in 254 milliseconds (0.254 seconds) on average. The code is slightly more complicated but it isn't impossible. Note that using pure python would likely results in speeds compoarable to Matlab, and we would likely have to make use of multiprocessing as well to make the computation feasible. Cython code *might* be faster than Matlab and Pure Python code using the minimization routines in the SciPy stack; but it will definitely be slower than this code as there will be overhead costs of making calls to the Python C-API. \n",
    "\n",
    "Using Cython and GSL results in a code that runs **67** times faster than in Matlab. "
   ]
  },
  {
   "cell_type": "code",
   "execution_count": null,
   "metadata": {
    "collapsed": true,
    "deletable": true,
    "editable": true
   },
   "outputs": [],
   "source": []
  }
 ],
 "metadata": {
  "kernelspec": {
   "display_name": "Python 3",
   "language": "python",
   "name": "python3"
  },
  "language_info": {
   "codemirror_mode": {
    "name": "ipython",
    "version": 3
   },
   "file_extension": ".py",
   "mimetype": "text/x-python",
   "name": "python",
   "nbconvert_exporter": "python",
   "pygments_lexer": "ipython3",
   "version": "3.6.0"
  }
 },
 "nbformat": 4,
 "nbformat_minor": 2
}
